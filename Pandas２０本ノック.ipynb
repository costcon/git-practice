{
  "nbformat": 4,
  "nbformat_minor": 0,
  "metadata": {
    "colab": {
      "name": "Pandas２０本ノック.ipynb",
      "provenance": [],
      "authorship_tag": "ABX9TyOvbllAq9a8U0eL+OWm/p3G",
      "include_colab_link": true
    },
    "kernelspec": {
      "name": "python3",
      "display_name": "Python 3"
    },
    "language_info": {
      "name": "python"
    }
  },
  "cells": [
    {
      "cell_type": "markdown",
      "metadata": {
        "id": "view-in-github",
        "colab_type": "text"
      },
      "source": [
        "<a href=\"https://colab.research.google.com/github/costcon/git-practice/blob/main/Pandas%EF%BC%92%EF%BC%90%E6%9C%AC%E3%83%8E%E3%83%83%E3%82%AF.ipynb\" target=\"_parent\"><img src=\"https://colab.research.google.com/assets/colab-badge.svg\" alt=\"Open In Colab\"/></a>"
      ]
    },
    {
      "cell_type": "markdown",
      "metadata": {
        "id": "8ER3FxRNPr8H"
      },
      "source": [
        "# **１問目：データの読み込み**"
      ]
    },
    {
      "cell_type": "code",
      "metadata": {
        "id": "0YjgGJVYPbZq"
      },
      "source": [
        "import pandas as pd"
      ],
      "execution_count": null,
      "outputs": []
    },
    {
      "cell_type": "markdown",
      "metadata": {
        "id": "n04sYs1-P09u"
      },
      "source": [
        "# **２問目：データの中身確認**"
      ]
    },
    {
      "cell_type": "code",
      "metadata": {
        "id": "wmSuSdzOPqTn"
      },
      "source": [
        ""
      ],
      "execution_count": null,
      "outputs": []
    },
    {
      "cell_type": "markdown",
      "metadata": {
        "id": "R5g-ZhRiP5QM"
      },
      "source": [
        "# **３問目：不要な列、行の削除**"
      ]
    },
    {
      "cell_type": "code",
      "metadata": {
        "id": "vn78MJD9PqWV"
      },
      "source": [
        ""
      ],
      "execution_count": null,
      "outputs": []
    },
    {
      "cell_type": "markdown",
      "metadata": {
        "id": "5BSVp4sfP9ha"
      },
      "source": [
        "# **４問目：データの型、サイズ、列名、行名の確認**"
      ]
    },
    {
      "cell_type": "code",
      "metadata": {
        "id": "l5Qxmst5PqZG"
      },
      "source": [
        ""
      ],
      "execution_count": null,
      "outputs": []
    },
    {
      "cell_type": "markdown",
      "metadata": {
        "id": "17Y3zpqVP7V5"
      },
      "source": [
        "# **５問目：任意の要素を取得**"
      ]
    },
    {
      "cell_type": "code",
      "metadata": {
        "id": "ybh6VPbePqbl"
      },
      "source": [
        ""
      ],
      "execution_count": null,
      "outputs": []
    },
    {
      "cell_type": "markdown",
      "metadata": {
        "id": "n7bCAPkBQCKM"
      },
      "source": [
        "# **６問目：条件抽出**"
      ]
    },
    {
      "cell_type": "code",
      "metadata": {
        "id": "Gkk3suGTQCAr"
      },
      "source": [
        ""
      ],
      "execution_count": null,
      "outputs": []
    },
    {
      "cell_type": "markdown",
      "metadata": {
        "id": "wicXm5dnQE_s"
      },
      "source": [
        "# **７問目：ユニークな値の抽出**"
      ]
    },
    {
      "cell_type": "code",
      "metadata": {
        "id": "cgPdpCzbPqeO"
      },
      "source": [
        ""
      ],
      "execution_count": null,
      "outputs": []
    },
    {
      "cell_type": "markdown",
      "metadata": {
        "id": "A2qZUZA7QHbM"
      },
      "source": [
        "# **８問目：重複除去**"
      ]
    },
    {
      "cell_type": "code",
      "metadata": {
        "id": "w7yMuf1yQHoe"
      },
      "source": [
        ""
      ],
      "execution_count": null,
      "outputs": []
    },
    {
      "cell_type": "markdown",
      "metadata": {
        "id": "MG2u3M0_QHup"
      },
      "source": [
        "# **９問目：カラム名変更**"
      ]
    },
    {
      "cell_type": "code",
      "metadata": {
        "id": "_F7PYZjnQHz9"
      },
      "source": [
        ""
      ],
      "execution_count": null,
      "outputs": []
    },
    {
      "cell_type": "markdown",
      "metadata": {
        "id": "jAkenvfOQH7u"
      },
      "source": [
        "# **１０問目：並び替え**"
      ]
    },
    {
      "cell_type": "code",
      "metadata": {
        "id": "tNDwSi_WQIGw"
      },
      "source": [
        ""
      ],
      "execution_count": null,
      "outputs": []
    },
    {
      "cell_type": "markdown",
      "metadata": {
        "id": "KI82jPOTQShR"
      },
      "source": [
        "# **１１問目：ダミー変数への処理**"
      ]
    },
    {
      "cell_type": "code",
      "metadata": {
        "id": "EXUKVLOpQjCw"
      },
      "source": [
        ""
      ],
      "execution_count": null,
      "outputs": []
    },
    {
      "cell_type": "markdown",
      "metadata": {
        "id": "aQLepKE_QSlN"
      },
      "source": [
        "# **１２問目：欠損値の確認**"
      ]
    },
    {
      "cell_type": "code",
      "metadata": {
        "id": "6Dy9zDm5Qjqw"
      },
      "source": [
        ""
      ],
      "execution_count": null,
      "outputs": []
    },
    {
      "cell_type": "markdown",
      "metadata": {
        "id": "hWD20iqFQSoC"
      },
      "source": [
        "# **１３問目：欠損値の補完**"
      ]
    },
    {
      "cell_type": "code",
      "metadata": {
        "id": "ugIJfl5kQkeN"
      },
      "source": [
        ""
      ],
      "execution_count": null,
      "outputs": []
    },
    {
      "cell_type": "markdown",
      "metadata": {
        "id": "cRQq0UhVQSqp"
      },
      "source": [
        "# **１４問目：欠損値の削除**"
      ]
    },
    {
      "cell_type": "code",
      "metadata": {
        "id": "AAt5NQ85Qk2T"
      },
      "source": [
        ""
      ],
      "execution_count": null,
      "outputs": []
    },
    {
      "cell_type": "markdown",
      "metadata": {
        "id": "e3SnYAI_QStQ"
      },
      "source": [
        "# **１５問目：ユニークな値と出現回数**"
      ]
    },
    {
      "cell_type": "code",
      "metadata": {
        "id": "EwhMVj5XQlT4"
      },
      "source": [
        ""
      ],
      "execution_count": null,
      "outputs": []
    },
    {
      "cell_type": "markdown",
      "metadata": {
        "id": "2NA8UNe7QS5Y"
      },
      "source": [
        "# **１６問目：グループごとの集計**"
      ]
    },
    {
      "cell_type": "code",
      "metadata": {
        "id": "gC8korucQlp2"
      },
      "source": [
        ""
      ],
      "execution_count": null,
      "outputs": []
    },
    {
      "cell_type": "markdown",
      "metadata": {
        "id": "B96NerJ3QTPt"
      },
      "source": [
        "# **１７問目：統計量の確認**"
      ]
    },
    {
      "cell_type": "code",
      "metadata": {
        "id": "n6a9BlEyQmhB"
      },
      "source": [
        ""
      ],
      "execution_count": null,
      "outputs": []
    },
    {
      "cell_type": "markdown",
      "metadata": {
        "id": "DsPkaB1hQTVs"
      },
      "source": [
        "# **１８問目：折れ線グラフの表示**"
      ]
    },
    {
      "cell_type": "code",
      "metadata": {
        "id": "27YnShDuQnRT"
      },
      "source": [
        ""
      ],
      "execution_count": null,
      "outputs": []
    },
    {
      "cell_type": "markdown",
      "metadata": {
        "id": "hq9oBrFSQTgw"
      },
      "source": [
        "# **１９問目：相関係数の算出**"
      ]
    },
    {
      "cell_type": "code",
      "metadata": {
        "id": "eWeLO-UcQn1G"
      },
      "source": [
        ""
      ],
      "execution_count": null,
      "outputs": []
    },
    {
      "cell_type": "markdown",
      "metadata": {
        "id": "rZj1468dQeJL"
      },
      "source": [
        "# **２０問目：データの出力**"
      ]
    },
    {
      "cell_type": "code",
      "metadata": {
        "id": "1jEUNCVpQoTA"
      },
      "source": [
        ""
      ],
      "execution_count": null,
      "outputs": []
    }
  ]
}