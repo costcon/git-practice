{
  "nbformat": 4,
  "nbformat_minor": 0,
  "metadata": {
    "colab": {
      "name": "Pandas２０本ノック.ipynb",
      "provenance": [],
      "collapsed_sections": [
        "8ER3FxRNPr8H",
        "n04sYs1-P09u",
        "R5g-ZhRiP5QM",
        "5BSVp4sfP9ha",
        "17Y3zpqVP7V5",
        "n7bCAPkBQCKM",
        "wicXm5dnQE_s",
        "A2qZUZA7QHbM",
        "MG2u3M0_QHup",
        "jAkenvfOQH7u",
        "e3SnYAI_QStQ",
        "2NA8UNe7QS5Y",
        "B96NerJ3QTPt",
        "DsPkaB1hQTVs",
        "hq9oBrFSQTgw",
        "rZj1468dQeJL"
      ],
      "authorship_tag": "ABX9TyNECnqoKqZQMHZV6FiLpxLW",
      "include_colab_link": true
    },
    "kernelspec": {
      "name": "python3",
      "display_name": "Python 3"
    },
    "language_info": {
      "name": "python"
    }
  },
  "cells": [
    {
      "cell_type": "markdown",
      "metadata": {
        "id": "view-in-github",
        "colab_type": "text"
      },
      "source": [
        "<a href=\"https://colab.research.google.com/github/costcon/git-practice/blob/main/Pandas%EF%BC%92%EF%BC%90%E6%9C%AC%E3%83%8E%E3%83%83%E3%82%AF.ipynb\" target=\"_parent\"><img src=\"https://colab.research.google.com/assets/colab-badge.svg\" alt=\"Open In Colab\"/></a>"
      ]
    },
    {
      "cell_type": "code",
      "metadata": {
        "colab": {
          "base_uri": "https://localhost:8080/"
        },
        "id": "WmBwkiidVC2O",
        "outputId": "1d772da4-2dde-44ac-bcc2-2c28a9857e95"
      },
      "source": [
        "from google.colab import drive\n",
        "drive.mount('/content/drive/')"
      ],
      "execution_count": 2,
      "outputs": [
        {
          "output_type": "stream",
          "text": [
            "Drive already mounted at /content/drive/; to attempt to forcibly remount, call drive.mount(\"/content/drive/\", force_remount=True).\n"
          ],
          "name": "stdout"
        }
      ]
    },
    {
      "cell_type": "code",
      "metadata": {
        "colab": {
          "base_uri": "https://localhost:8080/"
        },
        "id": "0UWMarzEVPHa",
        "outputId": "8cb65d4e-047b-4745-ce7e-fc4b4dc1ad0b"
      },
      "source": [
        "cd \"/content/drive/MyDrive/DWC/４ヶ月目　AIコース/01_pandas/【いまにゅ】Pandas２０本ノック\""
      ],
      "execution_count": 35,
      "outputs": [
        {
          "output_type": "stream",
          "text": [
            "/content/drive/MyDrive/DWC/４ヶ月目　AIコース/01_pandas/【いまにゅ】Pandas２０本ノック\n"
          ],
          "name": "stdout"
        }
      ]
    },
    {
      "cell_type": "markdown",
      "metadata": {
        "id": "8ER3FxRNPr8H"
      },
      "source": [
        "# **１問目：データの読み込み**"
      ]
    },
    {
      "cell_type": "code",
      "metadata": {
        "id": "0YjgGJVYPbZq"
      },
      "source": [
        "import pandas as pd"
      ],
      "execution_count": 36,
      "outputs": []
    },
    {
      "cell_type": "code",
      "metadata": {
        "colab": {
          "base_uri": "https://localhost:8080/",
          "height": 524
        },
        "id": "1Nk6zG7wVwdN",
        "outputId": "bf3682e7-609c-477e-9fc6-1ecd1fd37fe0"
      },
      "source": [
        "df = pd.read_csv('weather.csv')\n",
        "df"
      ],
      "execution_count": 37,
      "outputs": [
        {
          "output_type": "execute_result",
          "data": {
            "text/html": [
              "<div>\n",
              "<style scoped>\n",
              "    .dataframe tbody tr th:only-of-type {\n",
              "        vertical-align: middle;\n",
              "    }\n",
              "\n",
              "    .dataframe tbody tr th {\n",
              "        vertical-align: top;\n",
              "    }\n",
              "\n",
              "    .dataframe thead th {\n",
              "        text-align: right;\n",
              "    }\n",
              "</style>\n",
              "<table border=\"1\" class=\"dataframe\">\n",
              "  <thead>\n",
              "    <tr style=\"text-align: right;\">\n",
              "      <th></th>\n",
              "      <th>年月日</th>\n",
              "      <th>平均気温(℃)</th>\n",
              "      <th>平均気温(℃).1</th>\n",
              "      <th>平均気温(℃).2</th>\n",
              "      <th>最高気温(℃)</th>\n",
              "      <th>最高気温(℃).1</th>\n",
              "      <th>最高気温(℃).2</th>\n",
              "      <th>最低気温(℃)</th>\n",
              "      <th>最低気温(℃).1</th>\n",
              "      <th>最低気温(℃).2</th>\n",
              "      <th>降水量の合計(mm)</th>\n",
              "      <th>降水量の合計(mm).1</th>\n",
              "      <th>降水量の合計(mm).2</th>\n",
              "      <th>最深積雪(cm)</th>\n",
              "      <th>最深積雪(cm).1</th>\n",
              "      <th>最深積雪(cm).2</th>\n",
              "      <th>平均雲量(10分比)</th>\n",
              "      <th>平均雲量(10分比).1</th>\n",
              "      <th>平均雲量(10分比).2</th>\n",
              "      <th>平均蒸気圧(hPa)</th>\n",
              "      <th>平均蒸気圧(hPa).1</th>\n",
              "      <th>平均蒸気圧(hPa).2</th>\n",
              "      <th>平均風速(m/s)</th>\n",
              "      <th>平均風速(m/s).1</th>\n",
              "      <th>平均風速(m/s).2</th>\n",
              "      <th>日照時間(時間)</th>\n",
              "      <th>日照時間(時間).1</th>\n",
              "      <th>日照時間(時間).2</th>\n",
              "    </tr>\n",
              "  </thead>\n",
              "  <tbody>\n",
              "    <tr>\n",
              "      <th>0</th>\n",
              "      <td>NaN</td>\n",
              "      <td>NaN</td>\n",
              "      <td>品質情報</td>\n",
              "      <td>均質番号</td>\n",
              "      <td>NaN</td>\n",
              "      <td>品質情報</td>\n",
              "      <td>均質番号</td>\n",
              "      <td>NaN</td>\n",
              "      <td>品質情報</td>\n",
              "      <td>均質番号</td>\n",
              "      <td>NaN</td>\n",
              "      <td>品質情報</td>\n",
              "      <td>均質番号</td>\n",
              "      <td>NaN</td>\n",
              "      <td>品質情報</td>\n",
              "      <td>均質番号</td>\n",
              "      <td>NaN</td>\n",
              "      <td>品質情報</td>\n",
              "      <td>均質番号</td>\n",
              "      <td>NaN</td>\n",
              "      <td>品質情報</td>\n",
              "      <td>均質番号</td>\n",
              "      <td>NaN</td>\n",
              "      <td>品質情報</td>\n",
              "      <td>均質番号</td>\n",
              "      <td>NaN</td>\n",
              "      <td>品質情報</td>\n",
              "      <td>均質番号</td>\n",
              "    </tr>\n",
              "    <tr>\n",
              "      <th>1</th>\n",
              "      <td>2019/12/14</td>\n",
              "      <td>9.3</td>\n",
              "      <td>8</td>\n",
              "      <td>1</td>\n",
              "      <td>15.9</td>\n",
              "      <td>8</td>\n",
              "      <td>1</td>\n",
              "      <td>3.2</td>\n",
              "      <td>8</td>\n",
              "      <td>1</td>\n",
              "      <td>0.0</td>\n",
              "      <td>8</td>\n",
              "      <td>1</td>\n",
              "      <td>NaN</td>\n",
              "      <td>0</td>\n",
              "      <td>1</td>\n",
              "      <td>NaN</td>\n",
              "      <td>0</td>\n",
              "      <td>1</td>\n",
              "      <td>NaN</td>\n",
              "      <td>0</td>\n",
              "      <td>1</td>\n",
              "      <td>2.0</td>\n",
              "      <td>8</td>\n",
              "      <td>1</td>\n",
              "      <td>8.9</td>\n",
              "      <td>8</td>\n",
              "      <td>1</td>\n",
              "    </tr>\n",
              "    <tr>\n",
              "      <th>2</th>\n",
              "      <td>2019/12/15</td>\n",
              "      <td>7.8</td>\n",
              "      <td>8</td>\n",
              "      <td>1</td>\n",
              "      <td>11.1</td>\n",
              "      <td>8</td>\n",
              "      <td>1</td>\n",
              "      <td>4.0</td>\n",
              "      <td>8</td>\n",
              "      <td>1</td>\n",
              "      <td>0.0</td>\n",
              "      <td>8</td>\n",
              "      <td>1</td>\n",
              "      <td>NaN</td>\n",
              "      <td>0</td>\n",
              "      <td>1</td>\n",
              "      <td>NaN</td>\n",
              "      <td>0</td>\n",
              "      <td>1</td>\n",
              "      <td>NaN</td>\n",
              "      <td>0</td>\n",
              "      <td>1</td>\n",
              "      <td>2.3</td>\n",
              "      <td>8</td>\n",
              "      <td>1</td>\n",
              "      <td>6.3</td>\n",
              "      <td>8</td>\n",
              "      <td>1</td>\n",
              "    </tr>\n",
              "    <tr>\n",
              "      <th>3</th>\n",
              "      <td>2019/12/16</td>\n",
              "      <td>6.9</td>\n",
              "      <td>8</td>\n",
              "      <td>1</td>\n",
              "      <td>12.5</td>\n",
              "      <td>8</td>\n",
              "      <td>1</td>\n",
              "      <td>1.3</td>\n",
              "      <td>8</td>\n",
              "      <td>1</td>\n",
              "      <td>0.0</td>\n",
              "      <td>8</td>\n",
              "      <td>1</td>\n",
              "      <td>NaN</td>\n",
              "      <td>0</td>\n",
              "      <td>1</td>\n",
              "      <td>NaN</td>\n",
              "      <td>0</td>\n",
              "      <td>1</td>\n",
              "      <td>NaN</td>\n",
              "      <td>0</td>\n",
              "      <td>1</td>\n",
              "      <td>1.1</td>\n",
              "      <td>8</td>\n",
              "      <td>1</td>\n",
              "      <td>8.9</td>\n",
              "      <td>8</td>\n",
              "      <td>1</td>\n",
              "    </tr>\n",
              "    <tr>\n",
              "      <th>4</th>\n",
              "      <td>2019/12/17</td>\n",
              "      <td>8.2</td>\n",
              "      <td>8</td>\n",
              "      <td>1</td>\n",
              "      <td>10.3</td>\n",
              "      <td>8</td>\n",
              "      <td>1</td>\n",
              "      <td>5.7</td>\n",
              "      <td>8</td>\n",
              "      <td>1</td>\n",
              "      <td>2.0</td>\n",
              "      <td>8</td>\n",
              "      <td>1</td>\n",
              "      <td>NaN</td>\n",
              "      <td>0</td>\n",
              "      <td>1</td>\n",
              "      <td>NaN</td>\n",
              "      <td>0</td>\n",
              "      <td>1</td>\n",
              "      <td>NaN</td>\n",
              "      <td>0</td>\n",
              "      <td>1</td>\n",
              "      <td>1.1</td>\n",
              "      <td>8</td>\n",
              "      <td>1</td>\n",
              "      <td>0.2</td>\n",
              "      <td>8</td>\n",
              "      <td>1</td>\n",
              "    </tr>\n",
              "    <tr>\n",
              "      <th>...</th>\n",
              "      <td>...</td>\n",
              "      <td>...</td>\n",
              "      <td>...</td>\n",
              "      <td>...</td>\n",
              "      <td>...</td>\n",
              "      <td>...</td>\n",
              "      <td>...</td>\n",
              "      <td>...</td>\n",
              "      <td>...</td>\n",
              "      <td>...</td>\n",
              "      <td>...</td>\n",
              "      <td>...</td>\n",
              "      <td>...</td>\n",
              "      <td>...</td>\n",
              "      <td>...</td>\n",
              "      <td>...</td>\n",
              "      <td>...</td>\n",
              "      <td>...</td>\n",
              "      <td>...</td>\n",
              "      <td>...</td>\n",
              "      <td>...</td>\n",
              "      <td>...</td>\n",
              "      <td>...</td>\n",
              "      <td>...</td>\n",
              "      <td>...</td>\n",
              "      <td>...</td>\n",
              "      <td>...</td>\n",
              "      <td>...</td>\n",
              "    </tr>\n",
              "    <tr>\n",
              "      <th>363</th>\n",
              "      <td>2020/12/10</td>\n",
              "      <td>8.7</td>\n",
              "      <td>8</td>\n",
              "      <td>1</td>\n",
              "      <td>11.1</td>\n",
              "      <td>8</td>\n",
              "      <td>1</td>\n",
              "      <td>6.0</td>\n",
              "      <td>8</td>\n",
              "      <td>1</td>\n",
              "      <td>0.5</td>\n",
              "      <td>8</td>\n",
              "      <td>1</td>\n",
              "      <td>NaN</td>\n",
              "      <td>0</td>\n",
              "      <td>1</td>\n",
              "      <td>NaN</td>\n",
              "      <td>0</td>\n",
              "      <td>1</td>\n",
              "      <td>NaN</td>\n",
              "      <td>0</td>\n",
              "      <td>1</td>\n",
              "      <td>1.4</td>\n",
              "      <td>8</td>\n",
              "      <td>1</td>\n",
              "      <td>0.0</td>\n",
              "      <td>8</td>\n",
              "      <td>1</td>\n",
              "    </tr>\n",
              "    <tr>\n",
              "      <th>364</th>\n",
              "      <td>2020/12/11</td>\n",
              "      <td>9.2</td>\n",
              "      <td>8</td>\n",
              "      <td>1</td>\n",
              "      <td>13.8</td>\n",
              "      <td>8</td>\n",
              "      <td>1</td>\n",
              "      <td>3.5</td>\n",
              "      <td>8</td>\n",
              "      <td>1</td>\n",
              "      <td>0.0</td>\n",
              "      <td>8</td>\n",
              "      <td>1</td>\n",
              "      <td>NaN</td>\n",
              "      <td>0</td>\n",
              "      <td>1</td>\n",
              "      <td>NaN</td>\n",
              "      <td>0</td>\n",
              "      <td>1</td>\n",
              "      <td>NaN</td>\n",
              "      <td>0</td>\n",
              "      <td>1</td>\n",
              "      <td>0.8</td>\n",
              "      <td>8</td>\n",
              "      <td>1</td>\n",
              "      <td>4.3</td>\n",
              "      <td>8</td>\n",
              "      <td>1</td>\n",
              "    </tr>\n",
              "    <tr>\n",
              "      <th>365</th>\n",
              "      <td>2020/12/12</td>\n",
              "      <td>10.4</td>\n",
              "      <td>8</td>\n",
              "      <td>1</td>\n",
              "      <td>14.0</td>\n",
              "      <td>8</td>\n",
              "      <td>1</td>\n",
              "      <td>8.0</td>\n",
              "      <td>8</td>\n",
              "      <td>1</td>\n",
              "      <td>0.0</td>\n",
              "      <td>8</td>\n",
              "      <td>1</td>\n",
              "      <td>NaN</td>\n",
              "      <td>0</td>\n",
              "      <td>1</td>\n",
              "      <td>NaN</td>\n",
              "      <td>0</td>\n",
              "      <td>1</td>\n",
              "      <td>NaN</td>\n",
              "      <td>0</td>\n",
              "      <td>1</td>\n",
              "      <td>1.4</td>\n",
              "      <td>8</td>\n",
              "      <td>1</td>\n",
              "      <td>1.4</td>\n",
              "      <td>8</td>\n",
              "      <td>1</td>\n",
              "    </tr>\n",
              "    <tr>\n",
              "      <th>366</th>\n",
              "      <td>2020/12/13</td>\n",
              "      <td>8.6</td>\n",
              "      <td>8</td>\n",
              "      <td>1</td>\n",
              "      <td>14.4</td>\n",
              "      <td>8</td>\n",
              "      <td>1</td>\n",
              "      <td>4.4</td>\n",
              "      <td>8</td>\n",
              "      <td>1</td>\n",
              "      <td>0.0</td>\n",
              "      <td>8</td>\n",
              "      <td>1</td>\n",
              "      <td>NaN</td>\n",
              "      <td>0</td>\n",
              "      <td>1</td>\n",
              "      <td>NaN</td>\n",
              "      <td>0</td>\n",
              "      <td>1</td>\n",
              "      <td>NaN</td>\n",
              "      <td>0</td>\n",
              "      <td>1</td>\n",
              "      <td>1.0</td>\n",
              "      <td>8</td>\n",
              "      <td>1</td>\n",
              "      <td>5.5</td>\n",
              "      <td>8</td>\n",
              "      <td>1</td>\n",
              "    </tr>\n",
              "    <tr>\n",
              "      <th>367</th>\n",
              "      <td>2020/12/14</td>\n",
              "      <td>7.8</td>\n",
              "      <td>8</td>\n",
              "      <td>1</td>\n",
              "      <td>12.2</td>\n",
              "      <td>8</td>\n",
              "      <td>1</td>\n",
              "      <td>4.4</td>\n",
              "      <td>8</td>\n",
              "      <td>1</td>\n",
              "      <td>0.0</td>\n",
              "      <td>8</td>\n",
              "      <td>1</td>\n",
              "      <td>NaN</td>\n",
              "      <td>0</td>\n",
              "      <td>1</td>\n",
              "      <td>NaN</td>\n",
              "      <td>0</td>\n",
              "      <td>1</td>\n",
              "      <td>NaN</td>\n",
              "      <td>0</td>\n",
              "      <td>1</td>\n",
              "      <td>1.9</td>\n",
              "      <td>8</td>\n",
              "      <td>1</td>\n",
              "      <td>4.4</td>\n",
              "      <td>8</td>\n",
              "      <td>1</td>\n",
              "    </tr>\n",
              "  </tbody>\n",
              "</table>\n",
              "<p>368 rows × 28 columns</p>\n",
              "</div>"
            ],
            "text/plain": [
              "            年月日  平均気温(℃) 平均気温(℃).1  ... 日照時間(時間)  日照時間(時間).1 日照時間(時間).2\n",
              "0           NaN      NaN      品質情報  ...      NaN        品質情報       均質番号\n",
              "1    2019/12/14      9.3         8  ...      8.9           8          1\n",
              "2    2019/12/15      7.8         8  ...      6.3           8          1\n",
              "3    2019/12/16      6.9         8  ...      8.9           8          1\n",
              "4    2019/12/17      8.2         8  ...      0.2           8          1\n",
              "..          ...      ...       ...  ...      ...         ...        ...\n",
              "363  2020/12/10      8.7         8  ...      0.0           8          1\n",
              "364  2020/12/11      9.2         8  ...      4.3           8          1\n",
              "365  2020/12/12     10.4         8  ...      1.4           8          1\n",
              "366  2020/12/13      8.6         8  ...      5.5           8          1\n",
              "367  2020/12/14      7.8         8  ...      4.4           8          1\n",
              "\n",
              "[368 rows x 28 columns]"
            ]
          },
          "metadata": {
            "tags": []
          },
          "execution_count": 37
        }
      ]
    },
    {
      "cell_type": "markdown",
      "metadata": {
        "id": "n04sYs1-P09u"
      },
      "source": [
        "# **２問目：データの中身確認**"
      ]
    },
    {
      "cell_type": "code",
      "metadata": {
        "id": "wmSuSdzOPqTn",
        "colab": {
          "base_uri": "https://localhost:8080/",
          "height": 247
        },
        "outputId": "262d56a2-72e7-4a81-d89f-148f11ad2665"
      },
      "source": [
        "df.head(3)"
      ],
      "execution_count": 38,
      "outputs": [
        {
          "output_type": "execute_result",
          "data": {
            "text/html": [
              "<div>\n",
              "<style scoped>\n",
              "    .dataframe tbody tr th:only-of-type {\n",
              "        vertical-align: middle;\n",
              "    }\n",
              "\n",
              "    .dataframe tbody tr th {\n",
              "        vertical-align: top;\n",
              "    }\n",
              "\n",
              "    .dataframe thead th {\n",
              "        text-align: right;\n",
              "    }\n",
              "</style>\n",
              "<table border=\"1\" class=\"dataframe\">\n",
              "  <thead>\n",
              "    <tr style=\"text-align: right;\">\n",
              "      <th></th>\n",
              "      <th>年月日</th>\n",
              "      <th>平均気温(℃)</th>\n",
              "      <th>平均気温(℃).1</th>\n",
              "      <th>平均気温(℃).2</th>\n",
              "      <th>最高気温(℃)</th>\n",
              "      <th>最高気温(℃).1</th>\n",
              "      <th>最高気温(℃).2</th>\n",
              "      <th>最低気温(℃)</th>\n",
              "      <th>最低気温(℃).1</th>\n",
              "      <th>最低気温(℃).2</th>\n",
              "      <th>降水量の合計(mm)</th>\n",
              "      <th>降水量の合計(mm).1</th>\n",
              "      <th>降水量の合計(mm).2</th>\n",
              "      <th>最深積雪(cm)</th>\n",
              "      <th>最深積雪(cm).1</th>\n",
              "      <th>最深積雪(cm).2</th>\n",
              "      <th>平均雲量(10分比)</th>\n",
              "      <th>平均雲量(10分比).1</th>\n",
              "      <th>平均雲量(10分比).2</th>\n",
              "      <th>平均蒸気圧(hPa)</th>\n",
              "      <th>平均蒸気圧(hPa).1</th>\n",
              "      <th>平均蒸気圧(hPa).2</th>\n",
              "      <th>平均風速(m/s)</th>\n",
              "      <th>平均風速(m/s).1</th>\n",
              "      <th>平均風速(m/s).2</th>\n",
              "      <th>日照時間(時間)</th>\n",
              "      <th>日照時間(時間).1</th>\n",
              "      <th>日照時間(時間).2</th>\n",
              "    </tr>\n",
              "  </thead>\n",
              "  <tbody>\n",
              "    <tr>\n",
              "      <th>0</th>\n",
              "      <td>NaN</td>\n",
              "      <td>NaN</td>\n",
              "      <td>品質情報</td>\n",
              "      <td>均質番号</td>\n",
              "      <td>NaN</td>\n",
              "      <td>品質情報</td>\n",
              "      <td>均質番号</td>\n",
              "      <td>NaN</td>\n",
              "      <td>品質情報</td>\n",
              "      <td>均質番号</td>\n",
              "      <td>NaN</td>\n",
              "      <td>品質情報</td>\n",
              "      <td>均質番号</td>\n",
              "      <td>NaN</td>\n",
              "      <td>品質情報</td>\n",
              "      <td>均質番号</td>\n",
              "      <td>NaN</td>\n",
              "      <td>品質情報</td>\n",
              "      <td>均質番号</td>\n",
              "      <td>NaN</td>\n",
              "      <td>品質情報</td>\n",
              "      <td>均質番号</td>\n",
              "      <td>NaN</td>\n",
              "      <td>品質情報</td>\n",
              "      <td>均質番号</td>\n",
              "      <td>NaN</td>\n",
              "      <td>品質情報</td>\n",
              "      <td>均質番号</td>\n",
              "    </tr>\n",
              "    <tr>\n",
              "      <th>1</th>\n",
              "      <td>2019/12/14</td>\n",
              "      <td>9.3</td>\n",
              "      <td>8</td>\n",
              "      <td>1</td>\n",
              "      <td>15.9</td>\n",
              "      <td>8</td>\n",
              "      <td>1</td>\n",
              "      <td>3.2</td>\n",
              "      <td>8</td>\n",
              "      <td>1</td>\n",
              "      <td>0.0</td>\n",
              "      <td>8</td>\n",
              "      <td>1</td>\n",
              "      <td>NaN</td>\n",
              "      <td>0</td>\n",
              "      <td>1</td>\n",
              "      <td>NaN</td>\n",
              "      <td>0</td>\n",
              "      <td>1</td>\n",
              "      <td>NaN</td>\n",
              "      <td>0</td>\n",
              "      <td>1</td>\n",
              "      <td>2.0</td>\n",
              "      <td>8</td>\n",
              "      <td>1</td>\n",
              "      <td>8.9</td>\n",
              "      <td>8</td>\n",
              "      <td>1</td>\n",
              "    </tr>\n",
              "    <tr>\n",
              "      <th>2</th>\n",
              "      <td>2019/12/15</td>\n",
              "      <td>7.8</td>\n",
              "      <td>8</td>\n",
              "      <td>1</td>\n",
              "      <td>11.1</td>\n",
              "      <td>8</td>\n",
              "      <td>1</td>\n",
              "      <td>4.0</td>\n",
              "      <td>8</td>\n",
              "      <td>1</td>\n",
              "      <td>0.0</td>\n",
              "      <td>8</td>\n",
              "      <td>1</td>\n",
              "      <td>NaN</td>\n",
              "      <td>0</td>\n",
              "      <td>1</td>\n",
              "      <td>NaN</td>\n",
              "      <td>0</td>\n",
              "      <td>1</td>\n",
              "      <td>NaN</td>\n",
              "      <td>0</td>\n",
              "      <td>1</td>\n",
              "      <td>2.3</td>\n",
              "      <td>8</td>\n",
              "      <td>1</td>\n",
              "      <td>6.3</td>\n",
              "      <td>8</td>\n",
              "      <td>1</td>\n",
              "    </tr>\n",
              "  </tbody>\n",
              "</table>\n",
              "</div>"
            ],
            "text/plain": [
              "          年月日  平均気温(℃) 平均気温(℃).1  ... 日照時間(時間)  日照時間(時間).1 日照時間(時間).2\n",
              "0         NaN      NaN      品質情報  ...      NaN        品質情報       均質番号\n",
              "1  2019/12/14      9.3         8  ...      8.9           8          1\n",
              "2  2019/12/15      7.8         8  ...      6.3           8          1\n",
              "\n",
              "[3 rows x 28 columns]"
            ]
          },
          "metadata": {
            "tags": []
          },
          "execution_count": 38
        }
      ]
    },
    {
      "cell_type": "code",
      "metadata": {
        "colab": {
          "base_uri": "https://localhost:8080/",
          "height": 464
        },
        "id": "lcCmOUU-XB2Q",
        "outputId": "6afd1cb7-91b2-411e-8be9-199c4ee14e01"
      },
      "source": [
        "df.tail(10)"
      ],
      "execution_count": 39,
      "outputs": [
        {
          "output_type": "execute_result",
          "data": {
            "text/html": [
              "<div>\n",
              "<style scoped>\n",
              "    .dataframe tbody tr th:only-of-type {\n",
              "        vertical-align: middle;\n",
              "    }\n",
              "\n",
              "    .dataframe tbody tr th {\n",
              "        vertical-align: top;\n",
              "    }\n",
              "\n",
              "    .dataframe thead th {\n",
              "        text-align: right;\n",
              "    }\n",
              "</style>\n",
              "<table border=\"1\" class=\"dataframe\">\n",
              "  <thead>\n",
              "    <tr style=\"text-align: right;\">\n",
              "      <th></th>\n",
              "      <th>年月日</th>\n",
              "      <th>平均気温(℃)</th>\n",
              "      <th>平均気温(℃).1</th>\n",
              "      <th>平均気温(℃).2</th>\n",
              "      <th>最高気温(℃)</th>\n",
              "      <th>最高気温(℃).1</th>\n",
              "      <th>最高気温(℃).2</th>\n",
              "      <th>最低気温(℃)</th>\n",
              "      <th>最低気温(℃).1</th>\n",
              "      <th>最低気温(℃).2</th>\n",
              "      <th>降水量の合計(mm)</th>\n",
              "      <th>降水量の合計(mm).1</th>\n",
              "      <th>降水量の合計(mm).2</th>\n",
              "      <th>最深積雪(cm)</th>\n",
              "      <th>最深積雪(cm).1</th>\n",
              "      <th>最深積雪(cm).2</th>\n",
              "      <th>平均雲量(10分比)</th>\n",
              "      <th>平均雲量(10分比).1</th>\n",
              "      <th>平均雲量(10分比).2</th>\n",
              "      <th>平均蒸気圧(hPa)</th>\n",
              "      <th>平均蒸気圧(hPa).1</th>\n",
              "      <th>平均蒸気圧(hPa).2</th>\n",
              "      <th>平均風速(m/s)</th>\n",
              "      <th>平均風速(m/s).1</th>\n",
              "      <th>平均風速(m/s).2</th>\n",
              "      <th>日照時間(時間)</th>\n",
              "      <th>日照時間(時間).1</th>\n",
              "      <th>日照時間(時間).2</th>\n",
              "    </tr>\n",
              "  </thead>\n",
              "  <tbody>\n",
              "    <tr>\n",
              "      <th>358</th>\n",
              "      <td>2020/12/5</td>\n",
              "      <td>6.0</td>\n",
              "      <td>8</td>\n",
              "      <td>1</td>\n",
              "      <td>7.3</td>\n",
              "      <td>8</td>\n",
              "      <td>1</td>\n",
              "      <td>4.3</td>\n",
              "      <td>8</td>\n",
              "      <td>1</td>\n",
              "      <td>4.0</td>\n",
              "      <td>8</td>\n",
              "      <td>1</td>\n",
              "      <td>NaN</td>\n",
              "      <td>0</td>\n",
              "      <td>1</td>\n",
              "      <td>NaN</td>\n",
              "      <td>0</td>\n",
              "      <td>1</td>\n",
              "      <td>NaN</td>\n",
              "      <td>0</td>\n",
              "      <td>1</td>\n",
              "      <td>1.4</td>\n",
              "      <td>8</td>\n",
              "      <td>1</td>\n",
              "      <td>0.0</td>\n",
              "      <td>8</td>\n",
              "      <td>1</td>\n",
              "    </tr>\n",
              "    <tr>\n",
              "      <th>359</th>\n",
              "      <td>2020/12/6</td>\n",
              "      <td>8.0</td>\n",
              "      <td>8</td>\n",
              "      <td>1</td>\n",
              "      <td>13.3</td>\n",
              "      <td>8</td>\n",
              "      <td>1</td>\n",
              "      <td>4.5</td>\n",
              "      <td>8</td>\n",
              "      <td>1</td>\n",
              "      <td>0.0</td>\n",
              "      <td>8</td>\n",
              "      <td>1</td>\n",
              "      <td>NaN</td>\n",
              "      <td>0</td>\n",
              "      <td>1</td>\n",
              "      <td>NaN</td>\n",
              "      <td>0</td>\n",
              "      <td>1</td>\n",
              "      <td>NaN</td>\n",
              "      <td>0</td>\n",
              "      <td>1</td>\n",
              "      <td>1.0</td>\n",
              "      <td>8</td>\n",
              "      <td>1</td>\n",
              "      <td>3.8</td>\n",
              "      <td>8</td>\n",
              "      <td>1</td>\n",
              "    </tr>\n",
              "    <tr>\n",
              "      <th>360</th>\n",
              "      <td>2020/12/7</td>\n",
              "      <td>9.0</td>\n",
              "      <td>8</td>\n",
              "      <td>1</td>\n",
              "      <td>16.0</td>\n",
              "      <td>8</td>\n",
              "      <td>1</td>\n",
              "      <td>4.2</td>\n",
              "      <td>8</td>\n",
              "      <td>1</td>\n",
              "      <td>0.0</td>\n",
              "      <td>8</td>\n",
              "      <td>1</td>\n",
              "      <td>NaN</td>\n",
              "      <td>0</td>\n",
              "      <td>1</td>\n",
              "      <td>NaN</td>\n",
              "      <td>0</td>\n",
              "      <td>1</td>\n",
              "      <td>NaN</td>\n",
              "      <td>0</td>\n",
              "      <td>1</td>\n",
              "      <td>0.7</td>\n",
              "      <td>8</td>\n",
              "      <td>1</td>\n",
              "      <td>9.0</td>\n",
              "      <td>8</td>\n",
              "      <td>1</td>\n",
              "    </tr>\n",
              "    <tr>\n",
              "      <th>361</th>\n",
              "      <td>2020/12/8</td>\n",
              "      <td>10.4</td>\n",
              "      <td>8</td>\n",
              "      <td>1</td>\n",
              "      <td>16.0</td>\n",
              "      <td>8</td>\n",
              "      <td>1</td>\n",
              "      <td>4.6</td>\n",
              "      <td>8</td>\n",
              "      <td>1</td>\n",
              "      <td>0.0</td>\n",
              "      <td>8</td>\n",
              "      <td>1</td>\n",
              "      <td>NaN</td>\n",
              "      <td>0</td>\n",
              "      <td>1</td>\n",
              "      <td>NaN</td>\n",
              "      <td>0</td>\n",
              "      <td>1</td>\n",
              "      <td>NaN</td>\n",
              "      <td>0</td>\n",
              "      <td>1</td>\n",
              "      <td>1.3</td>\n",
              "      <td>8</td>\n",
              "      <td>1</td>\n",
              "      <td>6.9</td>\n",
              "      <td>8</td>\n",
              "      <td>1</td>\n",
              "    </tr>\n",
              "    <tr>\n",
              "      <th>362</th>\n",
              "      <td>2020/12/9</td>\n",
              "      <td>9.2</td>\n",
              "      <td>8</td>\n",
              "      <td>1</td>\n",
              "      <td>11.2</td>\n",
              "      <td>8</td>\n",
              "      <td>1</td>\n",
              "      <td>8.3</td>\n",
              "      <td>8</td>\n",
              "      <td>1</td>\n",
              "      <td>0.0</td>\n",
              "      <td>8</td>\n",
              "      <td>1</td>\n",
              "      <td>NaN</td>\n",
              "      <td>0</td>\n",
              "      <td>1</td>\n",
              "      <td>NaN</td>\n",
              "      <td>0</td>\n",
              "      <td>1</td>\n",
              "      <td>NaN</td>\n",
              "      <td>0</td>\n",
              "      <td>1</td>\n",
              "      <td>1.4</td>\n",
              "      <td>8</td>\n",
              "      <td>1</td>\n",
              "      <td>0.0</td>\n",
              "      <td>8</td>\n",
              "      <td>1</td>\n",
              "    </tr>\n",
              "    <tr>\n",
              "      <th>363</th>\n",
              "      <td>2020/12/10</td>\n",
              "      <td>8.7</td>\n",
              "      <td>8</td>\n",
              "      <td>1</td>\n",
              "      <td>11.1</td>\n",
              "      <td>8</td>\n",
              "      <td>1</td>\n",
              "      <td>6.0</td>\n",
              "      <td>8</td>\n",
              "      <td>1</td>\n",
              "      <td>0.5</td>\n",
              "      <td>8</td>\n",
              "      <td>1</td>\n",
              "      <td>NaN</td>\n",
              "      <td>0</td>\n",
              "      <td>1</td>\n",
              "      <td>NaN</td>\n",
              "      <td>0</td>\n",
              "      <td>1</td>\n",
              "      <td>NaN</td>\n",
              "      <td>0</td>\n",
              "      <td>1</td>\n",
              "      <td>1.4</td>\n",
              "      <td>8</td>\n",
              "      <td>1</td>\n",
              "      <td>0.0</td>\n",
              "      <td>8</td>\n",
              "      <td>1</td>\n",
              "    </tr>\n",
              "    <tr>\n",
              "      <th>364</th>\n",
              "      <td>2020/12/11</td>\n",
              "      <td>9.2</td>\n",
              "      <td>8</td>\n",
              "      <td>1</td>\n",
              "      <td>13.8</td>\n",
              "      <td>8</td>\n",
              "      <td>1</td>\n",
              "      <td>3.5</td>\n",
              "      <td>8</td>\n",
              "      <td>1</td>\n",
              "      <td>0.0</td>\n",
              "      <td>8</td>\n",
              "      <td>1</td>\n",
              "      <td>NaN</td>\n",
              "      <td>0</td>\n",
              "      <td>1</td>\n",
              "      <td>NaN</td>\n",
              "      <td>0</td>\n",
              "      <td>1</td>\n",
              "      <td>NaN</td>\n",
              "      <td>0</td>\n",
              "      <td>1</td>\n",
              "      <td>0.8</td>\n",
              "      <td>8</td>\n",
              "      <td>1</td>\n",
              "      <td>4.3</td>\n",
              "      <td>8</td>\n",
              "      <td>1</td>\n",
              "    </tr>\n",
              "    <tr>\n",
              "      <th>365</th>\n",
              "      <td>2020/12/12</td>\n",
              "      <td>10.4</td>\n",
              "      <td>8</td>\n",
              "      <td>1</td>\n",
              "      <td>14.0</td>\n",
              "      <td>8</td>\n",
              "      <td>1</td>\n",
              "      <td>8.0</td>\n",
              "      <td>8</td>\n",
              "      <td>1</td>\n",
              "      <td>0.0</td>\n",
              "      <td>8</td>\n",
              "      <td>1</td>\n",
              "      <td>NaN</td>\n",
              "      <td>0</td>\n",
              "      <td>1</td>\n",
              "      <td>NaN</td>\n",
              "      <td>0</td>\n",
              "      <td>1</td>\n",
              "      <td>NaN</td>\n",
              "      <td>0</td>\n",
              "      <td>1</td>\n",
              "      <td>1.4</td>\n",
              "      <td>8</td>\n",
              "      <td>1</td>\n",
              "      <td>1.4</td>\n",
              "      <td>8</td>\n",
              "      <td>1</td>\n",
              "    </tr>\n",
              "    <tr>\n",
              "      <th>366</th>\n",
              "      <td>2020/12/13</td>\n",
              "      <td>8.6</td>\n",
              "      <td>8</td>\n",
              "      <td>1</td>\n",
              "      <td>14.4</td>\n",
              "      <td>8</td>\n",
              "      <td>1</td>\n",
              "      <td>4.4</td>\n",
              "      <td>8</td>\n",
              "      <td>1</td>\n",
              "      <td>0.0</td>\n",
              "      <td>8</td>\n",
              "      <td>1</td>\n",
              "      <td>NaN</td>\n",
              "      <td>0</td>\n",
              "      <td>1</td>\n",
              "      <td>NaN</td>\n",
              "      <td>0</td>\n",
              "      <td>1</td>\n",
              "      <td>NaN</td>\n",
              "      <td>0</td>\n",
              "      <td>1</td>\n",
              "      <td>1.0</td>\n",
              "      <td>8</td>\n",
              "      <td>1</td>\n",
              "      <td>5.5</td>\n",
              "      <td>8</td>\n",
              "      <td>1</td>\n",
              "    </tr>\n",
              "    <tr>\n",
              "      <th>367</th>\n",
              "      <td>2020/12/14</td>\n",
              "      <td>7.8</td>\n",
              "      <td>8</td>\n",
              "      <td>1</td>\n",
              "      <td>12.2</td>\n",
              "      <td>8</td>\n",
              "      <td>1</td>\n",
              "      <td>4.4</td>\n",
              "      <td>8</td>\n",
              "      <td>1</td>\n",
              "      <td>0.0</td>\n",
              "      <td>8</td>\n",
              "      <td>1</td>\n",
              "      <td>NaN</td>\n",
              "      <td>0</td>\n",
              "      <td>1</td>\n",
              "      <td>NaN</td>\n",
              "      <td>0</td>\n",
              "      <td>1</td>\n",
              "      <td>NaN</td>\n",
              "      <td>0</td>\n",
              "      <td>1</td>\n",
              "      <td>1.9</td>\n",
              "      <td>8</td>\n",
              "      <td>1</td>\n",
              "      <td>4.4</td>\n",
              "      <td>8</td>\n",
              "      <td>1</td>\n",
              "    </tr>\n",
              "  </tbody>\n",
              "</table>\n",
              "</div>"
            ],
            "text/plain": [
              "            年月日  平均気温(℃) 平均気温(℃).1  ... 日照時間(時間)  日照時間(時間).1 日照時間(時間).2\n",
              "358   2020/12/5      6.0         8  ...      0.0           8          1\n",
              "359   2020/12/6      8.0         8  ...      3.8           8          1\n",
              "360   2020/12/7      9.0         8  ...      9.0           8          1\n",
              "361   2020/12/8     10.4         8  ...      6.9           8          1\n",
              "362   2020/12/9      9.2         8  ...      0.0           8          1\n",
              "363  2020/12/10      8.7         8  ...      0.0           8          1\n",
              "364  2020/12/11      9.2         8  ...      4.3           8          1\n",
              "365  2020/12/12     10.4         8  ...      1.4           8          1\n",
              "366  2020/12/13      8.6         8  ...      5.5           8          1\n",
              "367  2020/12/14      7.8         8  ...      4.4           8          1\n",
              "\n",
              "[10 rows x 28 columns]"
            ]
          },
          "metadata": {
            "tags": []
          },
          "execution_count": 39
        }
      ]
    },
    {
      "cell_type": "markdown",
      "metadata": {
        "id": "R5g-ZhRiP5QM"
      },
      "source": [
        "# **３問目：不要な列、行の削除**"
      ]
    },
    {
      "cell_type": "code",
      "metadata": {
        "id": "vn78MJD9PqWV",
        "colab": {
          "base_uri": "https://localhost:8080/"
        },
        "outputId": "9de53791-c13f-45b3-addd-4930743ec8cf"
      },
      "source": [
        "df.columns"
      ],
      "execution_count": 40,
      "outputs": [
        {
          "output_type": "execute_result",
          "data": {
            "text/plain": [
              "Index(['年月日', '平均気温(℃)', '平均気温(℃).1', '平均気温(℃).2', '最高気温(℃)', '最高気温(℃).1',\n",
              "       '最高気温(℃).2', '最低気温(℃)', '最低気温(℃).1', '最低気温(℃).2', '降水量の合計(mm)',\n",
              "       '降水量の合計(mm).1', '降水量の合計(mm).2', '最深積雪(cm)', '最深積雪(cm).1', '最深積雪(cm).2',\n",
              "       '平均雲量(10分比)', '平均雲量(10分比).1', '平均雲量(10分比).2', '平均蒸気圧(hPa)',\n",
              "       '平均蒸気圧(hPa).1', '平均蒸気圧(hPa).2', '平均風速(m/s)', '平均風速(m/s).1',\n",
              "       '平均風速(m/s).2', '日照時間(時間)', '日照時間(時間).1', '日照時間(時間).2'],\n",
              "      dtype='object')"
            ]
          },
          "metadata": {
            "tags": []
          },
          "execution_count": 40
        }
      ]
    },
    {
      "cell_type": "code",
      "metadata": {
        "id": "wJspOr4DXQdF"
      },
      "source": [
        "df = df[[\n",
        "    '年月日', \n",
        "    '平均気温(℃)', \n",
        "    '最高気温(℃)', \n",
        "    '最低気温(℃)',\n",
        "    '降水量の合計(mm)',\n",
        "    '最深積雪(cm)',\n",
        "    '平均雲量(10分比)',\n",
        "    '平均蒸気圧(hPa)',\n",
        "    '平均風速(m/s)',\n",
        "    '日照時間(時間)'\n",
        "]][1:]"
      ],
      "execution_count": 41,
      "outputs": []
    },
    {
      "cell_type": "code",
      "metadata": {
        "colab": {
          "base_uri": "https://localhost:8080/",
          "height": 193
        },
        "id": "f3SVBdJxYCXH",
        "outputId": "8a1c7215-3816-4453-996e-3b89a511fd6b"
      },
      "source": [
        "df.head(3)"
      ],
      "execution_count": 42,
      "outputs": [
        {
          "output_type": "execute_result",
          "data": {
            "text/html": [
              "<div>\n",
              "<style scoped>\n",
              "    .dataframe tbody tr th:only-of-type {\n",
              "        vertical-align: middle;\n",
              "    }\n",
              "\n",
              "    .dataframe tbody tr th {\n",
              "        vertical-align: top;\n",
              "    }\n",
              "\n",
              "    .dataframe thead th {\n",
              "        text-align: right;\n",
              "    }\n",
              "</style>\n",
              "<table border=\"1\" class=\"dataframe\">\n",
              "  <thead>\n",
              "    <tr style=\"text-align: right;\">\n",
              "      <th></th>\n",
              "      <th>年月日</th>\n",
              "      <th>平均気温(℃)</th>\n",
              "      <th>最高気温(℃)</th>\n",
              "      <th>最低気温(℃)</th>\n",
              "      <th>降水量の合計(mm)</th>\n",
              "      <th>最深積雪(cm)</th>\n",
              "      <th>平均雲量(10分比)</th>\n",
              "      <th>平均蒸気圧(hPa)</th>\n",
              "      <th>平均風速(m/s)</th>\n",
              "      <th>日照時間(時間)</th>\n",
              "    </tr>\n",
              "  </thead>\n",
              "  <tbody>\n",
              "    <tr>\n",
              "      <th>1</th>\n",
              "      <td>2019/12/14</td>\n",
              "      <td>9.3</td>\n",
              "      <td>15.9</td>\n",
              "      <td>3.2</td>\n",
              "      <td>0.0</td>\n",
              "      <td>NaN</td>\n",
              "      <td>NaN</td>\n",
              "      <td>NaN</td>\n",
              "      <td>2.0</td>\n",
              "      <td>8.9</td>\n",
              "    </tr>\n",
              "    <tr>\n",
              "      <th>2</th>\n",
              "      <td>2019/12/15</td>\n",
              "      <td>7.8</td>\n",
              "      <td>11.1</td>\n",
              "      <td>4.0</td>\n",
              "      <td>0.0</td>\n",
              "      <td>NaN</td>\n",
              "      <td>NaN</td>\n",
              "      <td>NaN</td>\n",
              "      <td>2.3</td>\n",
              "      <td>6.3</td>\n",
              "    </tr>\n",
              "    <tr>\n",
              "      <th>3</th>\n",
              "      <td>2019/12/16</td>\n",
              "      <td>6.9</td>\n",
              "      <td>12.5</td>\n",
              "      <td>1.3</td>\n",
              "      <td>0.0</td>\n",
              "      <td>NaN</td>\n",
              "      <td>NaN</td>\n",
              "      <td>NaN</td>\n",
              "      <td>1.1</td>\n",
              "      <td>8.9</td>\n",
              "    </tr>\n",
              "  </tbody>\n",
              "</table>\n",
              "</div>"
            ],
            "text/plain": [
              "          年月日  平均気温(℃)  最高気温(℃)  ...  平均蒸気圧(hPa)  平均風速(m/s)  日照時間(時間)\n",
              "1  2019/12/14      9.3     15.9  ...         NaN        2.0       8.9\n",
              "2  2019/12/15      7.8     11.1  ...         NaN        2.3       6.3\n",
              "3  2019/12/16      6.9     12.5  ...         NaN        1.1       8.9\n",
              "\n",
              "[3 rows x 10 columns]"
            ]
          },
          "metadata": {
            "tags": []
          },
          "execution_count": 42
        }
      ]
    },
    {
      "cell_type": "markdown",
      "metadata": {
        "id": "5BSVp4sfP9ha"
      },
      "source": [
        "# **４問目：データの型、サイズ、列名、行名の確認**"
      ]
    },
    {
      "cell_type": "code",
      "metadata": {
        "id": "l5Qxmst5PqZG",
        "colab": {
          "base_uri": "https://localhost:8080/"
        },
        "outputId": "ce50ea25-3b44-4b8f-ac6b-f9bbd5fd583b"
      },
      "source": [
        "df.dtypes"
      ],
      "execution_count": 43,
      "outputs": [
        {
          "output_type": "execute_result",
          "data": {
            "text/plain": [
              "年月日            object\n",
              "平均気温(℃)       float64\n",
              "最高気温(℃)       float64\n",
              "最低気温(℃)       float64\n",
              "降水量の合計(mm)    float64\n",
              "最深積雪(cm)      float64\n",
              "平均雲量(10分比)    float64\n",
              "平均蒸気圧(hPa)    float64\n",
              "平均風速(m/s)     float64\n",
              "日照時間(時間)      float64\n",
              "dtype: object"
            ]
          },
          "metadata": {
            "tags": []
          },
          "execution_count": 43
        }
      ]
    },
    {
      "cell_type": "code",
      "metadata": {
        "colab": {
          "base_uri": "https://localhost:8080/"
        },
        "id": "nVca2HbFa3Y5",
        "outputId": "1521f11c-017f-4f74-8be4-e300ee9e95b1"
      },
      "source": [
        "df.shape"
      ],
      "execution_count": 44,
      "outputs": [
        {
          "output_type": "execute_result",
          "data": {
            "text/plain": [
              "(367, 10)"
            ]
          },
          "metadata": {
            "tags": []
          },
          "execution_count": 44
        }
      ]
    },
    {
      "cell_type": "code",
      "metadata": {
        "colab": {
          "base_uri": "https://localhost:8080/"
        },
        "id": "km2Yc_u8a7Bo",
        "outputId": "1579a011-b7e4-451d-e4d4-6d4a9a59cde2"
      },
      "source": [
        "df.columns"
      ],
      "execution_count": 45,
      "outputs": [
        {
          "output_type": "execute_result",
          "data": {
            "text/plain": [
              "Index(['年月日', '平均気温(℃)', '最高気温(℃)', '最低気温(℃)', '降水量の合計(mm)', '最深積雪(cm)',\n",
              "       '平均雲量(10分比)', '平均蒸気圧(hPa)', '平均風速(m/s)', '日照時間(時間)'],\n",
              "      dtype='object')"
            ]
          },
          "metadata": {
            "tags": []
          },
          "execution_count": 45
        }
      ]
    },
    {
      "cell_type": "code",
      "metadata": {
        "colab": {
          "base_uri": "https://localhost:8080/"
        },
        "id": "1AuSuOmPa976",
        "outputId": "478b8369-c5e2-4b3a-c299-5fe3aec5761f"
      },
      "source": [
        "df.index"
      ],
      "execution_count": 46,
      "outputs": [
        {
          "output_type": "execute_result",
          "data": {
            "text/plain": [
              "RangeIndex(start=1, stop=368, step=1)"
            ]
          },
          "metadata": {
            "tags": []
          },
          "execution_count": 46
        }
      ]
    },
    {
      "cell_type": "markdown",
      "metadata": {
        "id": "17Y3zpqVP7V5"
      },
      "source": [
        "# **５問目：任意の要素を取得**"
      ]
    },
    {
      "cell_type": "markdown",
      "metadata": {
        "id": "CFynUGdvbb6U"
      },
      "source": [
        "縦列はiloc(iはindexのi)、配列は０からなので必ずスタートは０から数えて、：は〜からと同じ意味。\n",
        "終わりの数字は０から数えなくていい"
      ]
    },
    {
      "cell_type": "code",
      "metadata": {
        "id": "ybh6VPbePqbl",
        "colab": {
          "base_uri": "https://localhost:8080/",
          "height": 235
        },
        "outputId": "81326df2-a318-49ad-950b-d8648b9c6fc2"
      },
      "source": [
        "df.iloc[4:10, 2:6]"
      ],
      "execution_count": 47,
      "outputs": [
        {
          "output_type": "execute_result",
          "data": {
            "text/html": [
              "<div>\n",
              "<style scoped>\n",
              "    .dataframe tbody tr th:only-of-type {\n",
              "        vertical-align: middle;\n",
              "    }\n",
              "\n",
              "    .dataframe tbody tr th {\n",
              "        vertical-align: top;\n",
              "    }\n",
              "\n",
              "    .dataframe thead th {\n",
              "        text-align: right;\n",
              "    }\n",
              "</style>\n",
              "<table border=\"1\" class=\"dataframe\">\n",
              "  <thead>\n",
              "    <tr style=\"text-align: right;\">\n",
              "      <th></th>\n",
              "      <th>最高気温(℃)</th>\n",
              "      <th>最低気温(℃)</th>\n",
              "      <th>降水量の合計(mm)</th>\n",
              "      <th>最深積雪(cm)</th>\n",
              "    </tr>\n",
              "  </thead>\n",
              "  <tbody>\n",
              "    <tr>\n",
              "      <th>5</th>\n",
              "      <td>15.0</td>\n",
              "      <td>4.8</td>\n",
              "      <td>0.0</td>\n",
              "      <td>NaN</td>\n",
              "    </tr>\n",
              "    <tr>\n",
              "      <th>6</th>\n",
              "      <td>9.7</td>\n",
              "      <td>7.9</td>\n",
              "      <td>1.0</td>\n",
              "      <td>NaN</td>\n",
              "    </tr>\n",
              "    <tr>\n",
              "      <th>7</th>\n",
              "      <td>15.8</td>\n",
              "      <td>5.7</td>\n",
              "      <td>0.0</td>\n",
              "      <td>NaN</td>\n",
              "    </tr>\n",
              "    <tr>\n",
              "      <th>8</th>\n",
              "      <td>8.4</td>\n",
              "      <td>6.5</td>\n",
              "      <td>0.0</td>\n",
              "      <td>NaN</td>\n",
              "    </tr>\n",
              "    <tr>\n",
              "      <th>9</th>\n",
              "      <td>9.8</td>\n",
              "      <td>4.2</td>\n",
              "      <td>21.0</td>\n",
              "      <td>NaN</td>\n",
              "    </tr>\n",
              "    <tr>\n",
              "      <th>10</th>\n",
              "      <td>12.1</td>\n",
              "      <td>3.6</td>\n",
              "      <td>9.5</td>\n",
              "      <td>NaN</td>\n",
              "    </tr>\n",
              "  </tbody>\n",
              "</table>\n",
              "</div>"
            ],
            "text/plain": [
              "    最高気温(℃)  最低気温(℃)  降水量の合計(mm)  最深積雪(cm)\n",
              "5      15.0      4.8         0.0       NaN\n",
              "6       9.7      7.9         1.0       NaN\n",
              "7      15.8      5.7         0.0       NaN\n",
              "8       8.4      6.5         0.0       NaN\n",
              "9       9.8      4.2        21.0       NaN\n",
              "10     12.1      3.6         9.5       NaN"
            ]
          },
          "metadata": {
            "tags": []
          },
          "execution_count": 47
        }
      ]
    },
    {
      "cell_type": "code",
      "metadata": {
        "colab": {
          "base_uri": "https://localhost:8080/",
          "height": 235
        },
        "id": "B3b3w03gbElU",
        "outputId": "5d91335d-006f-4dc0-e709-3f16c7ed6534"
      },
      "source": [
        "df.loc[5:10, '最高気温(℃)':'最深積雪(cm)']"
      ],
      "execution_count": 50,
      "outputs": [
        {
          "output_type": "execute_result",
          "data": {
            "text/html": [
              "<div>\n",
              "<style scoped>\n",
              "    .dataframe tbody tr th:only-of-type {\n",
              "        vertical-align: middle;\n",
              "    }\n",
              "\n",
              "    .dataframe tbody tr th {\n",
              "        vertical-align: top;\n",
              "    }\n",
              "\n",
              "    .dataframe thead th {\n",
              "        text-align: right;\n",
              "    }\n",
              "</style>\n",
              "<table border=\"1\" class=\"dataframe\">\n",
              "  <thead>\n",
              "    <tr style=\"text-align: right;\">\n",
              "      <th></th>\n",
              "      <th>最高気温(℃)</th>\n",
              "      <th>最低気温(℃)</th>\n",
              "      <th>降水量の合計(mm)</th>\n",
              "      <th>最深積雪(cm)</th>\n",
              "    </tr>\n",
              "  </thead>\n",
              "  <tbody>\n",
              "    <tr>\n",
              "      <th>5</th>\n",
              "      <td>15.0</td>\n",
              "      <td>4.8</td>\n",
              "      <td>0.0</td>\n",
              "      <td>NaN</td>\n",
              "    </tr>\n",
              "    <tr>\n",
              "      <th>6</th>\n",
              "      <td>9.7</td>\n",
              "      <td>7.9</td>\n",
              "      <td>1.0</td>\n",
              "      <td>NaN</td>\n",
              "    </tr>\n",
              "    <tr>\n",
              "      <th>7</th>\n",
              "      <td>15.8</td>\n",
              "      <td>5.7</td>\n",
              "      <td>0.0</td>\n",
              "      <td>NaN</td>\n",
              "    </tr>\n",
              "    <tr>\n",
              "      <th>8</th>\n",
              "      <td>8.4</td>\n",
              "      <td>6.5</td>\n",
              "      <td>0.0</td>\n",
              "      <td>NaN</td>\n",
              "    </tr>\n",
              "    <tr>\n",
              "      <th>9</th>\n",
              "      <td>9.8</td>\n",
              "      <td>4.2</td>\n",
              "      <td>21.0</td>\n",
              "      <td>NaN</td>\n",
              "    </tr>\n",
              "    <tr>\n",
              "      <th>10</th>\n",
              "      <td>12.1</td>\n",
              "      <td>3.6</td>\n",
              "      <td>9.5</td>\n",
              "      <td>NaN</td>\n",
              "    </tr>\n",
              "  </tbody>\n",
              "</table>\n",
              "</div>"
            ],
            "text/plain": [
              "    最高気温(℃)  最低気温(℃)  降水量の合計(mm)  最深積雪(cm)\n",
              "5      15.0      4.8         0.0       NaN\n",
              "6       9.7      7.9         1.0       NaN\n",
              "7      15.8      5.7         0.0       NaN\n",
              "8       8.4      6.5         0.0       NaN\n",
              "9       9.8      4.2        21.0       NaN\n",
              "10     12.1      3.6         9.5       NaN"
            ]
          },
          "metadata": {
            "tags": []
          },
          "execution_count": 50
        }
      ]
    },
    {
      "cell_type": "code",
      "metadata": {
        "colab": {
          "base_uri": "https://localhost:8080/",
          "height": 255
        },
        "id": "ZrjtnGVGcNDU",
        "outputId": "25ee220c-2160-4326-b1e2-d56e55baee66"
      },
      "source": [
        "df.head()"
      ],
      "execution_count": 51,
      "outputs": [
        {
          "output_type": "execute_result",
          "data": {
            "text/html": [
              "<div>\n",
              "<style scoped>\n",
              "    .dataframe tbody tr th:only-of-type {\n",
              "        vertical-align: middle;\n",
              "    }\n",
              "\n",
              "    .dataframe tbody tr th {\n",
              "        vertical-align: top;\n",
              "    }\n",
              "\n",
              "    .dataframe thead th {\n",
              "        text-align: right;\n",
              "    }\n",
              "</style>\n",
              "<table border=\"1\" class=\"dataframe\">\n",
              "  <thead>\n",
              "    <tr style=\"text-align: right;\">\n",
              "      <th></th>\n",
              "      <th>年月日</th>\n",
              "      <th>平均気温(℃)</th>\n",
              "      <th>最高気温(℃)</th>\n",
              "      <th>最低気温(℃)</th>\n",
              "      <th>降水量の合計(mm)</th>\n",
              "      <th>最深積雪(cm)</th>\n",
              "      <th>平均雲量(10分比)</th>\n",
              "      <th>平均蒸気圧(hPa)</th>\n",
              "      <th>平均風速(m/s)</th>\n",
              "      <th>日照時間(時間)</th>\n",
              "    </tr>\n",
              "  </thead>\n",
              "  <tbody>\n",
              "    <tr>\n",
              "      <th>1</th>\n",
              "      <td>2019/12/14</td>\n",
              "      <td>9.3</td>\n",
              "      <td>15.9</td>\n",
              "      <td>3.2</td>\n",
              "      <td>0.0</td>\n",
              "      <td>NaN</td>\n",
              "      <td>NaN</td>\n",
              "      <td>NaN</td>\n",
              "      <td>2.0</td>\n",
              "      <td>8.9</td>\n",
              "    </tr>\n",
              "    <tr>\n",
              "      <th>2</th>\n",
              "      <td>2019/12/15</td>\n",
              "      <td>7.8</td>\n",
              "      <td>11.1</td>\n",
              "      <td>4.0</td>\n",
              "      <td>0.0</td>\n",
              "      <td>NaN</td>\n",
              "      <td>NaN</td>\n",
              "      <td>NaN</td>\n",
              "      <td>2.3</td>\n",
              "      <td>6.3</td>\n",
              "    </tr>\n",
              "    <tr>\n",
              "      <th>3</th>\n",
              "      <td>2019/12/16</td>\n",
              "      <td>6.9</td>\n",
              "      <td>12.5</td>\n",
              "      <td>1.3</td>\n",
              "      <td>0.0</td>\n",
              "      <td>NaN</td>\n",
              "      <td>NaN</td>\n",
              "      <td>NaN</td>\n",
              "      <td>1.1</td>\n",
              "      <td>8.9</td>\n",
              "    </tr>\n",
              "    <tr>\n",
              "      <th>4</th>\n",
              "      <td>2019/12/17</td>\n",
              "      <td>8.2</td>\n",
              "      <td>10.3</td>\n",
              "      <td>5.7</td>\n",
              "      <td>2.0</td>\n",
              "      <td>NaN</td>\n",
              "      <td>NaN</td>\n",
              "      <td>NaN</td>\n",
              "      <td>1.1</td>\n",
              "      <td>0.2</td>\n",
              "    </tr>\n",
              "    <tr>\n",
              "      <th>5</th>\n",
              "      <td>2019/12/18</td>\n",
              "      <td>9.9</td>\n",
              "      <td>15.0</td>\n",
              "      <td>4.8</td>\n",
              "      <td>0.0</td>\n",
              "      <td>NaN</td>\n",
              "      <td>NaN</td>\n",
              "      <td>NaN</td>\n",
              "      <td>1.2</td>\n",
              "      <td>4.3</td>\n",
              "    </tr>\n",
              "  </tbody>\n",
              "</table>\n",
              "</div>"
            ],
            "text/plain": [
              "          年月日  平均気温(℃)  最高気温(℃)  ...  平均蒸気圧(hPa)  平均風速(m/s)  日照時間(時間)\n",
              "1  2019/12/14      9.3     15.9  ...         NaN        2.0       8.9\n",
              "2  2019/12/15      7.8     11.1  ...         NaN        2.3       6.3\n",
              "3  2019/12/16      6.9     12.5  ...         NaN        1.1       8.9\n",
              "4  2019/12/17      8.2     10.3  ...         NaN        1.1       0.2\n",
              "5  2019/12/18      9.9     15.0  ...         NaN        1.2       4.3\n",
              "\n",
              "[5 rows x 10 columns]"
            ]
          },
          "metadata": {
            "tags": []
          },
          "execution_count": 51
        }
      ]
    },
    {
      "cell_type": "markdown",
      "metadata": {
        "id": "n7bCAPkBQCKM"
      },
      "source": [
        "# **６問目：条件抽出**"
      ]
    },
    {
      "cell_type": "code",
      "metadata": {
        "id": "Gkk3suGTQCAr",
        "colab": {
          "base_uri": "https://localhost:8080/",
          "height": 204
        },
        "outputId": "4d94ab60-e354-42ff-e54c-b658ce12e67f"
      },
      "source": [
        "df_people = pd.read_csv('people.csv')\n",
        "df_people"
      ],
      "execution_count": 52,
      "outputs": [
        {
          "output_type": "execute_result",
          "data": {
            "text/html": [
              "<div>\n",
              "<style scoped>\n",
              "    .dataframe tbody tr th:only-of-type {\n",
              "        vertical-align: middle;\n",
              "    }\n",
              "\n",
              "    .dataframe tbody tr th {\n",
              "        vertical-align: top;\n",
              "    }\n",
              "\n",
              "    .dataframe thead th {\n",
              "        text-align: right;\n",
              "    }\n",
              "</style>\n",
              "<table border=\"1\" class=\"dataframe\">\n",
              "  <thead>\n",
              "    <tr style=\"text-align: right;\">\n",
              "      <th></th>\n",
              "      <th>age</th>\n",
              "      <th>id</th>\n",
              "      <th>name</th>\n",
              "      <th>nationality</th>\n",
              "    </tr>\n",
              "  </thead>\n",
              "  <tbody>\n",
              "    <tr>\n",
              "      <th>0</th>\n",
              "      <td>26</td>\n",
              "      <td>13</td>\n",
              "      <td>Imanishi</td>\n",
              "      <td>Japan</td>\n",
              "    </tr>\n",
              "    <tr>\n",
              "      <th>1</th>\n",
              "      <td>21</td>\n",
              "      <td>33</td>\n",
              "      <td>Mike</td>\n",
              "      <td>America</td>\n",
              "    </tr>\n",
              "    <tr>\n",
              "      <th>2</th>\n",
              "      <td>35</td>\n",
              "      <td>31</td>\n",
              "      <td>Suzuki</td>\n",
              "      <td>Japan</td>\n",
              "    </tr>\n",
              "    <tr>\n",
              "      <th>3</th>\n",
              "      <td>16</td>\n",
              "      <td>20</td>\n",
              "      <td>John</td>\n",
              "      <td>America</td>\n",
              "    </tr>\n",
              "    <tr>\n",
              "      <th>4</th>\n",
              "      <td>28</td>\n",
              "      <td>11</td>\n",
              "      <td>Kim</td>\n",
              "      <td>Korea</td>\n",
              "    </tr>\n",
              "  </tbody>\n",
              "</table>\n",
              "</div>"
            ],
            "text/plain": [
              "   age  id      name nationality\n",
              "0   26  13  Imanishi       Japan\n",
              "1   21  33      Mike     America\n",
              "2   35  31    Suzuki       Japan\n",
              "3   16  20      John     America\n",
              "4   28  11       Kim       Korea"
            ]
          },
          "metadata": {
            "tags": []
          },
          "execution_count": 52
        }
      ]
    },
    {
      "cell_type": "code",
      "metadata": {
        "colab": {
          "base_uri": "https://localhost:8080/"
        },
        "id": "Z0LZmzIccq5Q",
        "outputId": "c2cecfc4-40de-48b6-9fdf-9ed1ee3f1064"
      },
      "source": [
        "df_people['nationality']"
      ],
      "execution_count": 53,
      "outputs": [
        {
          "output_type": "execute_result",
          "data": {
            "text/plain": [
              "0      Japan\n",
              "1    America\n",
              "2      Japan\n",
              "3    America\n",
              "4      Korea\n",
              "Name: nationality, dtype: object"
            ]
          },
          "metadata": {
            "tags": []
          },
          "execution_count": 53
        }
      ]
    },
    {
      "cell_type": "code",
      "metadata": {
        "colab": {
          "base_uri": "https://localhost:8080/"
        },
        "id": "fxNawWQwcvtE",
        "outputId": "0fcb6902-19da-4db7-a658-e3c1ec955404"
      },
      "source": [
        "df_people['nationality'] == 'America'"
      ],
      "execution_count": 54,
      "outputs": [
        {
          "output_type": "execute_result",
          "data": {
            "text/plain": [
              "0    False\n",
              "1     True\n",
              "2    False\n",
              "3     True\n",
              "4    False\n",
              "Name: nationality, dtype: bool"
            ]
          },
          "metadata": {
            "tags": []
          },
          "execution_count": 54
        }
      ]
    },
    {
      "cell_type": "code",
      "metadata": {
        "colab": {
          "base_uri": "https://localhost:8080/",
          "height": 111
        },
        "id": "YqUWAy67c18r",
        "outputId": "8338df09-2076-4c51-b32d-d2709627b3b6"
      },
      "source": [
        "df_people[df_people['nationality'] == 'America']"
      ],
      "execution_count": 55,
      "outputs": [
        {
          "output_type": "execute_result",
          "data": {
            "text/html": [
              "<div>\n",
              "<style scoped>\n",
              "    .dataframe tbody tr th:only-of-type {\n",
              "        vertical-align: middle;\n",
              "    }\n",
              "\n",
              "    .dataframe tbody tr th {\n",
              "        vertical-align: top;\n",
              "    }\n",
              "\n",
              "    .dataframe thead th {\n",
              "        text-align: right;\n",
              "    }\n",
              "</style>\n",
              "<table border=\"1\" class=\"dataframe\">\n",
              "  <thead>\n",
              "    <tr style=\"text-align: right;\">\n",
              "      <th></th>\n",
              "      <th>age</th>\n",
              "      <th>id</th>\n",
              "      <th>name</th>\n",
              "      <th>nationality</th>\n",
              "    </tr>\n",
              "  </thead>\n",
              "  <tbody>\n",
              "    <tr>\n",
              "      <th>1</th>\n",
              "      <td>21</td>\n",
              "      <td>33</td>\n",
              "      <td>Mike</td>\n",
              "      <td>America</td>\n",
              "    </tr>\n",
              "    <tr>\n",
              "      <th>3</th>\n",
              "      <td>16</td>\n",
              "      <td>20</td>\n",
              "      <td>John</td>\n",
              "      <td>America</td>\n",
              "    </tr>\n",
              "  </tbody>\n",
              "</table>\n",
              "</div>"
            ],
            "text/plain": [
              "   age  id  name nationality\n",
              "1   21  33  Mike     America\n",
              "3   16  20  John     America"
            ]
          },
          "metadata": {
            "tags": []
          },
          "execution_count": 55
        }
      ]
    },
    {
      "cell_type": "code",
      "metadata": {
        "colab": {
          "base_uri": "https://localhost:8080/",
          "height": 111
        },
        "id": "ejIAfr8dc-Td",
        "outputId": "34939acb-e232-41f2-963e-c2e8b84c8811"
      },
      "source": [
        "df_people.query('nationality == \"America\"')"
      ],
      "execution_count": 56,
      "outputs": [
        {
          "output_type": "execute_result",
          "data": {
            "text/html": [
              "<div>\n",
              "<style scoped>\n",
              "    .dataframe tbody tr th:only-of-type {\n",
              "        vertical-align: middle;\n",
              "    }\n",
              "\n",
              "    .dataframe tbody tr th {\n",
              "        vertical-align: top;\n",
              "    }\n",
              "\n",
              "    .dataframe thead th {\n",
              "        text-align: right;\n",
              "    }\n",
              "</style>\n",
              "<table border=\"1\" class=\"dataframe\">\n",
              "  <thead>\n",
              "    <tr style=\"text-align: right;\">\n",
              "      <th></th>\n",
              "      <th>age</th>\n",
              "      <th>id</th>\n",
              "      <th>name</th>\n",
              "      <th>nationality</th>\n",
              "    </tr>\n",
              "  </thead>\n",
              "  <tbody>\n",
              "    <tr>\n",
              "      <th>1</th>\n",
              "      <td>21</td>\n",
              "      <td>33</td>\n",
              "      <td>Mike</td>\n",
              "      <td>America</td>\n",
              "    </tr>\n",
              "    <tr>\n",
              "      <th>3</th>\n",
              "      <td>16</td>\n",
              "      <td>20</td>\n",
              "      <td>John</td>\n",
              "      <td>America</td>\n",
              "    </tr>\n",
              "  </tbody>\n",
              "</table>\n",
              "</div>"
            ],
            "text/plain": [
              "   age  id  name nationality\n",
              "1   21  33  Mike     America\n",
              "3   16  20  John     America"
            ]
          },
          "metadata": {
            "tags": []
          },
          "execution_count": 56
        }
      ]
    },
    {
      "cell_type": "code",
      "metadata": {
        "colab": {
          "base_uri": "https://localhost:8080/"
        },
        "id": "uwvTpAfJdLOE",
        "outputId": "61bf295c-b58f-4da5-c875-1daf790e723c"
      },
      "source": [
        "df_people['nationality'] .isin(['America'])"
      ],
      "execution_count": 58,
      "outputs": [
        {
          "output_type": "execute_result",
          "data": {
            "text/plain": [
              "0    False\n",
              "1     True\n",
              "2    False\n",
              "3     True\n",
              "4    False\n",
              "Name: nationality, dtype: bool"
            ]
          },
          "metadata": {
            "tags": []
          },
          "execution_count": 58
        }
      ]
    },
    {
      "cell_type": "code",
      "metadata": {
        "colab": {
          "base_uri": "https://localhost:8080/",
          "height": 111
        },
        "id": "4XUw-eKDdYIr",
        "outputId": "f87de1e9-e5a6-4a2f-e092-af494f1b3b71"
      },
      "source": [
        "df_people[df_people['nationality'] .isin(['America'])]"
      ],
      "execution_count": 59,
      "outputs": [
        {
          "output_type": "execute_result",
          "data": {
            "text/html": [
              "<div>\n",
              "<style scoped>\n",
              "    .dataframe tbody tr th:only-of-type {\n",
              "        vertical-align: middle;\n",
              "    }\n",
              "\n",
              "    .dataframe tbody tr th {\n",
              "        vertical-align: top;\n",
              "    }\n",
              "\n",
              "    .dataframe thead th {\n",
              "        text-align: right;\n",
              "    }\n",
              "</style>\n",
              "<table border=\"1\" class=\"dataframe\">\n",
              "  <thead>\n",
              "    <tr style=\"text-align: right;\">\n",
              "      <th></th>\n",
              "      <th>age</th>\n",
              "      <th>id</th>\n",
              "      <th>name</th>\n",
              "      <th>nationality</th>\n",
              "    </tr>\n",
              "  </thead>\n",
              "  <tbody>\n",
              "    <tr>\n",
              "      <th>1</th>\n",
              "      <td>21</td>\n",
              "      <td>33</td>\n",
              "      <td>Mike</td>\n",
              "      <td>America</td>\n",
              "    </tr>\n",
              "    <tr>\n",
              "      <th>3</th>\n",
              "      <td>16</td>\n",
              "      <td>20</td>\n",
              "      <td>John</td>\n",
              "      <td>America</td>\n",
              "    </tr>\n",
              "  </tbody>\n",
              "</table>\n",
              "</div>"
            ],
            "text/plain": [
              "   age  id  name nationality\n",
              "1   21  33  Mike     America\n",
              "3   16  20  John     America"
            ]
          },
          "metadata": {
            "tags": []
          },
          "execution_count": 59
        }
      ]
    },
    {
      "cell_type": "code",
      "metadata": {
        "colab": {
          "base_uri": "https://localhost:8080/"
        },
        "id": "Vpznq_HDdcR0",
        "outputId": "e446445f-eb0b-4f62-b2cb-5c0f3fbd614c"
      },
      "source": [
        "df_people['age'] >= 20"
      ],
      "execution_count": 60,
      "outputs": [
        {
          "output_type": "execute_result",
          "data": {
            "text/plain": [
              "0     True\n",
              "1     True\n",
              "2     True\n",
              "3    False\n",
              "4     True\n",
              "Name: age, dtype: bool"
            ]
          },
          "metadata": {
            "tags": []
          },
          "execution_count": 60
        }
      ]
    },
    {
      "cell_type": "code",
      "metadata": {
        "colab": {
          "base_uri": "https://localhost:8080/",
          "height": 142
        },
        "id": "gckiJFl2dhJP",
        "outputId": "b85490bd-6897-4373-e5a8-727778f73e30"
      },
      "source": [
        "df_people[(df_people['age'] >= 20) & (df_people['age'] < 30)]"
      ],
      "execution_count": 63,
      "outputs": [
        {
          "output_type": "execute_result",
          "data": {
            "text/html": [
              "<div>\n",
              "<style scoped>\n",
              "    .dataframe tbody tr th:only-of-type {\n",
              "        vertical-align: middle;\n",
              "    }\n",
              "\n",
              "    .dataframe tbody tr th {\n",
              "        vertical-align: top;\n",
              "    }\n",
              "\n",
              "    .dataframe thead th {\n",
              "        text-align: right;\n",
              "    }\n",
              "</style>\n",
              "<table border=\"1\" class=\"dataframe\">\n",
              "  <thead>\n",
              "    <tr style=\"text-align: right;\">\n",
              "      <th></th>\n",
              "      <th>age</th>\n",
              "      <th>id</th>\n",
              "      <th>name</th>\n",
              "      <th>nationality</th>\n",
              "    </tr>\n",
              "  </thead>\n",
              "  <tbody>\n",
              "    <tr>\n",
              "      <th>0</th>\n",
              "      <td>26</td>\n",
              "      <td>13</td>\n",
              "      <td>Imanishi</td>\n",
              "      <td>Japan</td>\n",
              "    </tr>\n",
              "    <tr>\n",
              "      <th>1</th>\n",
              "      <td>21</td>\n",
              "      <td>33</td>\n",
              "      <td>Mike</td>\n",
              "      <td>America</td>\n",
              "    </tr>\n",
              "    <tr>\n",
              "      <th>4</th>\n",
              "      <td>28</td>\n",
              "      <td>11</td>\n",
              "      <td>Kim</td>\n",
              "      <td>Korea</td>\n",
              "    </tr>\n",
              "  </tbody>\n",
              "</table>\n",
              "</div>"
            ],
            "text/plain": [
              "   age  id      name nationality\n",
              "0   26  13  Imanishi       Japan\n",
              "1   21  33      Mike     America\n",
              "4   28  11       Kim       Korea"
            ]
          },
          "metadata": {
            "tags": []
          },
          "execution_count": 63
        }
      ]
    },
    {
      "cell_type": "code",
      "metadata": {
        "colab": {
          "base_uri": "https://localhost:8080/",
          "height": 142
        },
        "id": "BPyYl-RCeA4y",
        "outputId": "f5b4849b-36aa-44fe-f6b6-9337d38d6c2a"
      },
      "source": [
        "df_people.query('age >= 20 & age <30')"
      ],
      "execution_count": 64,
      "outputs": [
        {
          "output_type": "execute_result",
          "data": {
            "text/html": [
              "<div>\n",
              "<style scoped>\n",
              "    .dataframe tbody tr th:only-of-type {\n",
              "        vertical-align: middle;\n",
              "    }\n",
              "\n",
              "    .dataframe tbody tr th {\n",
              "        vertical-align: top;\n",
              "    }\n",
              "\n",
              "    .dataframe thead th {\n",
              "        text-align: right;\n",
              "    }\n",
              "</style>\n",
              "<table border=\"1\" class=\"dataframe\">\n",
              "  <thead>\n",
              "    <tr style=\"text-align: right;\">\n",
              "      <th></th>\n",
              "      <th>age</th>\n",
              "      <th>id</th>\n",
              "      <th>name</th>\n",
              "      <th>nationality</th>\n",
              "    </tr>\n",
              "  </thead>\n",
              "  <tbody>\n",
              "    <tr>\n",
              "      <th>0</th>\n",
              "      <td>26</td>\n",
              "      <td>13</td>\n",
              "      <td>Imanishi</td>\n",
              "      <td>Japan</td>\n",
              "    </tr>\n",
              "    <tr>\n",
              "      <th>1</th>\n",
              "      <td>21</td>\n",
              "      <td>33</td>\n",
              "      <td>Mike</td>\n",
              "      <td>America</td>\n",
              "    </tr>\n",
              "    <tr>\n",
              "      <th>4</th>\n",
              "      <td>28</td>\n",
              "      <td>11</td>\n",
              "      <td>Kim</td>\n",
              "      <td>Korea</td>\n",
              "    </tr>\n",
              "  </tbody>\n",
              "</table>\n",
              "</div>"
            ],
            "text/plain": [
              "   age  id      name nationality\n",
              "0   26  13  Imanishi       Japan\n",
              "1   21  33      Mike     America\n",
              "4   28  11       Kim       Korea"
            ]
          },
          "metadata": {
            "tags": []
          },
          "execution_count": 64
        }
      ]
    },
    {
      "cell_type": "markdown",
      "metadata": {
        "id": "wicXm5dnQE_s"
      },
      "source": [
        "# **７問目：ユニークな値の抽出**"
      ]
    },
    {
      "cell_type": "code",
      "metadata": {
        "id": "AhlSVagUekHq"
      },
      "source": [
        "まとめて抽出はできない１つずつ。（データ型が違う）"
      ],
      "execution_count": null,
      "outputs": []
    },
    {
      "cell_type": "code",
      "metadata": {
        "id": "cgPdpCzbPqeO",
        "colab": {
          "base_uri": "https://localhost:8080/"
        },
        "outputId": "0d41398d-6d6c-4bb3-9177-7c6eed1c8524"
      },
      "source": [
        "df_people['nationality'].unique()"
      ],
      "execution_count": 65,
      "outputs": [
        {
          "output_type": "execute_result",
          "data": {
            "text/plain": [
              "array(['Japan', 'America', 'Korea'], dtype=object)"
            ]
          },
          "metadata": {
            "tags": []
          },
          "execution_count": 65
        }
      ]
    },
    {
      "cell_type": "code",
      "metadata": {
        "colab": {
          "base_uri": "https://localhost:8080/"
        },
        "id": "f8Ko6tYGeing",
        "outputId": "02461658-94ca-47c7-9f2c-c97d05e022c1"
      },
      "source": [
        "df_people['name'].unique()"
      ],
      "execution_count": 67,
      "outputs": [
        {
          "output_type": "execute_result",
          "data": {
            "text/plain": [
              "array(['Imanishi', 'Mike', 'Suzuki', 'John', 'Kim'], dtype=object)"
            ]
          },
          "metadata": {
            "tags": []
          },
          "execution_count": 67
        }
      ]
    },
    {
      "cell_type": "markdown",
      "metadata": {
        "id": "A2qZUZA7QHbM"
      },
      "source": [
        "# **８問目：重複除去**"
      ]
    },
    {
      "cell_type": "code",
      "metadata": {
        "id": "kJLGxNx7e9Jv"
      },
      "source": [
        "drop_duplicates指定がない場合は全て一致している場合削除なので機能しない"
      ],
      "execution_count": null,
      "outputs": []
    },
    {
      "cell_type": "code",
      "metadata": {
        "id": "w7yMuf1yQHoe",
        "colab": {
          "base_uri": "https://localhost:8080/",
          "height": 204
        },
        "outputId": "a11b394a-008d-44d4-db97-e5370b0fec06"
      },
      "source": [
        "df_people.drop_duplicates()"
      ],
      "execution_count": 68,
      "outputs": [
        {
          "output_type": "execute_result",
          "data": {
            "text/html": [
              "<div>\n",
              "<style scoped>\n",
              "    .dataframe tbody tr th:only-of-type {\n",
              "        vertical-align: middle;\n",
              "    }\n",
              "\n",
              "    .dataframe tbody tr th {\n",
              "        vertical-align: top;\n",
              "    }\n",
              "\n",
              "    .dataframe thead th {\n",
              "        text-align: right;\n",
              "    }\n",
              "</style>\n",
              "<table border=\"1\" class=\"dataframe\">\n",
              "  <thead>\n",
              "    <tr style=\"text-align: right;\">\n",
              "      <th></th>\n",
              "      <th>age</th>\n",
              "      <th>id</th>\n",
              "      <th>name</th>\n",
              "      <th>nationality</th>\n",
              "    </tr>\n",
              "  </thead>\n",
              "  <tbody>\n",
              "    <tr>\n",
              "      <th>0</th>\n",
              "      <td>26</td>\n",
              "      <td>13</td>\n",
              "      <td>Imanishi</td>\n",
              "      <td>Japan</td>\n",
              "    </tr>\n",
              "    <tr>\n",
              "      <th>1</th>\n",
              "      <td>21</td>\n",
              "      <td>33</td>\n",
              "      <td>Mike</td>\n",
              "      <td>America</td>\n",
              "    </tr>\n",
              "    <tr>\n",
              "      <th>2</th>\n",
              "      <td>35</td>\n",
              "      <td>31</td>\n",
              "      <td>Suzuki</td>\n",
              "      <td>Japan</td>\n",
              "    </tr>\n",
              "    <tr>\n",
              "      <th>3</th>\n",
              "      <td>16</td>\n",
              "      <td>20</td>\n",
              "      <td>John</td>\n",
              "      <td>America</td>\n",
              "    </tr>\n",
              "    <tr>\n",
              "      <th>4</th>\n",
              "      <td>28</td>\n",
              "      <td>11</td>\n",
              "      <td>Kim</td>\n",
              "      <td>Korea</td>\n",
              "    </tr>\n",
              "  </tbody>\n",
              "</table>\n",
              "</div>"
            ],
            "text/plain": [
              "   age  id      name nationality\n",
              "0   26  13  Imanishi       Japan\n",
              "1   21  33      Mike     America\n",
              "2   35  31    Suzuki       Japan\n",
              "3   16  20      John     America\n",
              "4   28  11       Kim       Korea"
            ]
          },
          "metadata": {
            "tags": []
          },
          "execution_count": 68
        }
      ]
    },
    {
      "cell_type": "code",
      "metadata": {
        "colab": {
          "base_uri": "https://localhost:8080/",
          "height": 142
        },
        "id": "qKDuImSUfFYh",
        "outputId": "c04db8a3-d0cb-4270-9c61-64081e0592db"
      },
      "source": [
        "df_people.drop_duplicates(subset='nationality')"
      ],
      "execution_count": 69,
      "outputs": [
        {
          "output_type": "execute_result",
          "data": {
            "text/html": [
              "<div>\n",
              "<style scoped>\n",
              "    .dataframe tbody tr th:only-of-type {\n",
              "        vertical-align: middle;\n",
              "    }\n",
              "\n",
              "    .dataframe tbody tr th {\n",
              "        vertical-align: top;\n",
              "    }\n",
              "\n",
              "    .dataframe thead th {\n",
              "        text-align: right;\n",
              "    }\n",
              "</style>\n",
              "<table border=\"1\" class=\"dataframe\">\n",
              "  <thead>\n",
              "    <tr style=\"text-align: right;\">\n",
              "      <th></th>\n",
              "      <th>age</th>\n",
              "      <th>id</th>\n",
              "      <th>name</th>\n",
              "      <th>nationality</th>\n",
              "    </tr>\n",
              "  </thead>\n",
              "  <tbody>\n",
              "    <tr>\n",
              "      <th>0</th>\n",
              "      <td>26</td>\n",
              "      <td>13</td>\n",
              "      <td>Imanishi</td>\n",
              "      <td>Japan</td>\n",
              "    </tr>\n",
              "    <tr>\n",
              "      <th>1</th>\n",
              "      <td>21</td>\n",
              "      <td>33</td>\n",
              "      <td>Mike</td>\n",
              "      <td>America</td>\n",
              "    </tr>\n",
              "    <tr>\n",
              "      <th>4</th>\n",
              "      <td>28</td>\n",
              "      <td>11</td>\n",
              "      <td>Kim</td>\n",
              "      <td>Korea</td>\n",
              "    </tr>\n",
              "  </tbody>\n",
              "</table>\n",
              "</div>"
            ],
            "text/plain": [
              "   age  id      name nationality\n",
              "0   26  13  Imanishi       Japan\n",
              "1   21  33      Mike     America\n",
              "4   28  11       Kim       Korea"
            ]
          },
          "metadata": {
            "tags": []
          },
          "execution_count": 69
        }
      ]
    },
    {
      "cell_type": "markdown",
      "metadata": {
        "id": "MG2u3M0_QHup"
      },
      "source": [
        "# **９問目：カラム名変更**"
      ]
    },
    {
      "cell_type": "code",
      "metadata": {
        "id": "_F7PYZjnQHz9",
        "colab": {
          "base_uri": "https://localhost:8080/"
        },
        "outputId": "8d890fe6-5aab-42ab-b4aa-db512e0f4f29"
      },
      "source": [
        "df.columns"
      ],
      "execution_count": 70,
      "outputs": [
        {
          "output_type": "execute_result",
          "data": {
            "text/plain": [
              "Index(['年月日', '平均気温(℃)', '最高気温(℃)', '最低気温(℃)', '降水量の合計(mm)', '最深積雪(cm)',\n",
              "       '平均雲量(10分比)', '平均蒸気圧(hPa)', '平均風速(m/s)', '日照時間(時間)'],\n",
              "      dtype='object')"
            ]
          },
          "metadata": {
            "tags": []
          },
          "execution_count": 70
        }
      ]
    },
    {
      "cell_type": "code",
      "metadata": {
        "id": "7hEepitsfdyQ"
      },
      "source": [
        "df.columns = ['年月日', \n",
        "              '平均気温', \n",
        "              '最高気温', \n",
        "              '最低気温', \n",
        "              '降水量の合計', \n",
        "              '最深積雪',\n",
        "              '平均雲量', \n",
        "              '平均蒸気圧', \n",
        "              '平均風速', \n",
        "              '日照時間']"
      ],
      "execution_count": 72,
      "outputs": []
    },
    {
      "cell_type": "code",
      "metadata": {
        "colab": {
          "base_uri": "https://localhost:8080/",
          "height": 436
        },
        "id": "MskzHVgif1iZ",
        "outputId": "bd5bcca0-84f1-45d1-b03e-a9b1bec1b565"
      },
      "source": [
        "df"
      ],
      "execution_count": 73,
      "outputs": [
        {
          "output_type": "execute_result",
          "data": {
            "text/html": [
              "<div>\n",
              "<style scoped>\n",
              "    .dataframe tbody tr th:only-of-type {\n",
              "        vertical-align: middle;\n",
              "    }\n",
              "\n",
              "    .dataframe tbody tr th {\n",
              "        vertical-align: top;\n",
              "    }\n",
              "\n",
              "    .dataframe thead th {\n",
              "        text-align: right;\n",
              "    }\n",
              "</style>\n",
              "<table border=\"1\" class=\"dataframe\">\n",
              "  <thead>\n",
              "    <tr style=\"text-align: right;\">\n",
              "      <th></th>\n",
              "      <th>年月日</th>\n",
              "      <th>平均気温</th>\n",
              "      <th>最高気温</th>\n",
              "      <th>最低気温</th>\n",
              "      <th>降水量の合計</th>\n",
              "      <th>最深積雪</th>\n",
              "      <th>平均雲量</th>\n",
              "      <th>平均蒸気圧</th>\n",
              "      <th>平均風速</th>\n",
              "      <th>日照時間</th>\n",
              "    </tr>\n",
              "  </thead>\n",
              "  <tbody>\n",
              "    <tr>\n",
              "      <th>1</th>\n",
              "      <td>2019/12/14</td>\n",
              "      <td>9.3</td>\n",
              "      <td>15.9</td>\n",
              "      <td>3.2</td>\n",
              "      <td>0.0</td>\n",
              "      <td>NaN</td>\n",
              "      <td>NaN</td>\n",
              "      <td>NaN</td>\n",
              "      <td>2.0</td>\n",
              "      <td>8.9</td>\n",
              "    </tr>\n",
              "    <tr>\n",
              "      <th>2</th>\n",
              "      <td>2019/12/15</td>\n",
              "      <td>7.8</td>\n",
              "      <td>11.1</td>\n",
              "      <td>4.0</td>\n",
              "      <td>0.0</td>\n",
              "      <td>NaN</td>\n",
              "      <td>NaN</td>\n",
              "      <td>NaN</td>\n",
              "      <td>2.3</td>\n",
              "      <td>6.3</td>\n",
              "    </tr>\n",
              "    <tr>\n",
              "      <th>3</th>\n",
              "      <td>2019/12/16</td>\n",
              "      <td>6.9</td>\n",
              "      <td>12.5</td>\n",
              "      <td>1.3</td>\n",
              "      <td>0.0</td>\n",
              "      <td>NaN</td>\n",
              "      <td>NaN</td>\n",
              "      <td>NaN</td>\n",
              "      <td>1.1</td>\n",
              "      <td>8.9</td>\n",
              "    </tr>\n",
              "    <tr>\n",
              "      <th>4</th>\n",
              "      <td>2019/12/17</td>\n",
              "      <td>8.2</td>\n",
              "      <td>10.3</td>\n",
              "      <td>5.7</td>\n",
              "      <td>2.0</td>\n",
              "      <td>NaN</td>\n",
              "      <td>NaN</td>\n",
              "      <td>NaN</td>\n",
              "      <td>1.1</td>\n",
              "      <td>0.2</td>\n",
              "    </tr>\n",
              "    <tr>\n",
              "      <th>5</th>\n",
              "      <td>2019/12/18</td>\n",
              "      <td>9.9</td>\n",
              "      <td>15.0</td>\n",
              "      <td>4.8</td>\n",
              "      <td>0.0</td>\n",
              "      <td>NaN</td>\n",
              "      <td>NaN</td>\n",
              "      <td>NaN</td>\n",
              "      <td>1.2</td>\n",
              "      <td>4.3</td>\n",
              "    </tr>\n",
              "    <tr>\n",
              "      <th>...</th>\n",
              "      <td>...</td>\n",
              "      <td>...</td>\n",
              "      <td>...</td>\n",
              "      <td>...</td>\n",
              "      <td>...</td>\n",
              "      <td>...</td>\n",
              "      <td>...</td>\n",
              "      <td>...</td>\n",
              "      <td>...</td>\n",
              "      <td>...</td>\n",
              "    </tr>\n",
              "    <tr>\n",
              "      <th>363</th>\n",
              "      <td>2020/12/10</td>\n",
              "      <td>8.7</td>\n",
              "      <td>11.1</td>\n",
              "      <td>6.0</td>\n",
              "      <td>0.5</td>\n",
              "      <td>NaN</td>\n",
              "      <td>NaN</td>\n",
              "      <td>NaN</td>\n",
              "      <td>1.4</td>\n",
              "      <td>0.0</td>\n",
              "    </tr>\n",
              "    <tr>\n",
              "      <th>364</th>\n",
              "      <td>2020/12/11</td>\n",
              "      <td>9.2</td>\n",
              "      <td>13.8</td>\n",
              "      <td>3.5</td>\n",
              "      <td>0.0</td>\n",
              "      <td>NaN</td>\n",
              "      <td>NaN</td>\n",
              "      <td>NaN</td>\n",
              "      <td>0.8</td>\n",
              "      <td>4.3</td>\n",
              "    </tr>\n",
              "    <tr>\n",
              "      <th>365</th>\n",
              "      <td>2020/12/12</td>\n",
              "      <td>10.4</td>\n",
              "      <td>14.0</td>\n",
              "      <td>8.0</td>\n",
              "      <td>0.0</td>\n",
              "      <td>NaN</td>\n",
              "      <td>NaN</td>\n",
              "      <td>NaN</td>\n",
              "      <td>1.4</td>\n",
              "      <td>1.4</td>\n",
              "    </tr>\n",
              "    <tr>\n",
              "      <th>366</th>\n",
              "      <td>2020/12/13</td>\n",
              "      <td>8.6</td>\n",
              "      <td>14.4</td>\n",
              "      <td>4.4</td>\n",
              "      <td>0.0</td>\n",
              "      <td>NaN</td>\n",
              "      <td>NaN</td>\n",
              "      <td>NaN</td>\n",
              "      <td>1.0</td>\n",
              "      <td>5.5</td>\n",
              "    </tr>\n",
              "    <tr>\n",
              "      <th>367</th>\n",
              "      <td>2020/12/14</td>\n",
              "      <td>7.8</td>\n",
              "      <td>12.2</td>\n",
              "      <td>4.4</td>\n",
              "      <td>0.0</td>\n",
              "      <td>NaN</td>\n",
              "      <td>NaN</td>\n",
              "      <td>NaN</td>\n",
              "      <td>1.9</td>\n",
              "      <td>4.4</td>\n",
              "    </tr>\n",
              "  </tbody>\n",
              "</table>\n",
              "<p>367 rows × 10 columns</p>\n",
              "</div>"
            ],
            "text/plain": [
              "            年月日  平均気温  最高気温  最低気温  降水量の合計  最深積雪  平均雲量  平均蒸気圧  平均風速  日照時間\n",
              "1    2019/12/14   9.3  15.9   3.2     0.0   NaN   NaN    NaN   2.0   8.9\n",
              "2    2019/12/15   7.8  11.1   4.0     0.0   NaN   NaN    NaN   2.3   6.3\n",
              "3    2019/12/16   6.9  12.5   1.3     0.0   NaN   NaN    NaN   1.1   8.9\n",
              "4    2019/12/17   8.2  10.3   5.7     2.0   NaN   NaN    NaN   1.1   0.2\n",
              "5    2019/12/18   9.9  15.0   4.8     0.0   NaN   NaN    NaN   1.2   4.3\n",
              "..          ...   ...   ...   ...     ...   ...   ...    ...   ...   ...\n",
              "363  2020/12/10   8.7  11.1   6.0     0.5   NaN   NaN    NaN   1.4   0.0\n",
              "364  2020/12/11   9.2  13.8   3.5     0.0   NaN   NaN    NaN   0.8   4.3\n",
              "365  2020/12/12  10.4  14.0   8.0     0.0   NaN   NaN    NaN   1.4   1.4\n",
              "366  2020/12/13   8.6  14.4   4.4     0.0   NaN   NaN    NaN   1.0   5.5\n",
              "367  2020/12/14   7.8  12.2   4.4     0.0   NaN   NaN    NaN   1.9   4.4\n",
              "\n",
              "[367 rows x 10 columns]"
            ]
          },
          "metadata": {
            "tags": []
          },
          "execution_count": 73
        }
      ]
    },
    {
      "cell_type": "markdown",
      "metadata": {
        "id": "xouSIBipgLW8"
      },
      "source": [
        "※rename使う場合の注意\n",
        "df = の代入までやらないと一時的な変更だけになってしまう"
      ]
    },
    {
      "cell_type": "code",
      "metadata": {
        "colab": {
          "base_uri": "https://localhost:8080/",
          "height": 221
        },
        "id": "EHwc1Iwof4I6",
        "outputId": "1e37c003-64d2-4e6f-8775-a78991c0176e"
      },
      "source": [
        "df.rename(columns={\n",
        "    '平均気温': '平均'\n",
        "}).head()"
      ],
      "execution_count": 75,
      "outputs": [
        {
          "output_type": "execute_result",
          "data": {
            "text/html": [
              "<div>\n",
              "<style scoped>\n",
              "    .dataframe tbody tr th:only-of-type {\n",
              "        vertical-align: middle;\n",
              "    }\n",
              "\n",
              "    .dataframe tbody tr th {\n",
              "        vertical-align: top;\n",
              "    }\n",
              "\n",
              "    .dataframe thead th {\n",
              "        text-align: right;\n",
              "    }\n",
              "</style>\n",
              "<table border=\"1\" class=\"dataframe\">\n",
              "  <thead>\n",
              "    <tr style=\"text-align: right;\">\n",
              "      <th></th>\n",
              "      <th>年月日</th>\n",
              "      <th>平均</th>\n",
              "      <th>最高気温</th>\n",
              "      <th>最低気温</th>\n",
              "      <th>降水量の合計</th>\n",
              "      <th>最深積雪</th>\n",
              "      <th>平均雲量</th>\n",
              "      <th>平均蒸気圧</th>\n",
              "      <th>平均風速</th>\n",
              "      <th>日照時間</th>\n",
              "    </tr>\n",
              "  </thead>\n",
              "  <tbody>\n",
              "    <tr>\n",
              "      <th>1</th>\n",
              "      <td>2019/12/14</td>\n",
              "      <td>9.3</td>\n",
              "      <td>15.9</td>\n",
              "      <td>3.2</td>\n",
              "      <td>0.0</td>\n",
              "      <td>NaN</td>\n",
              "      <td>NaN</td>\n",
              "      <td>NaN</td>\n",
              "      <td>2.0</td>\n",
              "      <td>8.9</td>\n",
              "    </tr>\n",
              "    <tr>\n",
              "      <th>2</th>\n",
              "      <td>2019/12/15</td>\n",
              "      <td>7.8</td>\n",
              "      <td>11.1</td>\n",
              "      <td>4.0</td>\n",
              "      <td>0.0</td>\n",
              "      <td>NaN</td>\n",
              "      <td>NaN</td>\n",
              "      <td>NaN</td>\n",
              "      <td>2.3</td>\n",
              "      <td>6.3</td>\n",
              "    </tr>\n",
              "    <tr>\n",
              "      <th>3</th>\n",
              "      <td>2019/12/16</td>\n",
              "      <td>6.9</td>\n",
              "      <td>12.5</td>\n",
              "      <td>1.3</td>\n",
              "      <td>0.0</td>\n",
              "      <td>NaN</td>\n",
              "      <td>NaN</td>\n",
              "      <td>NaN</td>\n",
              "      <td>1.1</td>\n",
              "      <td>8.9</td>\n",
              "    </tr>\n",
              "    <tr>\n",
              "      <th>4</th>\n",
              "      <td>2019/12/17</td>\n",
              "      <td>8.2</td>\n",
              "      <td>10.3</td>\n",
              "      <td>5.7</td>\n",
              "      <td>2.0</td>\n",
              "      <td>NaN</td>\n",
              "      <td>NaN</td>\n",
              "      <td>NaN</td>\n",
              "      <td>1.1</td>\n",
              "      <td>0.2</td>\n",
              "    </tr>\n",
              "    <tr>\n",
              "      <th>5</th>\n",
              "      <td>2019/12/18</td>\n",
              "      <td>9.9</td>\n",
              "      <td>15.0</td>\n",
              "      <td>4.8</td>\n",
              "      <td>0.0</td>\n",
              "      <td>NaN</td>\n",
              "      <td>NaN</td>\n",
              "      <td>NaN</td>\n",
              "      <td>1.2</td>\n",
              "      <td>4.3</td>\n",
              "    </tr>\n",
              "  </tbody>\n",
              "</table>\n",
              "</div>"
            ],
            "text/plain": [
              "          年月日   平均  最高気温  最低気温  降水量の合計  最深積雪  平均雲量  平均蒸気圧  平均風速  日照時間\n",
              "1  2019/12/14  9.3  15.9   3.2     0.0   NaN   NaN    NaN   2.0   8.9\n",
              "2  2019/12/15  7.8  11.1   4.0     0.0   NaN   NaN    NaN   2.3   6.3\n",
              "3  2019/12/16  6.9  12.5   1.3     0.0   NaN   NaN    NaN   1.1   8.9\n",
              "4  2019/12/17  8.2  10.3   5.7     2.0   NaN   NaN    NaN   1.1   0.2\n",
              "5  2019/12/18  9.9  15.0   4.8     0.0   NaN   NaN    NaN   1.2   4.3"
            ]
          },
          "metadata": {
            "tags": []
          },
          "execution_count": 75
        }
      ]
    },
    {
      "cell_type": "markdown",
      "metadata": {
        "id": "jAkenvfOQH7u"
      },
      "source": [
        "# **１０問目：並び替え**"
      ]
    },
    {
      "cell_type": "code",
      "metadata": {
        "id": "tNDwSi_WQIGw",
        "colab": {
          "base_uri": "https://localhost:8080/",
          "height": 436
        },
        "outputId": "0a50a49c-5e7d-4a8c-f0c5-45c39689ee14"
      },
      "source": [
        "df.sort_values('最高気温')"
      ],
      "execution_count": 76,
      "outputs": [
        {
          "output_type": "execute_result",
          "data": {
            "text/html": [
              "<div>\n",
              "<style scoped>\n",
              "    .dataframe tbody tr th:only-of-type {\n",
              "        vertical-align: middle;\n",
              "    }\n",
              "\n",
              "    .dataframe tbody tr th {\n",
              "        vertical-align: top;\n",
              "    }\n",
              "\n",
              "    .dataframe thead th {\n",
              "        text-align: right;\n",
              "    }\n",
              "</style>\n",
              "<table border=\"1\" class=\"dataframe\">\n",
              "  <thead>\n",
              "    <tr style=\"text-align: right;\">\n",
              "      <th></th>\n",
              "      <th>年月日</th>\n",
              "      <th>平均気温</th>\n",
              "      <th>最高気温</th>\n",
              "      <th>最低気温</th>\n",
              "      <th>降水量の合計</th>\n",
              "      <th>最深積雪</th>\n",
              "      <th>平均雲量</th>\n",
              "      <th>平均蒸気圧</th>\n",
              "      <th>平均風速</th>\n",
              "      <th>日照時間</th>\n",
              "    </tr>\n",
              "  </thead>\n",
              "  <tbody>\n",
              "    <tr>\n",
              "      <th>55</th>\n",
              "      <td>2020/2/6</td>\n",
              "      <td>2.3</td>\n",
              "      <td>5.5</td>\n",
              "      <td>-1.3</td>\n",
              "      <td>0.0</td>\n",
              "      <td>NaN</td>\n",
              "      <td>NaN</td>\n",
              "      <td>NaN</td>\n",
              "      <td>3.6</td>\n",
              "      <td>7.5</td>\n",
              "    </tr>\n",
              "    <tr>\n",
              "      <th>36</th>\n",
              "      <td>2020/1/18</td>\n",
              "      <td>3.8</td>\n",
              "      <td>6.2</td>\n",
              "      <td>0.9</td>\n",
              "      <td>7.5</td>\n",
              "      <td>NaN</td>\n",
              "      <td>NaN</td>\n",
              "      <td>NaN</td>\n",
              "      <td>2.5</td>\n",
              "      <td>0.0</td>\n",
              "    </tr>\n",
              "    <tr>\n",
              "      <th>40</th>\n",
              "      <td>2020/1/22</td>\n",
              "      <td>4.0</td>\n",
              "      <td>6.2</td>\n",
              "      <td>1.4</td>\n",
              "      <td>0.0</td>\n",
              "      <td>NaN</td>\n",
              "      <td>NaN</td>\n",
              "      <td>NaN</td>\n",
              "      <td>1.2</td>\n",
              "      <td>0.9</td>\n",
              "    </tr>\n",
              "    <tr>\n",
              "      <th>45</th>\n",
              "      <td>2020/1/27</td>\n",
              "      <td>4.7</td>\n",
              "      <td>6.8</td>\n",
              "      <td>3.1</td>\n",
              "      <td>3.5</td>\n",
              "      <td>NaN</td>\n",
              "      <td>NaN</td>\n",
              "      <td>NaN</td>\n",
              "      <td>1.6</td>\n",
              "      <td>0.0</td>\n",
              "    </tr>\n",
              "    <tr>\n",
              "      <th>56</th>\n",
              "      <td>2020/2/7</td>\n",
              "      <td>1.8</td>\n",
              "      <td>7.0</td>\n",
              "      <td>-4.3</td>\n",
              "      <td>0.0</td>\n",
              "      <td>NaN</td>\n",
              "      <td>NaN</td>\n",
              "      <td>NaN</td>\n",
              "      <td>1.1</td>\n",
              "      <td>6.7</td>\n",
              "    </tr>\n",
              "    <tr>\n",
              "      <th>...</th>\n",
              "      <td>...</td>\n",
              "      <td>...</td>\n",
              "      <td>...</td>\n",
              "      <td>...</td>\n",
              "      <td>...</td>\n",
              "      <td>...</td>\n",
              "      <td>...</td>\n",
              "      <td>...</td>\n",
              "      <td>...</td>\n",
              "      <td>...</td>\n",
              "    </tr>\n",
              "    <tr>\n",
              "      <th>261</th>\n",
              "      <td>2020/8/30</td>\n",
              "      <td>29.8</td>\n",
              "      <td>35.4</td>\n",
              "      <td>26.2</td>\n",
              "      <td>0.0</td>\n",
              "      <td>NaN</td>\n",
              "      <td>NaN</td>\n",
              "      <td>NaN</td>\n",
              "      <td>1.9</td>\n",
              "      <td>11.4</td>\n",
              "    </tr>\n",
              "    <tr>\n",
              "      <th>243</th>\n",
              "      <td>2020/8/12</td>\n",
              "      <td>30.3</td>\n",
              "      <td>35.9</td>\n",
              "      <td>27.6</td>\n",
              "      <td>0.0</td>\n",
              "      <td>NaN</td>\n",
              "      <td>NaN</td>\n",
              "      <td>NaN</td>\n",
              "      <td>1.8</td>\n",
              "      <td>7.2</td>\n",
              "    </tr>\n",
              "    <tr>\n",
              "      <th>246</th>\n",
              "      <td>2020/8/15</td>\n",
              "      <td>31.2</td>\n",
              "      <td>36.5</td>\n",
              "      <td>27.8</td>\n",
              "      <td>0.0</td>\n",
              "      <td>NaN</td>\n",
              "      <td>NaN</td>\n",
              "      <td>NaN</td>\n",
              "      <td>1.5</td>\n",
              "      <td>8.7</td>\n",
              "    </tr>\n",
              "    <tr>\n",
              "      <th>244</th>\n",
              "      <td>2020/8/13</td>\n",
              "      <td>30.4</td>\n",
              "      <td>37.1</td>\n",
              "      <td>26.9</td>\n",
              "      <td>0.5</td>\n",
              "      <td>NaN</td>\n",
              "      <td>NaN</td>\n",
              "      <td>NaN</td>\n",
              "      <td>1.6</td>\n",
              "      <td>8.5</td>\n",
              "    </tr>\n",
              "    <tr>\n",
              "      <th>248</th>\n",
              "      <td>2020/8/17</td>\n",
              "      <td>30.9</td>\n",
              "      <td>37.2</td>\n",
              "      <td>26.8</td>\n",
              "      <td>0.0</td>\n",
              "      <td>NaN</td>\n",
              "      <td>NaN</td>\n",
              "      <td>NaN</td>\n",
              "      <td>1.7</td>\n",
              "      <td>9.4</td>\n",
              "    </tr>\n",
              "  </tbody>\n",
              "</table>\n",
              "<p>367 rows × 10 columns</p>\n",
              "</div>"
            ],
            "text/plain": [
              "           年月日  平均気温  最高気温  最低気温  降水量の合計  最深積雪  平均雲量  平均蒸気圧  平均風速  日照時間\n",
              "55    2020/2/6   2.3   5.5  -1.3     0.0   NaN   NaN    NaN   3.6   7.5\n",
              "36   2020/1/18   3.8   6.2   0.9     7.5   NaN   NaN    NaN   2.5   0.0\n",
              "40   2020/1/22   4.0   6.2   1.4     0.0   NaN   NaN    NaN   1.2   0.9\n",
              "45   2020/1/27   4.7   6.8   3.1     3.5   NaN   NaN    NaN   1.6   0.0\n",
              "56    2020/2/7   1.8   7.0  -4.3     0.0   NaN   NaN    NaN   1.1   6.7\n",
              "..         ...   ...   ...   ...     ...   ...   ...    ...   ...   ...\n",
              "261  2020/8/30  29.8  35.4  26.2     0.0   NaN   NaN    NaN   1.9  11.4\n",
              "243  2020/8/12  30.3  35.9  27.6     0.0   NaN   NaN    NaN   1.8   7.2\n",
              "246  2020/8/15  31.2  36.5  27.8     0.0   NaN   NaN    NaN   1.5   8.7\n",
              "244  2020/8/13  30.4  37.1  26.9     0.5   NaN   NaN    NaN   1.6   8.5\n",
              "248  2020/8/17  30.9  37.2  26.8     0.0   NaN   NaN    NaN   1.7   9.4\n",
              "\n",
              "[367 rows x 10 columns]"
            ]
          },
          "metadata": {
            "tags": []
          },
          "execution_count": 76
        }
      ]
    },
    {
      "cell_type": "code",
      "metadata": {
        "colab": {
          "base_uri": "https://localhost:8080/",
          "height": 436
        },
        "id": "TpU6Topugqir",
        "outputId": "1cbf6297-f7f7-40b3-dba3-7bc27a4a9f8d"
      },
      "source": [
        "df.sort_values('最高気温', ascending=False)"
      ],
      "execution_count": 77,
      "outputs": [
        {
          "output_type": "execute_result",
          "data": {
            "text/html": [
              "<div>\n",
              "<style scoped>\n",
              "    .dataframe tbody tr th:only-of-type {\n",
              "        vertical-align: middle;\n",
              "    }\n",
              "\n",
              "    .dataframe tbody tr th {\n",
              "        vertical-align: top;\n",
              "    }\n",
              "\n",
              "    .dataframe thead th {\n",
              "        text-align: right;\n",
              "    }\n",
              "</style>\n",
              "<table border=\"1\" class=\"dataframe\">\n",
              "  <thead>\n",
              "    <tr style=\"text-align: right;\">\n",
              "      <th></th>\n",
              "      <th>年月日</th>\n",
              "      <th>平均気温</th>\n",
              "      <th>最高気温</th>\n",
              "      <th>最低気温</th>\n",
              "      <th>降水量の合計</th>\n",
              "      <th>最深積雪</th>\n",
              "      <th>平均雲量</th>\n",
              "      <th>平均蒸気圧</th>\n",
              "      <th>平均風速</th>\n",
              "      <th>日照時間</th>\n",
              "    </tr>\n",
              "  </thead>\n",
              "  <tbody>\n",
              "    <tr>\n",
              "      <th>248</th>\n",
              "      <td>2020/8/17</td>\n",
              "      <td>30.9</td>\n",
              "      <td>37.2</td>\n",
              "      <td>26.8</td>\n",
              "      <td>0.0</td>\n",
              "      <td>NaN</td>\n",
              "      <td>NaN</td>\n",
              "      <td>NaN</td>\n",
              "      <td>1.7</td>\n",
              "      <td>9.4</td>\n",
              "    </tr>\n",
              "    <tr>\n",
              "      <th>244</th>\n",
              "      <td>2020/8/13</td>\n",
              "      <td>30.4</td>\n",
              "      <td>37.1</td>\n",
              "      <td>26.9</td>\n",
              "      <td>0.5</td>\n",
              "      <td>NaN</td>\n",
              "      <td>NaN</td>\n",
              "      <td>NaN</td>\n",
              "      <td>1.6</td>\n",
              "      <td>8.5</td>\n",
              "    </tr>\n",
              "    <tr>\n",
              "      <th>246</th>\n",
              "      <td>2020/8/15</td>\n",
              "      <td>31.2</td>\n",
              "      <td>36.5</td>\n",
              "      <td>27.8</td>\n",
              "      <td>0.0</td>\n",
              "      <td>NaN</td>\n",
              "      <td>NaN</td>\n",
              "      <td>NaN</td>\n",
              "      <td>1.5</td>\n",
              "      <td>8.7</td>\n",
              "    </tr>\n",
              "    <tr>\n",
              "      <th>243</th>\n",
              "      <td>2020/8/12</td>\n",
              "      <td>30.3</td>\n",
              "      <td>35.9</td>\n",
              "      <td>27.6</td>\n",
              "      <td>0.0</td>\n",
              "      <td>NaN</td>\n",
              "      <td>NaN</td>\n",
              "      <td>NaN</td>\n",
              "      <td>1.8</td>\n",
              "      <td>7.2</td>\n",
              "    </tr>\n",
              "    <tr>\n",
              "      <th>252</th>\n",
              "      <td>2020/8/21</td>\n",
              "      <td>29.9</td>\n",
              "      <td>35.4</td>\n",
              "      <td>26.2</td>\n",
              "      <td>0.0</td>\n",
              "      <td>NaN</td>\n",
              "      <td>NaN</td>\n",
              "      <td>NaN</td>\n",
              "      <td>1.8</td>\n",
              "      <td>12.0</td>\n",
              "    </tr>\n",
              "    <tr>\n",
              "      <th>...</th>\n",
              "      <td>...</td>\n",
              "      <td>...</td>\n",
              "      <td>...</td>\n",
              "      <td>...</td>\n",
              "      <td>...</td>\n",
              "      <td>...</td>\n",
              "      <td>...</td>\n",
              "      <td>...</td>\n",
              "      <td>...</td>\n",
              "      <td>...</td>\n",
              "    </tr>\n",
              "    <tr>\n",
              "      <th>44</th>\n",
              "      <td>2020/1/26</td>\n",
              "      <td>4.6</td>\n",
              "      <td>7.0</td>\n",
              "      <td>1.7</td>\n",
              "      <td>5.5</td>\n",
              "      <td>NaN</td>\n",
              "      <td>NaN</td>\n",
              "      <td>NaN</td>\n",
              "      <td>0.9</td>\n",
              "      <td>0.0</td>\n",
              "    </tr>\n",
              "    <tr>\n",
              "      <th>45</th>\n",
              "      <td>2020/1/27</td>\n",
              "      <td>4.7</td>\n",
              "      <td>6.8</td>\n",
              "      <td>3.1</td>\n",
              "      <td>3.5</td>\n",
              "      <td>NaN</td>\n",
              "      <td>NaN</td>\n",
              "      <td>NaN</td>\n",
              "      <td>1.6</td>\n",
              "      <td>0.0</td>\n",
              "    </tr>\n",
              "    <tr>\n",
              "      <th>36</th>\n",
              "      <td>2020/1/18</td>\n",
              "      <td>3.8</td>\n",
              "      <td>6.2</td>\n",
              "      <td>0.9</td>\n",
              "      <td>7.5</td>\n",
              "      <td>NaN</td>\n",
              "      <td>NaN</td>\n",
              "      <td>NaN</td>\n",
              "      <td>2.5</td>\n",
              "      <td>0.0</td>\n",
              "    </tr>\n",
              "    <tr>\n",
              "      <th>40</th>\n",
              "      <td>2020/1/22</td>\n",
              "      <td>4.0</td>\n",
              "      <td>6.2</td>\n",
              "      <td>1.4</td>\n",
              "      <td>0.0</td>\n",
              "      <td>NaN</td>\n",
              "      <td>NaN</td>\n",
              "      <td>NaN</td>\n",
              "      <td>1.2</td>\n",
              "      <td>0.9</td>\n",
              "    </tr>\n",
              "    <tr>\n",
              "      <th>55</th>\n",
              "      <td>2020/2/6</td>\n",
              "      <td>2.3</td>\n",
              "      <td>5.5</td>\n",
              "      <td>-1.3</td>\n",
              "      <td>0.0</td>\n",
              "      <td>NaN</td>\n",
              "      <td>NaN</td>\n",
              "      <td>NaN</td>\n",
              "      <td>3.6</td>\n",
              "      <td>7.5</td>\n",
              "    </tr>\n",
              "  </tbody>\n",
              "</table>\n",
              "<p>367 rows × 10 columns</p>\n",
              "</div>"
            ],
            "text/plain": [
              "           年月日  平均気温  最高気温  最低気温  降水量の合計  最深積雪  平均雲量  平均蒸気圧  平均風速  日照時間\n",
              "248  2020/8/17  30.9  37.2  26.8     0.0   NaN   NaN    NaN   1.7   9.4\n",
              "244  2020/8/13  30.4  37.1  26.9     0.5   NaN   NaN    NaN   1.6   8.5\n",
              "246  2020/8/15  31.2  36.5  27.8     0.0   NaN   NaN    NaN   1.5   8.7\n",
              "243  2020/8/12  30.3  35.9  27.6     0.0   NaN   NaN    NaN   1.8   7.2\n",
              "252  2020/8/21  29.9  35.4  26.2     0.0   NaN   NaN    NaN   1.8  12.0\n",
              "..         ...   ...   ...   ...     ...   ...   ...    ...   ...   ...\n",
              "44   2020/1/26   4.6   7.0   1.7     5.5   NaN   NaN    NaN   0.9   0.0\n",
              "45   2020/1/27   4.7   6.8   3.1     3.5   NaN   NaN    NaN   1.6   0.0\n",
              "36   2020/1/18   3.8   6.2   0.9     7.5   NaN   NaN    NaN   2.5   0.0\n",
              "40   2020/1/22   4.0   6.2   1.4     0.0   NaN   NaN    NaN   1.2   0.9\n",
              "55    2020/2/6   2.3   5.5  -1.3     0.0   NaN   NaN    NaN   3.6   7.5\n",
              "\n",
              "[367 rows x 10 columns]"
            ]
          },
          "metadata": {
            "tags": []
          },
          "execution_count": 77
        }
      ]
    },
    {
      "cell_type": "markdown",
      "metadata": {
        "id": "KI82jPOTQShR"
      },
      "source": [
        "# **１１問目：ダミー変数への処理**"
      ]
    },
    {
      "cell_type": "code",
      "metadata": {
        "id": "EXUKVLOpQjCw",
        "colab": {
          "base_uri": "https://localhost:8080/"
        },
        "outputId": "1fae2ab7-44ef-4efe-99cf-658b543ca2cf"
      },
      "source": [
        "df_people['nationality'].unique()"
      ],
      "execution_count": 78,
      "outputs": [
        {
          "output_type": "execute_result",
          "data": {
            "text/plain": [
              "array(['Japan', 'America', 'Korea'], dtype=object)"
            ]
          },
          "metadata": {
            "tags": []
          },
          "execution_count": 78
        }
      ]
    },
    {
      "cell_type": "code",
      "metadata": {
        "colab": {
          "base_uri": "https://localhost:8080/",
          "height": 204
        },
        "id": "mltyMz1VhAcN",
        "outputId": "843f0292-2ddc-4b2f-ff45-86684bb82318"
      },
      "source": [
        "pd.get_dummies(df_people['nationality'])"
      ],
      "execution_count": 79,
      "outputs": [
        {
          "output_type": "execute_result",
          "data": {
            "text/html": [
              "<div>\n",
              "<style scoped>\n",
              "    .dataframe tbody tr th:only-of-type {\n",
              "        vertical-align: middle;\n",
              "    }\n",
              "\n",
              "    .dataframe tbody tr th {\n",
              "        vertical-align: top;\n",
              "    }\n",
              "\n",
              "    .dataframe thead th {\n",
              "        text-align: right;\n",
              "    }\n",
              "</style>\n",
              "<table border=\"1\" class=\"dataframe\">\n",
              "  <thead>\n",
              "    <tr style=\"text-align: right;\">\n",
              "      <th></th>\n",
              "      <th>America</th>\n",
              "      <th>Japan</th>\n",
              "      <th>Korea</th>\n",
              "    </tr>\n",
              "  </thead>\n",
              "  <tbody>\n",
              "    <tr>\n",
              "      <th>0</th>\n",
              "      <td>0</td>\n",
              "      <td>1</td>\n",
              "      <td>0</td>\n",
              "    </tr>\n",
              "    <tr>\n",
              "      <th>1</th>\n",
              "      <td>1</td>\n",
              "      <td>0</td>\n",
              "      <td>0</td>\n",
              "    </tr>\n",
              "    <tr>\n",
              "      <th>2</th>\n",
              "      <td>0</td>\n",
              "      <td>1</td>\n",
              "      <td>0</td>\n",
              "    </tr>\n",
              "    <tr>\n",
              "      <th>3</th>\n",
              "      <td>1</td>\n",
              "      <td>0</td>\n",
              "      <td>0</td>\n",
              "    </tr>\n",
              "    <tr>\n",
              "      <th>4</th>\n",
              "      <td>0</td>\n",
              "      <td>0</td>\n",
              "      <td>1</td>\n",
              "    </tr>\n",
              "  </tbody>\n",
              "</table>\n",
              "</div>"
            ],
            "text/plain": [
              "   America  Japan  Korea\n",
              "0        0      1      0\n",
              "1        1      0      0\n",
              "2        0      1      0\n",
              "3        1      0      0\n",
              "4        0      0      1"
            ]
          },
          "metadata": {
            "tags": []
          },
          "execution_count": 79
        }
      ]
    },
    {
      "cell_type": "code",
      "metadata": {
        "colab": {
          "base_uri": "https://localhost:8080/",
          "height": 204
        },
        "id": "9HepH_RzhZ-S",
        "outputId": "79786077-e9ae-44dc-b398-0c1bb78dd9e3"
      },
      "source": [
        "pd.get_dummies(df_people, columns=['nationality'])"
      ],
      "execution_count": 80,
      "outputs": [
        {
          "output_type": "execute_result",
          "data": {
            "text/html": [
              "<div>\n",
              "<style scoped>\n",
              "    .dataframe tbody tr th:only-of-type {\n",
              "        vertical-align: middle;\n",
              "    }\n",
              "\n",
              "    .dataframe tbody tr th {\n",
              "        vertical-align: top;\n",
              "    }\n",
              "\n",
              "    .dataframe thead th {\n",
              "        text-align: right;\n",
              "    }\n",
              "</style>\n",
              "<table border=\"1\" class=\"dataframe\">\n",
              "  <thead>\n",
              "    <tr style=\"text-align: right;\">\n",
              "      <th></th>\n",
              "      <th>age</th>\n",
              "      <th>id</th>\n",
              "      <th>name</th>\n",
              "      <th>nationality_America</th>\n",
              "      <th>nationality_Japan</th>\n",
              "      <th>nationality_Korea</th>\n",
              "    </tr>\n",
              "  </thead>\n",
              "  <tbody>\n",
              "    <tr>\n",
              "      <th>0</th>\n",
              "      <td>26</td>\n",
              "      <td>13</td>\n",
              "      <td>Imanishi</td>\n",
              "      <td>0</td>\n",
              "      <td>1</td>\n",
              "      <td>0</td>\n",
              "    </tr>\n",
              "    <tr>\n",
              "      <th>1</th>\n",
              "      <td>21</td>\n",
              "      <td>33</td>\n",
              "      <td>Mike</td>\n",
              "      <td>1</td>\n",
              "      <td>0</td>\n",
              "      <td>0</td>\n",
              "    </tr>\n",
              "    <tr>\n",
              "      <th>2</th>\n",
              "      <td>35</td>\n",
              "      <td>31</td>\n",
              "      <td>Suzuki</td>\n",
              "      <td>0</td>\n",
              "      <td>1</td>\n",
              "      <td>0</td>\n",
              "    </tr>\n",
              "    <tr>\n",
              "      <th>3</th>\n",
              "      <td>16</td>\n",
              "      <td>20</td>\n",
              "      <td>John</td>\n",
              "      <td>1</td>\n",
              "      <td>0</td>\n",
              "      <td>0</td>\n",
              "    </tr>\n",
              "    <tr>\n",
              "      <th>4</th>\n",
              "      <td>28</td>\n",
              "      <td>11</td>\n",
              "      <td>Kim</td>\n",
              "      <td>0</td>\n",
              "      <td>0</td>\n",
              "      <td>1</td>\n",
              "    </tr>\n",
              "  </tbody>\n",
              "</table>\n",
              "</div>"
            ],
            "text/plain": [
              "   age  id      name  nationality_America  nationality_Japan  nationality_Korea\n",
              "0   26  13  Imanishi                    0                  1                  0\n",
              "1   21  33      Mike                    1                  0                  0\n",
              "2   35  31    Suzuki                    0                  1                  0\n",
              "3   16  20      John                    1                  0                  0\n",
              "4   28  11       Kim                    0                  0                  1"
            ]
          },
          "metadata": {
            "tags": []
          },
          "execution_count": 80
        }
      ]
    },
    {
      "cell_type": "markdown",
      "metadata": {
        "id": "aQLepKE_QSlN"
      },
      "source": [
        "# **１２問目：欠損値の確認**"
      ]
    },
    {
      "cell_type": "code",
      "metadata": {
        "id": "6Dy9zDm5Qjqw",
        "colab": {
          "base_uri": "https://localhost:8080/",
          "height": 436
        },
        "outputId": "f22472c1-1a2c-4954-863d-c9907b4ad4de"
      },
      "source": [
        "df"
      ],
      "execution_count": 81,
      "outputs": [
        {
          "output_type": "execute_result",
          "data": {
            "text/html": [
              "<div>\n",
              "<style scoped>\n",
              "    .dataframe tbody tr th:only-of-type {\n",
              "        vertical-align: middle;\n",
              "    }\n",
              "\n",
              "    .dataframe tbody tr th {\n",
              "        vertical-align: top;\n",
              "    }\n",
              "\n",
              "    .dataframe thead th {\n",
              "        text-align: right;\n",
              "    }\n",
              "</style>\n",
              "<table border=\"1\" class=\"dataframe\">\n",
              "  <thead>\n",
              "    <tr style=\"text-align: right;\">\n",
              "      <th></th>\n",
              "      <th>年月日</th>\n",
              "      <th>平均気温</th>\n",
              "      <th>最高気温</th>\n",
              "      <th>最低気温</th>\n",
              "      <th>降水量の合計</th>\n",
              "      <th>最深積雪</th>\n",
              "      <th>平均雲量</th>\n",
              "      <th>平均蒸気圧</th>\n",
              "      <th>平均風速</th>\n",
              "      <th>日照時間</th>\n",
              "    </tr>\n",
              "  </thead>\n",
              "  <tbody>\n",
              "    <tr>\n",
              "      <th>1</th>\n",
              "      <td>2019/12/14</td>\n",
              "      <td>9.3</td>\n",
              "      <td>15.9</td>\n",
              "      <td>3.2</td>\n",
              "      <td>0.0</td>\n",
              "      <td>NaN</td>\n",
              "      <td>NaN</td>\n",
              "      <td>NaN</td>\n",
              "      <td>2.0</td>\n",
              "      <td>8.9</td>\n",
              "    </tr>\n",
              "    <tr>\n",
              "      <th>2</th>\n",
              "      <td>2019/12/15</td>\n",
              "      <td>7.8</td>\n",
              "      <td>11.1</td>\n",
              "      <td>4.0</td>\n",
              "      <td>0.0</td>\n",
              "      <td>NaN</td>\n",
              "      <td>NaN</td>\n",
              "      <td>NaN</td>\n",
              "      <td>2.3</td>\n",
              "      <td>6.3</td>\n",
              "    </tr>\n",
              "    <tr>\n",
              "      <th>3</th>\n",
              "      <td>2019/12/16</td>\n",
              "      <td>6.9</td>\n",
              "      <td>12.5</td>\n",
              "      <td>1.3</td>\n",
              "      <td>0.0</td>\n",
              "      <td>NaN</td>\n",
              "      <td>NaN</td>\n",
              "      <td>NaN</td>\n",
              "      <td>1.1</td>\n",
              "      <td>8.9</td>\n",
              "    </tr>\n",
              "    <tr>\n",
              "      <th>4</th>\n",
              "      <td>2019/12/17</td>\n",
              "      <td>8.2</td>\n",
              "      <td>10.3</td>\n",
              "      <td>5.7</td>\n",
              "      <td>2.0</td>\n",
              "      <td>NaN</td>\n",
              "      <td>NaN</td>\n",
              "      <td>NaN</td>\n",
              "      <td>1.1</td>\n",
              "      <td>0.2</td>\n",
              "    </tr>\n",
              "    <tr>\n",
              "      <th>5</th>\n",
              "      <td>2019/12/18</td>\n",
              "      <td>9.9</td>\n",
              "      <td>15.0</td>\n",
              "      <td>4.8</td>\n",
              "      <td>0.0</td>\n",
              "      <td>NaN</td>\n",
              "      <td>NaN</td>\n",
              "      <td>NaN</td>\n",
              "      <td>1.2</td>\n",
              "      <td>4.3</td>\n",
              "    </tr>\n",
              "    <tr>\n",
              "      <th>...</th>\n",
              "      <td>...</td>\n",
              "      <td>...</td>\n",
              "      <td>...</td>\n",
              "      <td>...</td>\n",
              "      <td>...</td>\n",
              "      <td>...</td>\n",
              "      <td>...</td>\n",
              "      <td>...</td>\n",
              "      <td>...</td>\n",
              "      <td>...</td>\n",
              "    </tr>\n",
              "    <tr>\n",
              "      <th>363</th>\n",
              "      <td>2020/12/10</td>\n",
              "      <td>8.7</td>\n",
              "      <td>11.1</td>\n",
              "      <td>6.0</td>\n",
              "      <td>0.5</td>\n",
              "      <td>NaN</td>\n",
              "      <td>NaN</td>\n",
              "      <td>NaN</td>\n",
              "      <td>1.4</td>\n",
              "      <td>0.0</td>\n",
              "    </tr>\n",
              "    <tr>\n",
              "      <th>364</th>\n",
              "      <td>2020/12/11</td>\n",
              "      <td>9.2</td>\n",
              "      <td>13.8</td>\n",
              "      <td>3.5</td>\n",
              "      <td>0.0</td>\n",
              "      <td>NaN</td>\n",
              "      <td>NaN</td>\n",
              "      <td>NaN</td>\n",
              "      <td>0.8</td>\n",
              "      <td>4.3</td>\n",
              "    </tr>\n",
              "    <tr>\n",
              "      <th>365</th>\n",
              "      <td>2020/12/12</td>\n",
              "      <td>10.4</td>\n",
              "      <td>14.0</td>\n",
              "      <td>8.0</td>\n",
              "      <td>0.0</td>\n",
              "      <td>NaN</td>\n",
              "      <td>NaN</td>\n",
              "      <td>NaN</td>\n",
              "      <td>1.4</td>\n",
              "      <td>1.4</td>\n",
              "    </tr>\n",
              "    <tr>\n",
              "      <th>366</th>\n",
              "      <td>2020/12/13</td>\n",
              "      <td>8.6</td>\n",
              "      <td>14.4</td>\n",
              "      <td>4.4</td>\n",
              "      <td>0.0</td>\n",
              "      <td>NaN</td>\n",
              "      <td>NaN</td>\n",
              "      <td>NaN</td>\n",
              "      <td>1.0</td>\n",
              "      <td>5.5</td>\n",
              "    </tr>\n",
              "    <tr>\n",
              "      <th>367</th>\n",
              "      <td>2020/12/14</td>\n",
              "      <td>7.8</td>\n",
              "      <td>12.2</td>\n",
              "      <td>4.4</td>\n",
              "      <td>0.0</td>\n",
              "      <td>NaN</td>\n",
              "      <td>NaN</td>\n",
              "      <td>NaN</td>\n",
              "      <td>1.9</td>\n",
              "      <td>4.4</td>\n",
              "    </tr>\n",
              "  </tbody>\n",
              "</table>\n",
              "<p>367 rows × 10 columns</p>\n",
              "</div>"
            ],
            "text/plain": [
              "            年月日  平均気温  最高気温  最低気温  降水量の合計  最深積雪  平均雲量  平均蒸気圧  平均風速  日照時間\n",
              "1    2019/12/14   9.3  15.9   3.2     0.0   NaN   NaN    NaN   2.0   8.9\n",
              "2    2019/12/15   7.8  11.1   4.0     0.0   NaN   NaN    NaN   2.3   6.3\n",
              "3    2019/12/16   6.9  12.5   1.3     0.0   NaN   NaN    NaN   1.1   8.9\n",
              "4    2019/12/17   8.2  10.3   5.7     2.0   NaN   NaN    NaN   1.1   0.2\n",
              "5    2019/12/18   9.9  15.0   4.8     0.0   NaN   NaN    NaN   1.2   4.3\n",
              "..          ...   ...   ...   ...     ...   ...   ...    ...   ...   ...\n",
              "363  2020/12/10   8.7  11.1   6.0     0.5   NaN   NaN    NaN   1.4   0.0\n",
              "364  2020/12/11   9.2  13.8   3.5     0.0   NaN   NaN    NaN   0.8   4.3\n",
              "365  2020/12/12  10.4  14.0   8.0     0.0   NaN   NaN    NaN   1.4   1.4\n",
              "366  2020/12/13   8.6  14.4   4.4     0.0   NaN   NaN    NaN   1.0   5.5\n",
              "367  2020/12/14   7.8  12.2   4.4     0.0   NaN   NaN    NaN   1.9   4.4\n",
              "\n",
              "[367 rows x 10 columns]"
            ]
          },
          "metadata": {
            "tags": []
          },
          "execution_count": 81
        }
      ]
    },
    {
      "cell_type": "code",
      "metadata": {
        "colab": {
          "base_uri": "https://localhost:8080/",
          "height": 436
        },
        "id": "ZBbsKHC7hvox",
        "outputId": "98c2ce8e-59c4-4ced-ae3a-7c6b966ac23f"
      },
      "source": [
        "df.isnull()"
      ],
      "execution_count": 84,
      "outputs": [
        {
          "output_type": "execute_result",
          "data": {
            "text/html": [
              "<div>\n",
              "<style scoped>\n",
              "    .dataframe tbody tr th:only-of-type {\n",
              "        vertical-align: middle;\n",
              "    }\n",
              "\n",
              "    .dataframe tbody tr th {\n",
              "        vertical-align: top;\n",
              "    }\n",
              "\n",
              "    .dataframe thead th {\n",
              "        text-align: right;\n",
              "    }\n",
              "</style>\n",
              "<table border=\"1\" class=\"dataframe\">\n",
              "  <thead>\n",
              "    <tr style=\"text-align: right;\">\n",
              "      <th></th>\n",
              "      <th>年月日</th>\n",
              "      <th>平均気温</th>\n",
              "      <th>最高気温</th>\n",
              "      <th>最低気温</th>\n",
              "      <th>降水量の合計</th>\n",
              "      <th>最深積雪</th>\n",
              "      <th>平均雲量</th>\n",
              "      <th>平均蒸気圧</th>\n",
              "      <th>平均風速</th>\n",
              "      <th>日照時間</th>\n",
              "    </tr>\n",
              "  </thead>\n",
              "  <tbody>\n",
              "    <tr>\n",
              "      <th>1</th>\n",
              "      <td>False</td>\n",
              "      <td>False</td>\n",
              "      <td>False</td>\n",
              "      <td>False</td>\n",
              "      <td>False</td>\n",
              "      <td>True</td>\n",
              "      <td>True</td>\n",
              "      <td>True</td>\n",
              "      <td>False</td>\n",
              "      <td>False</td>\n",
              "    </tr>\n",
              "    <tr>\n",
              "      <th>2</th>\n",
              "      <td>False</td>\n",
              "      <td>False</td>\n",
              "      <td>False</td>\n",
              "      <td>False</td>\n",
              "      <td>False</td>\n",
              "      <td>True</td>\n",
              "      <td>True</td>\n",
              "      <td>True</td>\n",
              "      <td>False</td>\n",
              "      <td>False</td>\n",
              "    </tr>\n",
              "    <tr>\n",
              "      <th>3</th>\n",
              "      <td>False</td>\n",
              "      <td>False</td>\n",
              "      <td>False</td>\n",
              "      <td>False</td>\n",
              "      <td>False</td>\n",
              "      <td>True</td>\n",
              "      <td>True</td>\n",
              "      <td>True</td>\n",
              "      <td>False</td>\n",
              "      <td>False</td>\n",
              "    </tr>\n",
              "    <tr>\n",
              "      <th>4</th>\n",
              "      <td>False</td>\n",
              "      <td>False</td>\n",
              "      <td>False</td>\n",
              "      <td>False</td>\n",
              "      <td>False</td>\n",
              "      <td>True</td>\n",
              "      <td>True</td>\n",
              "      <td>True</td>\n",
              "      <td>False</td>\n",
              "      <td>False</td>\n",
              "    </tr>\n",
              "    <tr>\n",
              "      <th>5</th>\n",
              "      <td>False</td>\n",
              "      <td>False</td>\n",
              "      <td>False</td>\n",
              "      <td>False</td>\n",
              "      <td>False</td>\n",
              "      <td>True</td>\n",
              "      <td>True</td>\n",
              "      <td>True</td>\n",
              "      <td>False</td>\n",
              "      <td>False</td>\n",
              "    </tr>\n",
              "    <tr>\n",
              "      <th>...</th>\n",
              "      <td>...</td>\n",
              "      <td>...</td>\n",
              "      <td>...</td>\n",
              "      <td>...</td>\n",
              "      <td>...</td>\n",
              "      <td>...</td>\n",
              "      <td>...</td>\n",
              "      <td>...</td>\n",
              "      <td>...</td>\n",
              "      <td>...</td>\n",
              "    </tr>\n",
              "    <tr>\n",
              "      <th>363</th>\n",
              "      <td>False</td>\n",
              "      <td>False</td>\n",
              "      <td>False</td>\n",
              "      <td>False</td>\n",
              "      <td>False</td>\n",
              "      <td>True</td>\n",
              "      <td>True</td>\n",
              "      <td>True</td>\n",
              "      <td>False</td>\n",
              "      <td>False</td>\n",
              "    </tr>\n",
              "    <tr>\n",
              "      <th>364</th>\n",
              "      <td>False</td>\n",
              "      <td>False</td>\n",
              "      <td>False</td>\n",
              "      <td>False</td>\n",
              "      <td>False</td>\n",
              "      <td>True</td>\n",
              "      <td>True</td>\n",
              "      <td>True</td>\n",
              "      <td>False</td>\n",
              "      <td>False</td>\n",
              "    </tr>\n",
              "    <tr>\n",
              "      <th>365</th>\n",
              "      <td>False</td>\n",
              "      <td>False</td>\n",
              "      <td>False</td>\n",
              "      <td>False</td>\n",
              "      <td>False</td>\n",
              "      <td>True</td>\n",
              "      <td>True</td>\n",
              "      <td>True</td>\n",
              "      <td>False</td>\n",
              "      <td>False</td>\n",
              "    </tr>\n",
              "    <tr>\n",
              "      <th>366</th>\n",
              "      <td>False</td>\n",
              "      <td>False</td>\n",
              "      <td>False</td>\n",
              "      <td>False</td>\n",
              "      <td>False</td>\n",
              "      <td>True</td>\n",
              "      <td>True</td>\n",
              "      <td>True</td>\n",
              "      <td>False</td>\n",
              "      <td>False</td>\n",
              "    </tr>\n",
              "    <tr>\n",
              "      <th>367</th>\n",
              "      <td>False</td>\n",
              "      <td>False</td>\n",
              "      <td>False</td>\n",
              "      <td>False</td>\n",
              "      <td>False</td>\n",
              "      <td>True</td>\n",
              "      <td>True</td>\n",
              "      <td>True</td>\n",
              "      <td>False</td>\n",
              "      <td>False</td>\n",
              "    </tr>\n",
              "  </tbody>\n",
              "</table>\n",
              "<p>367 rows × 10 columns</p>\n",
              "</div>"
            ],
            "text/plain": [
              "       年月日   平均気温   最高気温   最低気温  降水量の合計  最深積雪  平均雲量  平均蒸気圧   平均風速   日照時間\n",
              "1    False  False  False  False   False  True  True   True  False  False\n",
              "2    False  False  False  False   False  True  True   True  False  False\n",
              "3    False  False  False  False   False  True  True   True  False  False\n",
              "4    False  False  False  False   False  True  True   True  False  False\n",
              "5    False  False  False  False   False  True  True   True  False  False\n",
              "..     ...    ...    ...    ...     ...   ...   ...    ...    ...    ...\n",
              "363  False  False  False  False   False  True  True   True  False  False\n",
              "364  False  False  False  False   False  True  True   True  False  False\n",
              "365  False  False  False  False   False  True  True   True  False  False\n",
              "366  False  False  False  False   False  True  True   True  False  False\n",
              "367  False  False  False  False   False  True  True   True  False  False\n",
              "\n",
              "[367 rows x 10 columns]"
            ]
          },
          "metadata": {
            "tags": []
          },
          "execution_count": 84
        }
      ]
    },
    {
      "cell_type": "markdown",
      "metadata": {
        "id": "hWD20iqFQSoC"
      },
      "source": [
        "# **１３問目：欠損値の補完**"
      ]
    },
    {
      "cell_type": "markdown",
      "metadata": {
        "id": "gan6hAfFiKxK"
      },
      "source": [
        "fillna(0) の（）内の値は平均値、中央値で置き換える場合が多い"
      ]
    },
    {
      "cell_type": "code",
      "metadata": {
        "id": "ugIJfl5kQkeN",
        "colab": {
          "base_uri": "https://localhost:8080/",
          "height": 221
        },
        "outputId": "abf2162a-e16a-4474-eba3-757e6c4a3ab7"
      },
      "source": [
        "df.fillna(0).head()"
      ],
      "execution_count": 88,
      "outputs": [
        {
          "output_type": "execute_result",
          "data": {
            "text/html": [
              "<div>\n",
              "<style scoped>\n",
              "    .dataframe tbody tr th:only-of-type {\n",
              "        vertical-align: middle;\n",
              "    }\n",
              "\n",
              "    .dataframe tbody tr th {\n",
              "        vertical-align: top;\n",
              "    }\n",
              "\n",
              "    .dataframe thead th {\n",
              "        text-align: right;\n",
              "    }\n",
              "</style>\n",
              "<table border=\"1\" class=\"dataframe\">\n",
              "  <thead>\n",
              "    <tr style=\"text-align: right;\">\n",
              "      <th></th>\n",
              "      <th>年月日</th>\n",
              "      <th>平均気温</th>\n",
              "      <th>最高気温</th>\n",
              "      <th>最低気温</th>\n",
              "      <th>降水量の合計</th>\n",
              "      <th>最深積雪</th>\n",
              "      <th>平均雲量</th>\n",
              "      <th>平均蒸気圧</th>\n",
              "      <th>平均風速</th>\n",
              "      <th>日照時間</th>\n",
              "    </tr>\n",
              "  </thead>\n",
              "  <tbody>\n",
              "    <tr>\n",
              "      <th>1</th>\n",
              "      <td>2019/12/14</td>\n",
              "      <td>9.3</td>\n",
              "      <td>15.9</td>\n",
              "      <td>3.2</td>\n",
              "      <td>0.0</td>\n",
              "      <td>0.0</td>\n",
              "      <td>0.0</td>\n",
              "      <td>0.0</td>\n",
              "      <td>2.0</td>\n",
              "      <td>8.9</td>\n",
              "    </tr>\n",
              "    <tr>\n",
              "      <th>2</th>\n",
              "      <td>2019/12/15</td>\n",
              "      <td>7.8</td>\n",
              "      <td>11.1</td>\n",
              "      <td>4.0</td>\n",
              "      <td>0.0</td>\n",
              "      <td>0.0</td>\n",
              "      <td>0.0</td>\n",
              "      <td>0.0</td>\n",
              "      <td>2.3</td>\n",
              "      <td>6.3</td>\n",
              "    </tr>\n",
              "    <tr>\n",
              "      <th>3</th>\n",
              "      <td>2019/12/16</td>\n",
              "      <td>6.9</td>\n",
              "      <td>12.5</td>\n",
              "      <td>1.3</td>\n",
              "      <td>0.0</td>\n",
              "      <td>0.0</td>\n",
              "      <td>0.0</td>\n",
              "      <td>0.0</td>\n",
              "      <td>1.1</td>\n",
              "      <td>8.9</td>\n",
              "    </tr>\n",
              "    <tr>\n",
              "      <th>4</th>\n",
              "      <td>2019/12/17</td>\n",
              "      <td>8.2</td>\n",
              "      <td>10.3</td>\n",
              "      <td>5.7</td>\n",
              "      <td>2.0</td>\n",
              "      <td>0.0</td>\n",
              "      <td>0.0</td>\n",
              "      <td>0.0</td>\n",
              "      <td>1.1</td>\n",
              "      <td>0.2</td>\n",
              "    </tr>\n",
              "    <tr>\n",
              "      <th>5</th>\n",
              "      <td>2019/12/18</td>\n",
              "      <td>9.9</td>\n",
              "      <td>15.0</td>\n",
              "      <td>4.8</td>\n",
              "      <td>0.0</td>\n",
              "      <td>0.0</td>\n",
              "      <td>0.0</td>\n",
              "      <td>0.0</td>\n",
              "      <td>1.2</td>\n",
              "      <td>4.3</td>\n",
              "    </tr>\n",
              "  </tbody>\n",
              "</table>\n",
              "</div>"
            ],
            "text/plain": [
              "          年月日  平均気温  最高気温  最低気温  降水量の合計  最深積雪  平均雲量  平均蒸気圧  平均風速  日照時間\n",
              "1  2019/12/14   9.3  15.9   3.2     0.0   0.0   0.0    0.0   2.0   8.9\n",
              "2  2019/12/15   7.8  11.1   4.0     0.0   0.0   0.0    0.0   2.3   6.3\n",
              "3  2019/12/16   6.9  12.5   1.3     0.0   0.0   0.0    0.0   1.1   8.9\n",
              "4  2019/12/17   8.2  10.3   5.7     2.0   0.0   0.0    0.0   1.1   0.2\n",
              "5  2019/12/18   9.9  15.0   4.8     0.0   0.0   0.0    0.0   1.2   4.3"
            ]
          },
          "metadata": {
            "tags": []
          },
          "execution_count": 88
        }
      ]
    },
    {
      "cell_type": "markdown",
      "metadata": {
        "id": "cRQq0UhVQSqp"
      },
      "source": [
        "# **１４問目：欠損値の削除**"
      ]
    },
    {
      "cell_type": "markdown",
      "metadata": {
        "id": "0colRsUzid_u"
      },
      "source": [
        "縦の列から判別して削除する理由\n",
        "→df.isnull().sum()で欠損値のカウントをすると全てのデータが欠損値なので今回のデータでは縦列で削除する"
      ]
    },
    {
      "cell_type": "code",
      "metadata": {
        "colab": {
          "base_uri": "https://localhost:8080/"
        },
        "id": "F9ljU6dAiog8",
        "outputId": "b90a190b-f846-4bc2-c787-6ecbf20c0455"
      },
      "source": [
        "df.isnull().sum()"
      ],
      "execution_count": 89,
      "outputs": [
        {
          "output_type": "execute_result",
          "data": {
            "text/plain": [
              "年月日         0\n",
              "平均気温        0\n",
              "最高気温        0\n",
              "最低気温        0\n",
              "降水量の合計      0\n",
              "最深積雪      367\n",
              "平均雲量      367\n",
              "平均蒸気圧     367\n",
              "平均風速        0\n",
              "日照時間        0\n",
              "dtype: int64"
            ]
          },
          "metadata": {
            "tags": []
          },
          "execution_count": 89
        }
      ]
    },
    {
      "cell_type": "code",
      "metadata": {
        "colab": {
          "base_uri": "https://localhost:8080/"
        },
        "id": "gAc9BprVi4ZK",
        "outputId": "ecef1c8d-c29f-4296-ad38-f9d9b5ce07ad"
      },
      "source": [
        "df.shape"
      ],
      "execution_count": 91,
      "outputs": [
        {
          "output_type": "execute_result",
          "data": {
            "text/plain": [
              "(367, 10)"
            ]
          },
          "metadata": {
            "tags": []
          },
          "execution_count": 91
        }
      ]
    },
    {
      "cell_type": "markdown",
      "metadata": {
        "id": "9Bfj9xBojBdB"
      },
      "source": [
        "axis=1　⇨　列方向\n",
        "　　　　　　　　　　　　axis=0　⇨　行方向"
      ]
    },
    {
      "cell_type": "code",
      "metadata": {
        "id": "AAt5NQ85Qk2T",
        "colab": {
          "base_uri": "https://localhost:8080/",
          "height": 204
        },
        "outputId": "6c298a94-b4d4-464c-cb54-4c6736b0f5f1"
      },
      "source": [
        "df.dropna(axis=1).head()"
      ],
      "execution_count": 93,
      "outputs": [
        {
          "output_type": "execute_result",
          "data": {
            "text/html": [
              "<div>\n",
              "<style scoped>\n",
              "    .dataframe tbody tr th:only-of-type {\n",
              "        vertical-align: middle;\n",
              "    }\n",
              "\n",
              "    .dataframe tbody tr th {\n",
              "        vertical-align: top;\n",
              "    }\n",
              "\n",
              "    .dataframe thead th {\n",
              "        text-align: right;\n",
              "    }\n",
              "</style>\n",
              "<table border=\"1\" class=\"dataframe\">\n",
              "  <thead>\n",
              "    <tr style=\"text-align: right;\">\n",
              "      <th></th>\n",
              "      <th>年月日</th>\n",
              "      <th>平均気温</th>\n",
              "      <th>最高気温</th>\n",
              "      <th>最低気温</th>\n",
              "      <th>降水量の合計</th>\n",
              "      <th>平均風速</th>\n",
              "      <th>日照時間</th>\n",
              "    </tr>\n",
              "  </thead>\n",
              "  <tbody>\n",
              "    <tr>\n",
              "      <th>1</th>\n",
              "      <td>2019/12/14</td>\n",
              "      <td>9.3</td>\n",
              "      <td>15.9</td>\n",
              "      <td>3.2</td>\n",
              "      <td>0.0</td>\n",
              "      <td>2.0</td>\n",
              "      <td>8.9</td>\n",
              "    </tr>\n",
              "    <tr>\n",
              "      <th>2</th>\n",
              "      <td>2019/12/15</td>\n",
              "      <td>7.8</td>\n",
              "      <td>11.1</td>\n",
              "      <td>4.0</td>\n",
              "      <td>0.0</td>\n",
              "      <td>2.3</td>\n",
              "      <td>6.3</td>\n",
              "    </tr>\n",
              "    <tr>\n",
              "      <th>3</th>\n",
              "      <td>2019/12/16</td>\n",
              "      <td>6.9</td>\n",
              "      <td>12.5</td>\n",
              "      <td>1.3</td>\n",
              "      <td>0.0</td>\n",
              "      <td>1.1</td>\n",
              "      <td>8.9</td>\n",
              "    </tr>\n",
              "    <tr>\n",
              "      <th>4</th>\n",
              "      <td>2019/12/17</td>\n",
              "      <td>8.2</td>\n",
              "      <td>10.3</td>\n",
              "      <td>5.7</td>\n",
              "      <td>2.0</td>\n",
              "      <td>1.1</td>\n",
              "      <td>0.2</td>\n",
              "    </tr>\n",
              "    <tr>\n",
              "      <th>5</th>\n",
              "      <td>2019/12/18</td>\n",
              "      <td>9.9</td>\n",
              "      <td>15.0</td>\n",
              "      <td>4.8</td>\n",
              "      <td>0.0</td>\n",
              "      <td>1.2</td>\n",
              "      <td>4.3</td>\n",
              "    </tr>\n",
              "  </tbody>\n",
              "</table>\n",
              "</div>"
            ],
            "text/plain": [
              "          年月日  平均気温  最高気温  最低気温  降水量の合計  平均風速  日照時間\n",
              "1  2019/12/14   9.3  15.9   3.2     0.0   2.0   8.9\n",
              "2  2019/12/15   7.8  11.1   4.0     0.0   2.3   6.3\n",
              "3  2019/12/16   6.9  12.5   1.3     0.0   1.1   8.9\n",
              "4  2019/12/17   8.2  10.3   5.7     2.0   1.1   0.2\n",
              "5  2019/12/18   9.9  15.0   4.8     0.0   1.2   4.3"
            ]
          },
          "metadata": {
            "tags": []
          },
          "execution_count": 93
        }
      ]
    },
    {
      "cell_type": "code",
      "metadata": {
        "id": "hw16gV87jcZm"
      },
      "source": [
        "df = df.dropna(axis=1).head()"
      ],
      "execution_count": null,
      "outputs": []
    },
    {
      "cell_type": "markdown",
      "metadata": {
        "id": "e3SnYAI_QStQ"
      },
      "source": [
        "# **１５問目：ユニークな値と出現回数**"
      ]
    },
    {
      "cell_type": "code",
      "metadata": {
        "id": "EwhMVj5XQlT4",
        "colab": {
          "base_uri": "https://localhost:8080/",
          "height": 419
        },
        "outputId": "ac7a516d-e6a7-48f0-dc95-7ceb1b7a17ad"
      },
      "source": [
        "df_iris = pd.read_csv('iris.csv')\n",
        "df_iris"
      ],
      "execution_count": 94,
      "outputs": [
        {
          "output_type": "execute_result",
          "data": {
            "text/html": [
              "<div>\n",
              "<style scoped>\n",
              "    .dataframe tbody tr th:only-of-type {\n",
              "        vertical-align: middle;\n",
              "    }\n",
              "\n",
              "    .dataframe tbody tr th {\n",
              "        vertical-align: top;\n",
              "    }\n",
              "\n",
              "    .dataframe thead th {\n",
              "        text-align: right;\n",
              "    }\n",
              "</style>\n",
              "<table border=\"1\" class=\"dataframe\">\n",
              "  <thead>\n",
              "    <tr style=\"text-align: right;\">\n",
              "      <th></th>\n",
              "      <th>sepal-length</th>\n",
              "      <th>sepal-width</th>\n",
              "      <th>petal-length</th>\n",
              "      <th>petal-width</th>\n",
              "      <th>Class</th>\n",
              "    </tr>\n",
              "  </thead>\n",
              "  <tbody>\n",
              "    <tr>\n",
              "      <th>0</th>\n",
              "      <td>5.1</td>\n",
              "      <td>3.5</td>\n",
              "      <td>1.4</td>\n",
              "      <td>0.2</td>\n",
              "      <td>Iris-setosa</td>\n",
              "    </tr>\n",
              "    <tr>\n",
              "      <th>1</th>\n",
              "      <td>4.9</td>\n",
              "      <td>3.0</td>\n",
              "      <td>1.4</td>\n",
              "      <td>0.2</td>\n",
              "      <td>Iris-setosa</td>\n",
              "    </tr>\n",
              "    <tr>\n",
              "      <th>2</th>\n",
              "      <td>4.7</td>\n",
              "      <td>3.2</td>\n",
              "      <td>1.3</td>\n",
              "      <td>0.2</td>\n",
              "      <td>Iris-setosa</td>\n",
              "    </tr>\n",
              "    <tr>\n",
              "      <th>3</th>\n",
              "      <td>4.6</td>\n",
              "      <td>3.1</td>\n",
              "      <td>1.5</td>\n",
              "      <td>0.2</td>\n",
              "      <td>Iris-setosa</td>\n",
              "    </tr>\n",
              "    <tr>\n",
              "      <th>4</th>\n",
              "      <td>5.0</td>\n",
              "      <td>3.6</td>\n",
              "      <td>1.4</td>\n",
              "      <td>0.2</td>\n",
              "      <td>Iris-setosa</td>\n",
              "    </tr>\n",
              "    <tr>\n",
              "      <th>...</th>\n",
              "      <td>...</td>\n",
              "      <td>...</td>\n",
              "      <td>...</td>\n",
              "      <td>...</td>\n",
              "      <td>...</td>\n",
              "    </tr>\n",
              "    <tr>\n",
              "      <th>151</th>\n",
              "      <td>12.5</td>\n",
              "      <td>3.1</td>\n",
              "      <td>5.1</td>\n",
              "      <td>1.8</td>\n",
              "      <td>Iris-virginica</td>\n",
              "    </tr>\n",
              "    <tr>\n",
              "      <th>152</th>\n",
              "      <td>13.4</td>\n",
              "      <td>2.7</td>\n",
              "      <td>5.1</td>\n",
              "      <td>1.8</td>\n",
              "      <td>Iris-virginica</td>\n",
              "    </tr>\n",
              "    <tr>\n",
              "      <th>153</th>\n",
              "      <td>13.2</td>\n",
              "      <td>3.2</td>\n",
              "      <td>5.1</td>\n",
              "      <td>1.8</td>\n",
              "      <td>Iris-versicolor</td>\n",
              "    </tr>\n",
              "    <tr>\n",
              "      <th>154</th>\n",
              "      <td>15.2</td>\n",
              "      <td>2.3</td>\n",
              "      <td>5.1</td>\n",
              "      <td>1.8</td>\n",
              "      <td>Iris-versicolor</td>\n",
              "    </tr>\n",
              "    <tr>\n",
              "      <th>155</th>\n",
              "      <td>14.2</td>\n",
              "      <td>2.4</td>\n",
              "      <td>5.1</td>\n",
              "      <td>1.8</td>\n",
              "      <td>Iris-versicolor</td>\n",
              "    </tr>\n",
              "  </tbody>\n",
              "</table>\n",
              "<p>156 rows × 5 columns</p>\n",
              "</div>"
            ],
            "text/plain": [
              "     sepal-length  sepal-width  petal-length  petal-width            Class\n",
              "0             5.1          3.5           1.4          0.2      Iris-setosa\n",
              "1             4.9          3.0           1.4          0.2      Iris-setosa\n",
              "2             4.7          3.2           1.3          0.2      Iris-setosa\n",
              "3             4.6          3.1           1.5          0.2      Iris-setosa\n",
              "4             5.0          3.6           1.4          0.2      Iris-setosa\n",
              "..            ...          ...           ...          ...              ...\n",
              "151          12.5          3.1           5.1          1.8   Iris-virginica\n",
              "152          13.4          2.7           5.1          1.8   Iris-virginica\n",
              "153          13.2          3.2           5.1          1.8  Iris-versicolor\n",
              "154          15.2          2.3           5.1          1.8  Iris-versicolor\n",
              "155          14.2          2.4           5.1          1.8  Iris-versicolor\n",
              "\n",
              "[156 rows x 5 columns]"
            ]
          },
          "metadata": {
            "tags": []
          },
          "execution_count": 94
        }
      ]
    },
    {
      "cell_type": "code",
      "metadata": {
        "colab": {
          "base_uri": "https://localhost:8080/"
        },
        "id": "6WhZRcF6jwOp",
        "outputId": "89134558-5188-43aa-c122-a5caf305b39e"
      },
      "source": [
        "df_iris['Class'].value_counts()"
      ],
      "execution_count": 95,
      "outputs": [
        {
          "output_type": "execute_result",
          "data": {
            "text/plain": [
              "Iris-virginica     53\n",
              "Iris-versicolor    53\n",
              "Iris-setosa        50\n",
              "Name: Class, dtype: int64"
            ]
          },
          "metadata": {
            "tags": []
          },
          "execution_count": 95
        }
      ]
    },
    {
      "cell_type": "markdown",
      "metadata": {
        "id": "2NA8UNe7QS5Y"
      },
      "source": [
        "# **１６問目：グループごとの集計**"
      ]
    },
    {
      "cell_type": "markdown",
      "metadata": {
        "id": "LumjXVZAkRbI"
      },
      "source": [
        "groupby('Class')　→まずはグループを選択　　　　　　　　　　.mean()　→ 集計を行う（mean以外も様々ある）"
      ]
    },
    {
      "cell_type": "code",
      "metadata": {
        "id": "gC8korucQlp2",
        "colab": {
          "base_uri": "https://localhost:8080/",
          "height": 173
        },
        "outputId": "db33c3f2-ddf4-4a15-c73b-763d74386d0c"
      },
      "source": [
        "df_iris.groupby('Class').mean()"
      ],
      "execution_count": 97,
      "outputs": [
        {
          "output_type": "execute_result",
          "data": {
            "text/html": [
              "<div>\n",
              "<style scoped>\n",
              "    .dataframe tbody tr th:only-of-type {\n",
              "        vertical-align: middle;\n",
              "    }\n",
              "\n",
              "    .dataframe tbody tr th {\n",
              "        vertical-align: top;\n",
              "    }\n",
              "\n",
              "    .dataframe thead th {\n",
              "        text-align: right;\n",
              "    }\n",
              "</style>\n",
              "<table border=\"1\" class=\"dataframe\">\n",
              "  <thead>\n",
              "    <tr style=\"text-align: right;\">\n",
              "      <th></th>\n",
              "      <th>sepal-length</th>\n",
              "      <th>sepal-width</th>\n",
              "      <th>petal-length</th>\n",
              "      <th>petal-width</th>\n",
              "    </tr>\n",
              "    <tr>\n",
              "      <th>Class</th>\n",
              "      <th></th>\n",
              "      <th></th>\n",
              "      <th></th>\n",
              "      <th></th>\n",
              "    </tr>\n",
              "  </thead>\n",
              "  <tbody>\n",
              "    <tr>\n",
              "      <th>Iris-setosa</th>\n",
              "      <td>5.004255</td>\n",
              "      <td>3.434000</td>\n",
              "      <td>1.454000</td>\n",
              "      <td>0.244000</td>\n",
              "    </tr>\n",
              "    <tr>\n",
              "      <th>Iris-versicolor</th>\n",
              "      <td>6.403774</td>\n",
              "      <td>2.762264</td>\n",
              "      <td>4.307547</td>\n",
              "      <td>1.352830</td>\n",
              "    </tr>\n",
              "    <tr>\n",
              "      <th>Iris-virginica</th>\n",
              "      <td>6.937736</td>\n",
              "      <td>2.979245</td>\n",
              "      <td>5.526415</td>\n",
              "      <td>2.013208</td>\n",
              "    </tr>\n",
              "  </tbody>\n",
              "</table>\n",
              "</div>"
            ],
            "text/plain": [
              "                 sepal-length  sepal-width  petal-length  petal-width\n",
              "Class                                                                \n",
              "Iris-setosa          5.004255     3.434000      1.454000     0.244000\n",
              "Iris-versicolor      6.403774     2.762264      4.307547     1.352830\n",
              "Iris-virginica       6.937736     2.979245      5.526415     2.013208"
            ]
          },
          "metadata": {
            "tags": []
          },
          "execution_count": 97
        }
      ]
    },
    {
      "cell_type": "markdown",
      "metadata": {
        "id": "B96NerJ3QTPt"
      },
      "source": [
        "# **１７問目：統計量の確認**"
      ]
    },
    {
      "cell_type": "markdown",
      "metadata": {
        "id": "wmdVt_0Tkuki"
      },
      "source": [
        "【これは暗記】 \n",
        "\n",
        "mean()　”平均値”\n",
        "\n",
        "median()　”中央値”\n",
        "\n",
        "std()　”標準偏差”\n",
        "\n",
        "max()　”最大値”\n",
        "\n",
        "min()　”最小値”\n",
        "\n",
        "describe() ”カラムごとに表形式で統計量等を出力”"
      ]
    },
    {
      "cell_type": "code",
      "metadata": {
        "id": "n6a9BlEyQmhB",
        "colab": {
          "base_uri": "https://localhost:8080/"
        },
        "outputId": "9618a399-b483-4e35-ad6b-1254196a0a46"
      },
      "source": [
        "df.mean()"
      ],
      "execution_count": 98,
      "outputs": [
        {
          "output_type": "execute_result",
          "data": {
            "text/plain": [
              "平均気温      16.213896\n",
              "最高気温      20.466757\n",
              "最低気温      12.536785\n",
              "降水量の合計     3.882834\n",
              "最深積雪            NaN\n",
              "平均雲量            NaN\n",
              "平均蒸気圧           NaN\n",
              "平均風速       1.848774\n",
              "日照時間       5.118256\n",
              "dtype: float64"
            ]
          },
          "metadata": {
            "tags": []
          },
          "execution_count": 98
        }
      ]
    },
    {
      "cell_type": "code",
      "metadata": {
        "colab": {
          "base_uri": "https://localhost:8080/"
        },
        "id": "gp6kpb7Xkt8_",
        "outputId": "754bf628-c13e-4e38-e1dc-ab227212e8a9"
      },
      "source": [
        "df.median()"
      ],
      "execution_count": 100,
      "outputs": [
        {
          "output_type": "execute_result",
          "data": {
            "text/plain": [
              "平均気温      15.3\n",
              "最高気温      19.9\n",
              "最低気温      10.9\n",
              "降水量の合計     0.0\n",
              "最深積雪       NaN\n",
              "平均雲量       NaN\n",
              "平均蒸気圧      NaN\n",
              "平均風速       1.7\n",
              "日照時間       4.8\n",
              "dtype: float64"
            ]
          },
          "metadata": {
            "tags": []
          },
          "execution_count": 100
        }
      ]
    },
    {
      "cell_type": "code",
      "metadata": {
        "colab": {
          "base_uri": "https://localhost:8080/"
        },
        "id": "06u17xePkqTg",
        "outputId": "969c933f-41e9-4668-ab3b-fa0116ff40cc"
      },
      "source": [
        "df.std()"
      ],
      "execution_count": 99,
      "outputs": [
        {
          "output_type": "execute_result",
          "data": {
            "text/plain": [
              "平均気温       7.597900\n",
              "最高気温       7.771437\n",
              "最低気温       8.147217\n",
              "降水量の合計    10.198369\n",
              "最深積雪            NaN\n",
              "平均雲量            NaN\n",
              "平均蒸気圧           NaN\n",
              "平均風速       0.704119\n",
              "日照時間       4.237862\n",
              "dtype: float64"
            ]
          },
          "metadata": {
            "tags": []
          },
          "execution_count": 99
        }
      ]
    },
    {
      "cell_type": "code",
      "metadata": {
        "colab": {
          "base_uri": "https://localhost:8080/"
        },
        "id": "QEsSm_wjlHDr",
        "outputId": "f9752030-10c6-49df-9879-554fc6480868"
      },
      "source": [
        "df.max()"
      ],
      "execution_count": 101,
      "outputs": [
        {
          "output_type": "execute_result",
          "data": {
            "text/plain": [
              "年月日       2020/9/9\n",
              "平均気温          31.2\n",
              "最高気温          37.2\n",
              "最低気温          27.8\n",
              "降水量の合計        77.5\n",
              "最深積雪           NaN\n",
              "平均雲量           NaN\n",
              "平均蒸気圧          NaN\n",
              "平均風速           4.4\n",
              "日照時間          13.5\n",
              "dtype: object"
            ]
          },
          "metadata": {
            "tags": []
          },
          "execution_count": 101
        }
      ]
    },
    {
      "cell_type": "code",
      "metadata": {
        "colab": {
          "base_uri": "https://localhost:8080/"
        },
        "id": "pj_tBlnllJsQ",
        "outputId": "f5f46b5d-50fd-4c7b-a07a-748e8360c656"
      },
      "source": [
        "df.min()"
      ],
      "execution_count": 102,
      "outputs": [
        {
          "output_type": "execute_result",
          "data": {
            "text/plain": [
              "年月日       2019/12/14\n",
              "平均気温             1.8\n",
              "最高気温             5.5\n",
              "最低気温            -4.3\n",
              "降水量の合計             0\n",
              "最深積雪             NaN\n",
              "平均雲量             NaN\n",
              "平均蒸気圧            NaN\n",
              "平均風速             0.7\n",
              "日照時間               0\n",
              "dtype: object"
            ]
          },
          "metadata": {
            "tags": []
          },
          "execution_count": 102
        }
      ]
    },
    {
      "cell_type": "code",
      "metadata": {
        "colab": {
          "base_uri": "https://localhost:8080/",
          "height": 351
        },
        "id": "qv5LGe1Ult5D",
        "outputId": "edd22faa-a2d9-48d7-c866-7af093354aae"
      },
      "source": [
        "df.describe() "
      ],
      "execution_count": 103,
      "outputs": [
        {
          "output_type": "execute_result",
          "data": {
            "text/html": [
              "<div>\n",
              "<style scoped>\n",
              "    .dataframe tbody tr th:only-of-type {\n",
              "        vertical-align: middle;\n",
              "    }\n",
              "\n",
              "    .dataframe tbody tr th {\n",
              "        vertical-align: top;\n",
              "    }\n",
              "\n",
              "    .dataframe thead th {\n",
              "        text-align: right;\n",
              "    }\n",
              "</style>\n",
              "<table border=\"1\" class=\"dataframe\">\n",
              "  <thead>\n",
              "    <tr style=\"text-align: right;\">\n",
              "      <th></th>\n",
              "      <th>平均気温</th>\n",
              "      <th>最高気温</th>\n",
              "      <th>最低気温</th>\n",
              "      <th>降水量の合計</th>\n",
              "      <th>最深積雪</th>\n",
              "      <th>平均雲量</th>\n",
              "      <th>平均蒸気圧</th>\n",
              "      <th>平均風速</th>\n",
              "      <th>日照時間</th>\n",
              "    </tr>\n",
              "  </thead>\n",
              "  <tbody>\n",
              "    <tr>\n",
              "      <th>count</th>\n",
              "      <td>367.000000</td>\n",
              "      <td>367.000000</td>\n",
              "      <td>367.000000</td>\n",
              "      <td>367.000000</td>\n",
              "      <td>0.0</td>\n",
              "      <td>0.0</td>\n",
              "      <td>0.0</td>\n",
              "      <td>367.000000</td>\n",
              "      <td>367.000000</td>\n",
              "    </tr>\n",
              "    <tr>\n",
              "      <th>mean</th>\n",
              "      <td>16.213896</td>\n",
              "      <td>20.466757</td>\n",
              "      <td>12.536785</td>\n",
              "      <td>3.882834</td>\n",
              "      <td>NaN</td>\n",
              "      <td>NaN</td>\n",
              "      <td>NaN</td>\n",
              "      <td>1.848774</td>\n",
              "      <td>5.118256</td>\n",
              "    </tr>\n",
              "    <tr>\n",
              "      <th>std</th>\n",
              "      <td>7.597900</td>\n",
              "      <td>7.771437</td>\n",
              "      <td>8.147217</td>\n",
              "      <td>10.198369</td>\n",
              "      <td>NaN</td>\n",
              "      <td>NaN</td>\n",
              "      <td>NaN</td>\n",
              "      <td>0.704119</td>\n",
              "      <td>4.237862</td>\n",
              "    </tr>\n",
              "    <tr>\n",
              "      <th>min</th>\n",
              "      <td>1.800000</td>\n",
              "      <td>5.500000</td>\n",
              "      <td>-4.300000</td>\n",
              "      <td>0.000000</td>\n",
              "      <td>NaN</td>\n",
              "      <td>NaN</td>\n",
              "      <td>NaN</td>\n",
              "      <td>0.700000</td>\n",
              "      <td>0.000000</td>\n",
              "    </tr>\n",
              "    <tr>\n",
              "      <th>25%</th>\n",
              "      <td>9.350000</td>\n",
              "      <td>13.950000</td>\n",
              "      <td>5.600000</td>\n",
              "      <td>0.000000</td>\n",
              "      <td>NaN</td>\n",
              "      <td>NaN</td>\n",
              "      <td>NaN</td>\n",
              "      <td>1.400000</td>\n",
              "      <td>0.400000</td>\n",
              "    </tr>\n",
              "    <tr>\n",
              "      <th>50%</th>\n",
              "      <td>15.300000</td>\n",
              "      <td>19.900000</td>\n",
              "      <td>10.900000</td>\n",
              "      <td>0.000000</td>\n",
              "      <td>NaN</td>\n",
              "      <td>NaN</td>\n",
              "      <td>NaN</td>\n",
              "      <td>1.700000</td>\n",
              "      <td>4.800000</td>\n",
              "    </tr>\n",
              "    <tr>\n",
              "      <th>75%</th>\n",
              "      <td>22.550000</td>\n",
              "      <td>26.850000</td>\n",
              "      <td>19.450000</td>\n",
              "      <td>1.750000</td>\n",
              "      <td>NaN</td>\n",
              "      <td>NaN</td>\n",
              "      <td>NaN</td>\n",
              "      <td>2.200000</td>\n",
              "      <td>9.100000</td>\n",
              "    </tr>\n",
              "    <tr>\n",
              "      <th>max</th>\n",
              "      <td>31.200000</td>\n",
              "      <td>37.200000</td>\n",
              "      <td>27.800000</td>\n",
              "      <td>77.500000</td>\n",
              "      <td>NaN</td>\n",
              "      <td>NaN</td>\n",
              "      <td>NaN</td>\n",
              "      <td>4.400000</td>\n",
              "      <td>13.500000</td>\n",
              "    </tr>\n",
              "  </tbody>\n",
              "</table>\n",
              "</div>"
            ],
            "text/plain": [
              "             平均気温        最高気温        最低気温  ...  平均蒸気圧        平均風速        日照時間\n",
              "count  367.000000  367.000000  367.000000  ...    0.0  367.000000  367.000000\n",
              "mean    16.213896   20.466757   12.536785  ...    NaN    1.848774    5.118256\n",
              "std      7.597900    7.771437    8.147217  ...    NaN    0.704119    4.237862\n",
              "min      1.800000    5.500000   -4.300000  ...    NaN    0.700000    0.000000\n",
              "25%      9.350000   13.950000    5.600000  ...    NaN    1.400000    0.400000\n",
              "50%     15.300000   19.900000   10.900000  ...    NaN    1.700000    4.800000\n",
              "75%     22.550000   26.850000   19.450000  ...    NaN    2.200000    9.100000\n",
              "max     31.200000   37.200000   27.800000  ...    NaN    4.400000   13.500000\n",
              "\n",
              "[8 rows x 9 columns]"
            ]
          },
          "metadata": {
            "tags": []
          },
          "execution_count": 103
        }
      ]
    },
    {
      "cell_type": "markdown",
      "metadata": {
        "id": "DsPkaB1hQTVs"
      },
      "source": [
        "# **１８問目：折れ線グラフの表示**"
      ]
    },
    {
      "cell_type": "code",
      "metadata": {
        "id": "27YnShDuQnRT"
      },
      "source": [
        "import matplotlib.pyplot as plt"
      ],
      "execution_count": 104,
      "outputs": []
    },
    {
      "cell_type": "markdown",
      "metadata": {
        "id": "D5bS2ew5l9ng"
      },
      "source": [
        "まずはデータが日付順（正確）に並んでいるか確認\n",
        "バラバラだった場合ソートする"
      ]
    },
    {
      "cell_type": "markdown",
      "metadata": {
        "id": "rSCNilGtmguZ"
      },
      "source": [
        "legend=False\n",
        "\n",
        "これはデフォTrueで判例をグラフ上に出すが日本語化していないと上手く表示されない"
      ]
    },
    {
      "cell_type": "code",
      "metadata": {
        "colab": {
          "base_uri": "https://localhost:8080/",
          "height": 503
        },
        "id": "rF8MO2sBlynJ",
        "outputId": "e9fc8b0b-6294-4a7f-f8cd-f4af1f97171d"
      },
      "source": [
        "df[:50].plot(x='年月日', y=['平均気温', '最高気温', '最低気温'], legend=False)"
      ],
      "execution_count": 107,
      "outputs": [
        {
          "output_type": "execute_result",
          "data": {
            "text/plain": [
              "<matplotlib.axes._subplots.AxesSubplot at 0x7f050c997490>"
            ]
          },
          "metadata": {
            "tags": []
          },
          "execution_count": 107
        },
        {
          "output_type": "stream",
          "text": [
            "/usr/local/lib/python3.7/dist-packages/matplotlib/backends/backend_agg.py:214: RuntimeWarning: Glyph 24180 missing from current font.\n",
            "  font.set_text(s, 0.0, flags=flags)\n",
            "/usr/local/lib/python3.7/dist-packages/matplotlib/backends/backend_agg.py:214: RuntimeWarning: Glyph 26376 missing from current font.\n",
            "  font.set_text(s, 0.0, flags=flags)\n",
            "/usr/local/lib/python3.7/dist-packages/matplotlib/backends/backend_agg.py:214: RuntimeWarning: Glyph 26085 missing from current font.\n",
            "  font.set_text(s, 0.0, flags=flags)\n",
            "/usr/local/lib/python3.7/dist-packages/matplotlib/backends/backend_agg.py:183: RuntimeWarning: Glyph 24180 missing from current font.\n",
            "  font.set_text(s, 0, flags=flags)\n",
            "/usr/local/lib/python3.7/dist-packages/matplotlib/backends/backend_agg.py:183: RuntimeWarning: Glyph 26376 missing from current font.\n",
            "  font.set_text(s, 0, flags=flags)\n",
            "/usr/local/lib/python3.7/dist-packages/matplotlib/backends/backend_agg.py:183: RuntimeWarning: Glyph 26085 missing from current font.\n",
            "  font.set_text(s, 0, flags=flags)\n"
          ],
          "name": "stderr"
        },
        {
          "output_type": "display_data",
          "data": {
            "image/png": "[encoded data removed]",
            "text/plain": [
              "<Figure size 432x288 with 1 Axes>"
            ]
          },
          "metadata": {
            "tags": [],
            "needs_background": "light"
          }
        }
      ]
    },
    {
      "cell_type": "markdown",
      "metadata": {
        "id": "hq9oBrFSQTgw"
      },
      "source": [
        "# **１９問目：相関係数の算出**"
      ]
    },
    {
      "cell_type": "markdown",
      "metadata": {
        "id": "R_hjyJV2m1uF"
      },
      "source": [
        "相関係数\n",
        "両者が関連性のある変化をする値\n",
        "正の相関〜負の相関で　1〜-1まで"
      ]
    },
    {
      "cell_type": "code",
      "metadata": {
        "id": "eWeLO-UcQn1G",
        "colab": {
          "base_uri": "https://localhost:8080/",
          "height": 142
        },
        "outputId": "ef732f43-37c2-4302-ebf8-edcca48dc10f"
      },
      "source": [
        "df[['平均気温', '降水量の合計', '日照時間']].corr()"
      ],
      "execution_count": 108,
      "outputs": [
        {
          "output_type": "execute_result",
          "data": {
            "text/html": [
              "<div>\n",
              "<style scoped>\n",
              "    .dataframe tbody tr th:only-of-type {\n",
              "        vertical-align: middle;\n",
              "    }\n",
              "\n",
              "    .dataframe tbody tr th {\n",
              "        vertical-align: top;\n",
              "    }\n",
              "\n",
              "    .dataframe thead th {\n",
              "        text-align: right;\n",
              "    }\n",
              "</style>\n",
              "<table border=\"1\" class=\"dataframe\">\n",
              "  <thead>\n",
              "    <tr style=\"text-align: right;\">\n",
              "      <th></th>\n",
              "      <th>平均気温</th>\n",
              "      <th>降水量の合計</th>\n",
              "      <th>日照時間</th>\n",
              "    </tr>\n",
              "  </thead>\n",
              "  <tbody>\n",
              "    <tr>\n",
              "      <th>平均気温</th>\n",
              "      <td>1.000000</td>\n",
              "      <td>0.027858</td>\n",
              "      <td>0.071758</td>\n",
              "    </tr>\n",
              "    <tr>\n",
              "      <th>降水量の合計</th>\n",
              "      <td>0.027858</td>\n",
              "      <td>1.000000</td>\n",
              "      <td>-0.367911</td>\n",
              "    </tr>\n",
              "    <tr>\n",
              "      <th>日照時間</th>\n",
              "      <td>0.071758</td>\n",
              "      <td>-0.367911</td>\n",
              "      <td>1.000000</td>\n",
              "    </tr>\n",
              "  </tbody>\n",
              "</table>\n",
              "</div>"
            ],
            "text/plain": [
              "            平均気温    降水量の合計      日照時間\n",
              "平均気温    1.000000  0.027858  0.071758\n",
              "降水量の合計  0.027858  1.000000 -0.367911\n",
              "日照時間    0.071758 -0.367911  1.000000"
            ]
          },
          "metadata": {
            "tags": []
          },
          "execution_count": 108
        }
      ]
    },
    {
      "cell_type": "code",
      "metadata": {
        "colab": {
          "base_uri": "https://localhost:8080/",
          "height": 892
        },
        "id": "VSLSIeP1nV45",
        "outputId": "7be5b5f6-19fd-446b-dfd4-c37d09f25070"
      },
      "source": [
        "df.corr()"
      ],
      "execution_count": 109,
      "outputs": [
        {
          "output_type": "execute_result",
          "data": {
            "text/html": [
              "<div>\n",
              "<style scoped>\n",
              "    .dataframe tbody tr th:only-of-type {\n",
              "        vertical-align: middle;\n",
              "    }\n",
              "\n",
              "    .dataframe tbody tr th {\n",
              "        vertical-align: top;\n",
              "    }\n",
              "\n",
              "    .dataframe thead th {\n",
              "        text-align: right;\n",
              "    }\n",
              "</style>\n",
              "<table border=\"1\" class=\"dataframe\">\n",
              "  <thead>\n",
              "    <tr style=\"text-align: right;\">\n",
              "      <th></th>\n",
              "      <th>平均気温</th>\n",
              "      <th>最高気温</th>\n",
              "      <th>最低気温</th>\n",
              "      <th>降水量の合計</th>\n",
              "      <th>最深積雪</th>\n",
              "      <th>平均雲量</th>\n",
              "      <th>平均蒸気圧</th>\n",
              "      <th>平均風速</th>\n",
              "      <th>日照時間</th>\n",
              "    </tr>\n",
              "  </thead>\n",
              "  <tbody>\n",
              "    <tr>\n",
              "      <th>平均気温</th>\n",
              "      <td>1.000000</td>\n",
              "      <td>0.979122</td>\n",
              "      <td>0.980567</td>\n",
              "      <td>0.027858</td>\n",
              "      <td>NaN</td>\n",
              "      <td>NaN</td>\n",
              "      <td>NaN</td>\n",
              "      <td>0.226380</td>\n",
              "      <td>0.071758</td>\n",
              "    </tr>\n",
              "    <tr>\n",
              "      <th>最高気温</th>\n",
              "      <td>0.979122</td>\n",
              "      <td>1.000000</td>\n",
              "      <td>0.928838</td>\n",
              "      <td>-0.041404</td>\n",
              "      <td>NaN</td>\n",
              "      <td>NaN</td>\n",
              "      <td>NaN</td>\n",
              "      <td>0.198049</td>\n",
              "      <td>0.213331</td>\n",
              "    </tr>\n",
              "    <tr>\n",
              "      <th>最低気温</th>\n",
              "      <td>0.980567</td>\n",
              "      <td>0.928838</td>\n",
              "      <td>1.000000</td>\n",
              "      <td>0.078941</td>\n",
              "      <td>NaN</td>\n",
              "      <td>NaN</td>\n",
              "      <td>NaN</td>\n",
              "      <td>0.236879</td>\n",
              "      <td>-0.062592</td>\n",
              "    </tr>\n",
              "    <tr>\n",
              "      <th>降水量の合計</th>\n",
              "      <td>0.027858</td>\n",
              "      <td>-0.041404</td>\n",
              "      <td>0.078941</td>\n",
              "      <td>1.000000</td>\n",
              "      <td>NaN</td>\n",
              "      <td>NaN</td>\n",
              "      <td>NaN</td>\n",
              "      <td>0.186971</td>\n",
              "      <td>-0.367911</td>\n",
              "    </tr>\n",
              "    <tr>\n",
              "      <th>最深積雪</th>\n",
              "      <td>NaN</td>\n",
              "      <td>NaN</td>\n",
              "      <td>NaN</td>\n",
              "      <td>NaN</td>\n",
              "      <td>NaN</td>\n",
              "      <td>NaN</td>\n",
              "      <td>NaN</td>\n",
              "      <td>NaN</td>\n",
              "      <td>NaN</td>\n",
              "    </tr>\n",
              "    <tr>\n",
              "      <th>平均雲量</th>\n",
              "      <td>NaN</td>\n",
              "      <td>NaN</td>\n",
              "      <td>NaN</td>\n",
              "      <td>NaN</td>\n",
              "      <td>NaN</td>\n",
              "      <td>NaN</td>\n",
              "      <td>NaN</td>\n",
              "      <td>NaN</td>\n",
              "      <td>NaN</td>\n",
              "    </tr>\n",
              "    <tr>\n",
              "      <th>平均蒸気圧</th>\n",
              "      <td>NaN</td>\n",
              "      <td>NaN</td>\n",
              "      <td>NaN</td>\n",
              "      <td>NaN</td>\n",
              "      <td>NaN</td>\n",
              "      <td>NaN</td>\n",
              "      <td>NaN</td>\n",
              "      <td>NaN</td>\n",
              "      <td>NaN</td>\n",
              "    </tr>\n",
              "    <tr>\n",
              "      <th>平均風速</th>\n",
              "      <td>0.226380</td>\n",
              "      <td>0.198049</td>\n",
              "      <td>0.236879</td>\n",
              "      <td>0.186971</td>\n",
              "      <td>NaN</td>\n",
              "      <td>NaN</td>\n",
              "      <td>NaN</td>\n",
              "      <td>1.000000</td>\n",
              "      <td>0.098581</td>\n",
              "    </tr>\n",
              "    <tr>\n",
              "      <th>日照時間</th>\n",
              "      <td>0.071758</td>\n",
              "      <td>0.213331</td>\n",
              "      <td>-0.062592</td>\n",
              "      <td>-0.367911</td>\n",
              "      <td>NaN</td>\n",
              "      <td>NaN</td>\n",
              "      <td>NaN</td>\n",
              "      <td>0.098581</td>\n",
              "      <td>1.000000</td>\n",
              "    </tr>\n",
              "  </tbody>\n",
              "</table>\n",
              "</div>"
            ],
            "text/plain": [
              "            平均気温      最高気温      最低気温    降水量の合計  ...  平均雲量  平均蒸気圧      平均風速      日照時間\n",
              "平均気温    1.000000  0.979122  0.980567  0.027858  ...   NaN    NaN  0.226380  0.071758\n",
              "最高気温    0.979122  1.000000  0.928838 -0.041404  ...   NaN    NaN  0.198049  0.213331\n",
              "最低気温    0.980567  0.928838  1.000000  0.078941  ...   NaN    NaN  0.236879 -0.062592\n",
              "降水量の合計  0.027858 -0.041404  0.078941  1.000000  ...   NaN    NaN  0.186971 -0.367911\n",
              "最深積雪         NaN       NaN       NaN       NaN  ...   NaN    NaN       NaN       NaN\n",
              "平均雲量         NaN       NaN       NaN       NaN  ...   NaN    NaN       NaN       NaN\n",
              "平均蒸気圧        NaN       NaN       NaN       NaN  ...   NaN    NaN       NaN       NaN\n",
              "平均風速    0.226380  0.198049  0.236879  0.186971  ...   NaN    NaN  1.000000  0.098581\n",
              "日照時間    0.071758  0.213331 -0.062592 -0.367911  ...   NaN    NaN  0.098581  1.000000\n",
              "\n",
              "[9 rows x 9 columns]"
            ]
          },
          "metadata": {
            "tags": []
          },
          "execution_count": 109
        }
      ]
    },
    {
      "cell_type": "markdown",
      "metadata": {
        "id": "rZj1468dQeJL"
      },
      "source": [
        "# **２０問目：データの出力**"
      ]
    },
    {
      "cell_type": "code",
      "metadata": {
        "id": "1jEUNCVpQoTA",
        "colab": {
          "base_uri": "https://localhost:8080/",
          "height": 436
        },
        "outputId": "596811a0-e585-415e-c6df-10cf64665813"
      },
      "source": [
        "df.fillna(0)"
      ],
      "execution_count": 110,
      "outputs": [
        {
          "output_type": "execute_result",
          "data": {
            "text/html": [
              "<div>\n",
              "<style scoped>\n",
              "    .dataframe tbody tr th:only-of-type {\n",
              "        vertical-align: middle;\n",
              "    }\n",
              "\n",
              "    .dataframe tbody tr th {\n",
              "        vertical-align: top;\n",
              "    }\n",
              "\n",
              "    .dataframe thead th {\n",
              "        text-align: right;\n",
              "    }\n",
              "</style>\n",
              "<table border=\"1\" class=\"dataframe\">\n",
              "  <thead>\n",
              "    <tr style=\"text-align: right;\">\n",
              "      <th></th>\n",
              "      <th>年月日</th>\n",
              "      <th>平均気温</th>\n",
              "      <th>最高気温</th>\n",
              "      <th>最低気温</th>\n",
              "      <th>降水量の合計</th>\n",
              "      <th>最深積雪</th>\n",
              "      <th>平均雲量</th>\n",
              "      <th>平均蒸気圧</th>\n",
              "      <th>平均風速</th>\n",
              "      <th>日照時間</th>\n",
              "    </tr>\n",
              "  </thead>\n",
              "  <tbody>\n",
              "    <tr>\n",
              "      <th>1</th>\n",
              "      <td>2019/12/14</td>\n",
              "      <td>9.3</td>\n",
              "      <td>15.9</td>\n",
              "      <td>3.2</td>\n",
              "      <td>0.0</td>\n",
              "      <td>0.0</td>\n",
              "      <td>0.0</td>\n",
              "      <td>0.0</td>\n",
              "      <td>2.0</td>\n",
              "      <td>8.9</td>\n",
              "    </tr>\n",
              "    <tr>\n",
              "      <th>2</th>\n",
              "      <td>2019/12/15</td>\n",
              "      <td>7.8</td>\n",
              "      <td>11.1</td>\n",
              "      <td>4.0</td>\n",
              "      <td>0.0</td>\n",
              "      <td>0.0</td>\n",
              "      <td>0.0</td>\n",
              "      <td>0.0</td>\n",
              "      <td>2.3</td>\n",
              "      <td>6.3</td>\n",
              "    </tr>\n",
              "    <tr>\n",
              "      <th>3</th>\n",
              "      <td>2019/12/16</td>\n",
              "      <td>6.9</td>\n",
              "      <td>12.5</td>\n",
              "      <td>1.3</td>\n",
              "      <td>0.0</td>\n",
              "      <td>0.0</td>\n",
              "      <td>0.0</td>\n",
              "      <td>0.0</td>\n",
              "      <td>1.1</td>\n",
              "      <td>8.9</td>\n",
              "    </tr>\n",
              "    <tr>\n",
              "      <th>4</th>\n",
              "      <td>2019/12/17</td>\n",
              "      <td>8.2</td>\n",
              "      <td>10.3</td>\n",
              "      <td>5.7</td>\n",
              "      <td>2.0</td>\n",
              "      <td>0.0</td>\n",
              "      <td>0.0</td>\n",
              "      <td>0.0</td>\n",
              "      <td>1.1</td>\n",
              "      <td>0.2</td>\n",
              "    </tr>\n",
              "    <tr>\n",
              "      <th>5</th>\n",
              "      <td>2019/12/18</td>\n",
              "      <td>9.9</td>\n",
              "      <td>15.0</td>\n",
              "      <td>4.8</td>\n",
              "      <td>0.0</td>\n",
              "      <td>0.0</td>\n",
              "      <td>0.0</td>\n",
              "      <td>0.0</td>\n",
              "      <td>1.2</td>\n",
              "      <td>4.3</td>\n",
              "    </tr>\n",
              "    <tr>\n",
              "      <th>...</th>\n",
              "      <td>...</td>\n",
              "      <td>...</td>\n",
              "      <td>...</td>\n",
              "      <td>...</td>\n",
              "      <td>...</td>\n",
              "      <td>...</td>\n",
              "      <td>...</td>\n",
              "      <td>...</td>\n",
              "      <td>...</td>\n",
              "      <td>...</td>\n",
              "    </tr>\n",
              "    <tr>\n",
              "      <th>363</th>\n",
              "      <td>2020/12/10</td>\n",
              "      <td>8.7</td>\n",
              "      <td>11.1</td>\n",
              "      <td>6.0</td>\n",
              "      <td>0.5</td>\n",
              "      <td>0.0</td>\n",
              "      <td>0.0</td>\n",
              "      <td>0.0</td>\n",
              "      <td>1.4</td>\n",
              "      <td>0.0</td>\n",
              "    </tr>\n",
              "    <tr>\n",
              "      <th>364</th>\n",
              "      <td>2020/12/11</td>\n",
              "      <td>9.2</td>\n",
              "      <td>13.8</td>\n",
              "      <td>3.5</td>\n",
              "      <td>0.0</td>\n",
              "      <td>0.0</td>\n",
              "      <td>0.0</td>\n",
              "      <td>0.0</td>\n",
              "      <td>0.8</td>\n",
              "      <td>4.3</td>\n",
              "    </tr>\n",
              "    <tr>\n",
              "      <th>365</th>\n",
              "      <td>2020/12/12</td>\n",
              "      <td>10.4</td>\n",
              "      <td>14.0</td>\n",
              "      <td>8.0</td>\n",
              "      <td>0.0</td>\n",
              "      <td>0.0</td>\n",
              "      <td>0.0</td>\n",
              "      <td>0.0</td>\n",
              "      <td>1.4</td>\n",
              "      <td>1.4</td>\n",
              "    </tr>\n",
              "    <tr>\n",
              "      <th>366</th>\n",
              "      <td>2020/12/13</td>\n",
              "      <td>8.6</td>\n",
              "      <td>14.4</td>\n",
              "      <td>4.4</td>\n",
              "      <td>0.0</td>\n",
              "      <td>0.0</td>\n",
              "      <td>0.0</td>\n",
              "      <td>0.0</td>\n",
              "      <td>1.0</td>\n",
              "      <td>5.5</td>\n",
              "    </tr>\n",
              "    <tr>\n",
              "      <th>367</th>\n",
              "      <td>2020/12/14</td>\n",
              "      <td>7.8</td>\n",
              "      <td>12.2</td>\n",
              "      <td>4.4</td>\n",
              "      <td>0.0</td>\n",
              "      <td>0.0</td>\n",
              "      <td>0.0</td>\n",
              "      <td>0.0</td>\n",
              "      <td>1.9</td>\n",
              "      <td>4.4</td>\n",
              "    </tr>\n",
              "  </tbody>\n",
              "</table>\n",
              "<p>367 rows × 10 columns</p>\n",
              "</div>"
            ],
            "text/plain": [
              "            年月日  平均気温  最高気温  最低気温  降水量の合計  最深積雪  平均雲量  平均蒸気圧  平均風速  日照時間\n",
              "1    2019/12/14   9.3  15.9   3.2     0.0   0.0   0.0    0.0   2.0   8.9\n",
              "2    2019/12/15   7.8  11.1   4.0     0.0   0.0   0.0    0.0   2.3   6.3\n",
              "3    2019/12/16   6.9  12.5   1.3     0.0   0.0   0.0    0.0   1.1   8.9\n",
              "4    2019/12/17   8.2  10.3   5.7     2.0   0.0   0.0    0.0   1.1   0.2\n",
              "5    2019/12/18   9.9  15.0   4.8     0.0   0.0   0.0    0.0   1.2   4.3\n",
              "..          ...   ...   ...   ...     ...   ...   ...    ...   ...   ...\n",
              "363  2020/12/10   8.7  11.1   6.0     0.5   0.0   0.0    0.0   1.4   0.0\n",
              "364  2020/12/11   9.2  13.8   3.5     0.0   0.0   0.0    0.0   0.8   4.3\n",
              "365  2020/12/12  10.4  14.0   8.0     0.0   0.0   0.0    0.0   1.4   1.4\n",
              "366  2020/12/13   8.6  14.4   4.4     0.0   0.0   0.0    0.0   1.0   5.5\n",
              "367  2020/12/14   7.8  12.2   4.4     0.0   0.0   0.0    0.0   1.9   4.4\n",
              "\n",
              "[367 rows x 10 columns]"
            ]
          },
          "metadata": {
            "tags": []
          },
          "execution_count": 110
        }
      ]
    },
    {
      "cell_type": "code",
      "metadata": {
        "id": "lopK2Tzynkai"
      },
      "source": [
        "df.fillna(0).to_csv('export.csv', index=False)"
      ],
      "execution_count": 112,
      "outputs": []
    }
  ]
}